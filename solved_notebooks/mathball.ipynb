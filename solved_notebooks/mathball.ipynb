{
 "cells": [
  {
   "cell_type": "markdown",
   "metadata": {
    "id": "gHuyi0sZFx2U"
   },
   "source": [
    "##  Congratulations, you are now hired as a sport analytic. Your job is to give prediciton for the next Mathball tournament of the Six finest mathematicians in the world, which is a competition between Laplace, Gauss, Newton, Euler, Leibniz, Von-Neumann."
   ]
  },
  {
   "cell_type": "markdown",
   "metadata": {
    "id": "QPt5wfUxFx2W"
   },
   "source": [
    "## The mathball is just like football where a player a goal is legal only after scoring you answer correctly a math question."
   ]
  },
  {
   "cell_type": "markdown",
   "metadata": {
    "id": "MsWEFcSrFx2X"
   },
   "source": [
    "## Motivation:  \n",
    "### We want to infer a latent parameter - that is the 'strength' of a mathematician based only on their **scoring intensity**, and all we have are their scores and results, we can't accurately measure the 'strength' of a team.\n"
   ]
  },
  {
   "cell_type": "code",
   "execution_count": 1,
   "metadata": {
    "id": "KeAQeqwsFx2X",
    "tags": []
   },
   "outputs": [],
   "source": [
    "# imports\n",
    "import arviz as az\n",
    "import matplotlib.pyplot as plt\n",
    "import numpy as np\n",
    "import pandas as pd\n",
    "import pymc as pm\n",
    "import seaborn as sns\n",
    "import pickle as pkl"
   ]
  },
  {
   "cell_type": "markdown",
   "metadata": {
    "id": "zYLMKG5rFx2Y"
   },
   "source": [
    "## The input   looks like as follows:"
   ]
  },
  {
   "cell_type": "code",
   "execution_count": 2,
   "metadata": {
    "colab": {
     "base_uri": "https://localhost:8080/",
     "height": 206
    },
    "id": "06cnXgUZFx2Y",
    "outputId": "f6bcbf85-ac94-49cd-f755-31a172ade0a8",
    "tags": []
   },
   "outputs": [
    {
     "data": {
      "application/vnd.google.colaboratory.intrinsic+json": {
       "summary": "{\n  \"name\": \"df_all\",\n  \"rows\": 60,\n  \"fields\": [\n    {\n      \"column\": \"home_player\",\n      \"properties\": {\n        \"dtype\": \"category\",\n        \"num_unique_values\": 6,\n        \"samples\": [\n          \"Laplace\",\n          \"Gauss\",\n          \"Leibniz\"\n        ],\n        \"semantic_type\": \"\",\n        \"description\": \"\"\n      }\n    },\n    {\n      \"column\": \"away_player\",\n      \"properties\": {\n        \"dtype\": \"category\",\n        \"num_unique_values\": 6,\n        \"samples\": [\n          \"Von-Neumann\",\n          \"Euler\",\n          \"Newton\"\n        ],\n        \"semantic_type\": \"\",\n        \"description\": \"\"\n      }\n    },\n    {\n      \"column\": \"home_score\",\n      \"properties\": {\n        \"dtype\": \"number\",\n        \"std\": 14,\n        \"min\": 0,\n        \"max\": 68,\n        \"num_unique_values\": 29,\n        \"samples\": [\n          7,\n          3,\n          29\n        ],\n        \"semantic_type\": \"\",\n        \"description\": \"\"\n      }\n    },\n    {\n      \"column\": \"away_score\",\n      \"properties\": {\n        \"dtype\": \"number\",\n        \"std\": 12,\n        \"min\": 0,\n        \"max\": 63,\n        \"num_unique_values\": 31,\n        \"samples\": [\n          31,\n          61,\n          14\n        ],\n        \"semantic_type\": \"\",\n        \"description\": \"\"\n      }\n    },\n    {\n      \"column\": \"year\",\n      \"properties\": {\n        \"dtype\": \"number\",\n        \"std\": 1,\n        \"min\": 1897,\n        \"max\": 1900,\n        \"num_unique_values\": 4,\n        \"samples\": [\n          1898,\n          1900,\n          1897\n        ],\n        \"semantic_type\": \"\",\n        \"description\": \"\"\n      }\n    }\n  ]\n}",
       "type": "dataframe",
       "variable_name": "df_all"
      },
      "text/html": [
       "\n",
       "  <div id=\"df-b219f4bd-2326-4bfb-b349-bcd5492a5658\" class=\"colab-df-container\">\n",
       "    <div>\n",
       "<style scoped>\n",
       "    .dataframe tbody tr th:only-of-type {\n",
       "        vertical-align: middle;\n",
       "    }\n",
       "\n",
       "    .dataframe tbody tr th {\n",
       "        vertical-align: top;\n",
       "    }\n",
       "\n",
       "    .dataframe thead th {\n",
       "        text-align: right;\n",
       "    }\n",
       "</style>\n",
       "<table border=\"1\" class=\"dataframe\">\n",
       "  <thead>\n",
       "    <tr style=\"text-align: right;\">\n",
       "      <th></th>\n",
       "      <th>home_player</th>\n",
       "      <th>away_player</th>\n",
       "      <th>home_score</th>\n",
       "      <th>away_score</th>\n",
       "      <th>year</th>\n",
       "    </tr>\n",
       "  </thead>\n",
       "  <tbody>\n",
       "    <tr>\n",
       "      <th>0</th>\n",
       "      <td>Laplace</td>\n",
       "      <td>Von-Neumann</td>\n",
       "      <td>27</td>\n",
       "      <td>24</td>\n",
       "      <td>1897</td>\n",
       "    </tr>\n",
       "    <tr>\n",
       "      <th>1</th>\n",
       "      <td>Gauss</td>\n",
       "      <td>Euler</td>\n",
       "      <td>26</td>\n",
       "      <td>3</td>\n",
       "      <td>1897</td>\n",
       "    </tr>\n",
       "    <tr>\n",
       "      <th>2</th>\n",
       "      <td>Newton</td>\n",
       "      <td>Laplace</td>\n",
       "      <td>17</td>\n",
       "      <td>19</td>\n",
       "      <td>1897</td>\n",
       "    </tr>\n",
       "    <tr>\n",
       "      <th>3</th>\n",
       "      <td>Euler</td>\n",
       "      <td>Leibniz</td>\n",
       "      <td>23</td>\n",
       "      <td>15</td>\n",
       "      <td>1897</td>\n",
       "    </tr>\n",
       "    <tr>\n",
       "      <th>4</th>\n",
       "      <td>Laplace</td>\n",
       "      <td>Leibniz</td>\n",
       "      <td>31</td>\n",
       "      <td>10</td>\n",
       "      <td>1897</td>\n",
       "    </tr>\n",
       "  </tbody>\n",
       "</table>\n",
       "</div>\n",
       "    <div class=\"colab-df-buttons\">\n",
       "\n",
       "  <div class=\"colab-df-container\">\n",
       "    <button class=\"colab-df-convert\" onclick=\"convertToInteractive('df-b219f4bd-2326-4bfb-b349-bcd5492a5658')\"\n",
       "            title=\"Convert this dataframe to an interactive table.\"\n",
       "            style=\"display:none;\">\n",
       "\n",
       "  <svg xmlns=\"http://www.w3.org/2000/svg\" height=\"24px\" viewBox=\"0 -960 960 960\">\n",
       "    <path d=\"M120-120v-720h720v720H120Zm60-500h600v-160H180v160Zm220 220h160v-160H400v160Zm0 220h160v-160H400v160ZM180-400h160v-160H180v160Zm440 0h160v-160H620v160ZM180-180h160v-160H180v160Zm440 0h160v-160H620v160Z\"/>\n",
       "  </svg>\n",
       "    </button>\n",
       "\n",
       "  <style>\n",
       "    .colab-df-container {\n",
       "      display:flex;\n",
       "      gap: 12px;\n",
       "    }\n",
       "\n",
       "    .colab-df-convert {\n",
       "      background-color: #E8F0FE;\n",
       "      border: none;\n",
       "      border-radius: 50%;\n",
       "      cursor: pointer;\n",
       "      display: none;\n",
       "      fill: #1967D2;\n",
       "      height: 32px;\n",
       "      padding: 0 0 0 0;\n",
       "      width: 32px;\n",
       "    }\n",
       "\n",
       "    .colab-df-convert:hover {\n",
       "      background-color: #E2EBFA;\n",
       "      box-shadow: 0px 1px 2px rgba(60, 64, 67, 0.3), 0px 1px 3px 1px rgba(60, 64, 67, 0.15);\n",
       "      fill: #174EA6;\n",
       "    }\n",
       "\n",
       "    .colab-df-buttons div {\n",
       "      margin-bottom: 4px;\n",
       "    }\n",
       "\n",
       "    [theme=dark] .colab-df-convert {\n",
       "      background-color: #3B4455;\n",
       "      fill: #D2E3FC;\n",
       "    }\n",
       "\n",
       "    [theme=dark] .colab-df-convert:hover {\n",
       "      background-color: #434B5C;\n",
       "      box-shadow: 0px 1px 3px 1px rgba(0, 0, 0, 0.15);\n",
       "      filter: drop-shadow(0px 1px 2px rgba(0, 0, 0, 0.3));\n",
       "      fill: #FFFFFF;\n",
       "    }\n",
       "  </style>\n",
       "\n",
       "    <script>\n",
       "      const buttonEl =\n",
       "        document.querySelector('#df-b219f4bd-2326-4bfb-b349-bcd5492a5658 button.colab-df-convert');\n",
       "      buttonEl.style.display =\n",
       "        google.colab.kernel.accessAllowed ? 'block' : 'none';\n",
       "\n",
       "      async function convertToInteractive(key) {\n",
       "        const element = document.querySelector('#df-b219f4bd-2326-4bfb-b349-bcd5492a5658');\n",
       "        const dataTable =\n",
       "          await google.colab.kernel.invokeFunction('convertToInteractive',\n",
       "                                                    [key], {});\n",
       "        if (!dataTable) return;\n",
       "\n",
       "        const docLinkHtml = 'Like what you see? Visit the ' +\n",
       "          '<a target=\"_blank\" href=https://colab.research.google.com/notebooks/data_table.ipynb>data table notebook</a>'\n",
       "          + ' to learn more about interactive tables.';\n",
       "        element.innerHTML = '';\n",
       "        dataTable['output_type'] = 'display_data';\n",
       "        await google.colab.output.renderOutput(dataTable, element);\n",
       "        const docLink = document.createElement('div');\n",
       "        docLink.innerHTML = docLinkHtml;\n",
       "        element.appendChild(docLink);\n",
       "      }\n",
       "    </script>\n",
       "  </div>\n",
       "\n",
       "\n",
       "<div id=\"df-7889e7fc-be34-4c1a-bb5e-ae4327ff4a55\">\n",
       "  <button class=\"colab-df-quickchart\" onclick=\"quickchart('df-7889e7fc-be34-4c1a-bb5e-ae4327ff4a55')\"\n",
       "            title=\"Suggest charts\"\n",
       "            style=\"display:none;\">\n",
       "\n",
       "<svg xmlns=\"http://www.w3.org/2000/svg\" height=\"24px\"viewBox=\"0 0 24 24\"\n",
       "     width=\"24px\">\n",
       "    <g>\n",
       "        <path d=\"M19 3H5c-1.1 0-2 .9-2 2v14c0 1.1.9 2 2 2h14c1.1 0 2-.9 2-2V5c0-1.1-.9-2-2-2zM9 17H7v-7h2v7zm4 0h-2V7h2v10zm4 0h-2v-4h2v4z\"/>\n",
       "    </g>\n",
       "</svg>\n",
       "  </button>\n",
       "\n",
       "<style>\n",
       "  .colab-df-quickchart {\n",
       "      --bg-color: #E8F0FE;\n",
       "      --fill-color: #1967D2;\n",
       "      --hover-bg-color: #E2EBFA;\n",
       "      --hover-fill-color: #174EA6;\n",
       "      --disabled-fill-color: #AAA;\n",
       "      --disabled-bg-color: #DDD;\n",
       "  }\n",
       "\n",
       "  [theme=dark] .colab-df-quickchart {\n",
       "      --bg-color: #3B4455;\n",
       "      --fill-color: #D2E3FC;\n",
       "      --hover-bg-color: #434B5C;\n",
       "      --hover-fill-color: #FFFFFF;\n",
       "      --disabled-bg-color: #3B4455;\n",
       "      --disabled-fill-color: #666;\n",
       "  }\n",
       "\n",
       "  .colab-df-quickchart {\n",
       "    background-color: var(--bg-color);\n",
       "    border: none;\n",
       "    border-radius: 50%;\n",
       "    cursor: pointer;\n",
       "    display: none;\n",
       "    fill: var(--fill-color);\n",
       "    height: 32px;\n",
       "    padding: 0;\n",
       "    width: 32px;\n",
       "  }\n",
       "\n",
       "  .colab-df-quickchart:hover {\n",
       "    background-color: var(--hover-bg-color);\n",
       "    box-shadow: 0 1px 2px rgba(60, 64, 67, 0.3), 0 1px 3px 1px rgba(60, 64, 67, 0.15);\n",
       "    fill: var(--button-hover-fill-color);\n",
       "  }\n",
       "\n",
       "  .colab-df-quickchart-complete:disabled,\n",
       "  .colab-df-quickchart-complete:disabled:hover {\n",
       "    background-color: var(--disabled-bg-color);\n",
       "    fill: var(--disabled-fill-color);\n",
       "    box-shadow: none;\n",
       "  }\n",
       "\n",
       "  .colab-df-spinner {\n",
       "    border: 2px solid var(--fill-color);\n",
       "    border-color: transparent;\n",
       "    border-bottom-color: var(--fill-color);\n",
       "    animation:\n",
       "      spin 1s steps(1) infinite;\n",
       "  }\n",
       "\n",
       "  @keyframes spin {\n",
       "    0% {\n",
       "      border-color: transparent;\n",
       "      border-bottom-color: var(--fill-color);\n",
       "      border-left-color: var(--fill-color);\n",
       "    }\n",
       "    20% {\n",
       "      border-color: transparent;\n",
       "      border-left-color: var(--fill-color);\n",
       "      border-top-color: var(--fill-color);\n",
       "    }\n",
       "    30% {\n",
       "      border-color: transparent;\n",
       "      border-left-color: var(--fill-color);\n",
       "      border-top-color: var(--fill-color);\n",
       "      border-right-color: var(--fill-color);\n",
       "    }\n",
       "    40% {\n",
       "      border-color: transparent;\n",
       "      border-right-color: var(--fill-color);\n",
       "      border-top-color: var(--fill-color);\n",
       "    }\n",
       "    60% {\n",
       "      border-color: transparent;\n",
       "      border-right-color: var(--fill-color);\n",
       "    }\n",
       "    80% {\n",
       "      border-color: transparent;\n",
       "      border-right-color: var(--fill-color);\n",
       "      border-bottom-color: var(--fill-color);\n",
       "    }\n",
       "    90% {\n",
       "      border-color: transparent;\n",
       "      border-bottom-color: var(--fill-color);\n",
       "    }\n",
       "  }\n",
       "</style>\n",
       "\n",
       "  <script>\n",
       "    async function quickchart(key) {\n",
       "      const quickchartButtonEl =\n",
       "        document.querySelector('#' + key + ' button');\n",
       "      quickchartButtonEl.disabled = true;  // To prevent multiple clicks.\n",
       "      quickchartButtonEl.classList.add('colab-df-spinner');\n",
       "      try {\n",
       "        const charts = await google.colab.kernel.invokeFunction(\n",
       "            'suggestCharts', [key], {});\n",
       "      } catch (error) {\n",
       "        console.error('Error during call to suggestCharts:', error);\n",
       "      }\n",
       "      quickchartButtonEl.classList.remove('colab-df-spinner');\n",
       "      quickchartButtonEl.classList.add('colab-df-quickchart-complete');\n",
       "    }\n",
       "    (() => {\n",
       "      let quickchartButtonEl =\n",
       "        document.querySelector('#df-7889e7fc-be34-4c1a-bb5e-ae4327ff4a55 button');\n",
       "      quickchartButtonEl.style.display =\n",
       "        google.colab.kernel.accessAllowed ? 'block' : 'none';\n",
       "    })();\n",
       "  </script>\n",
       "</div>\n",
       "\n",
       "    </div>\n",
       "  </div>\n"
      ],
      "text/plain": [
       "  home_player  away_player  home_score  away_score  year\n",
       "0     Laplace  Von-Neumann          27          24  1897\n",
       "1       Gauss        Euler          26           3  1897\n",
       "2      Newton      Laplace          17          19  1897\n",
       "3       Euler      Leibniz          23          15  1897\n",
       "4     Laplace      Leibniz          31          10  1897"
      ]
     },
     "execution_count": 2,
     "metadata": {},
     "output_type": "execute_result"
    }
   ],
   "source": [
    "group = 24\n",
    "df_all  = pkl.load(open('../content/data_mathball/mathball_data_group_' + str(group)+ '.pkl', 'rb'))\n",
    "df_all.head()"
   ]
  },
  {
   "cell_type": "markdown",
   "metadata": {
    "id": "LWeSLAgSFx2Z"
   },
   "source": [
    "## We have home and away team, we have score and year."
   ]
  },
  {
   "cell_type": "markdown",
   "metadata": {
    "id": "WIQcg_wwFx2Z"
   },
   "source": [
    "## What do we want to infer?\n",
    "\n",
    "### We want to infer the latent parameters (every mathematian's strength) that are generating the data we observe (the scorelines).\n",
    "### Moreover, we know that the scorelines are a noisy measurement of team strength, so ideally, we want a model that makes it easy to quantify our uncertainty about the underlying strengths.\n",
    "\n",
    "## What do we want?\n",
    "\n",
    "### We want to quantify our uncertainty\n",
    "### We want to also use this to generate a model\n",
    "### We want the answers as distributions not point estimates"
   ]
  },
  {
   "cell_type": "markdown",
   "metadata": {
    "id": "Yo9bXuvQFx2Z"
   },
   "source": [
    "## Part 1\n",
    "\n",
    "### We next do some exploratory data analysis. The idea is to get a general sense of what is going on.\n",
    "\n",
    "## Tasks\n",
    "\n",
    "### 1. Plot a bar chart of the goal difference (i.e., total scored minus total scored against) per mathematician. Who is the best mathematician and who is the worst according to this plot?\n",
    "### 2. Plot the same bar chart for each mathematician  as a function of time. Do you see a monote behvaoir which implies an improvement or the other way around for one of mathematician?\n",
    "### 3. Choose your favorite mathematician, compare the goal difference between home and away games. Is he better in home or away games? Plot a bar chart of the goal difference for both home and away games.\n",
    "### 4. Which mathematician has the best median away results? (that is, for each mathematician go over all of his away games, compute his scoring difference (how much he scored minues got scored against) and compute the median value)."
   ]
  },
  {
   "cell_type": "markdown",
   "metadata": {
    "id": "cDKqJm7rID7s"
   },
   "source": [
    "### **Answers to part 1:**"
   ]
  },
  {
   "cell_type": "markdown",
   "metadata": {
    "id": "gflo4PD7K4yS"
   },
   "source": [
    "**1:**"
   ]
  },
  {
   "cell_type": "code",
   "execution_count": 3,
   "metadata": {
    "colab": {
     "base_uri": "https://localhost:8080/",
     "height": 591
    },
    "id": "kmvPXjS6IEer",
    "outputId": "11461911-3772-4606-8926-bbd2fe2d6a79"
   },
   "outputs": [
    {
     "data": {
      "image/png": "[encoded data removed]",
      "text/plain": [
       "<Figure size 640x480 with 1 Axes>"
      ]
     },
     "metadata": {},
     "output_type": "display_data"
    },
    {
     "name": "stdout",
     "output_type": "stream",
     "text": [
      "The best mathematician is Euler with a goal difference of 142.\n",
      "The worst mathematician is Leibniz with a goal difference of -33.\n"
     ]
    }
   ],
   "source": [
    "# Calculate goal difference for home and away players\n",
    "df_all['home_goal_diff'] = df_all['home_score'] - df_all['away_score']\n",
    "df_all['away_goal_diff'] = df_all['away_score'] - df_all['home_score']\n",
    "\n",
    "# Aggregate goal differences for each player\n",
    "home_goal_diff = df_all.groupby('home_player')['home_goal_diff'].sum().reset_index()\n",
    "away_goal_diff = df_all.groupby('away_player')['away_goal_diff'].sum().reset_index()\n",
    "\n",
    "# Merge the home and away goal differences\n",
    "goal_diff = pd.merge(home_goal_diff, away_goal_diff, left_on='home_player', right_on='away_player', how='outer')\n",
    "goal_diff = goal_diff.fillna(0)\n",
    "\n",
    "# Calculate the total goal difference\n",
    "goal_diff['total_goal_diff'] = goal_diff['home_goal_diff'] - goal_diff['away_goal_diff']\n",
    "\n",
    "# Rename the player column and set it as index\n",
    "goal_diff['player'] = goal_diff['home_player'].combine_first(goal_diff['away_player'])\n",
    "goal_diff = goal_diff[['player', 'total_goal_diff']].set_index('player')\n",
    "\n",
    "# Plotting the bar chart\n",
    "goal_diff.sort_values(by='total_goal_diff', ascending=False, inplace=True)\n",
    "goal_diff.plot(kind='bar', legend=False)\n",
    "plt.title('Goal Difference per Player')\n",
    "plt.xlabel('Player')\n",
    "plt.ylabel('Total Goal Difference')\n",
    "plt.show()\n",
    "\n",
    "# Determine the best and worst player\n",
    "best_player = goal_diff['total_goal_diff'].idxmax()\n",
    "worst_player = goal_diff['total_goal_diff'].idxmin()\n",
    "\n",
    "print(f\"The best mathematician is {best_player} with a goal difference of {goal_diff['total_goal_diff'].max()}.\")\n",
    "print(f\"The worst mathematician is {worst_player} with a goal difference of {goal_diff['total_goal_diff'].min()}.\")"
   ]
  },
  {
   "cell_type": "markdown",
   "metadata": {
    "id": "U_ZbGCz5K-ZI"
   },
   "source": [
    "**2:**"
   ]
  },
  {
   "cell_type": "code",
   "execution_count": 4,
   "metadata": {
    "colab": {
     "base_uri": "https://localhost:8080/",
     "height": 564
    },
    "id": "YQX9r1fQIFKZ",
    "outputId": "806c543d-c774-46a5-de92-c2b25b31ff1c"
   },
   "outputs": [
    {
     "data": {
      "image/png": "[encoded data removed]",
      "text/plain": [
       "<Figure size 1000x600 with 1 Axes>"
      ]
     },
     "metadata": {},
     "output_type": "display_data"
    }
   ],
   "source": [
    "# Calculate goal difference for home and away players\n",
    "df_all['home_goal_diff'] = df_all['home_score'] - df_all['away_score']\n",
    "df_all['away_goal_diff'] = df_all['away_score'] - df_all['home_score']\n",
    "\n",
    "# Melt the DataFrame to long format\n",
    "df_home = df_all[['year', 'home_player', 'home_goal_diff']].rename(columns={'home_player': 'player', 'home_goal_diff': 'goal_diff'})\n",
    "df_away = df_all[['year', 'away_player', 'away_goal_diff']].rename(columns={'away_player': 'player', 'away_goal_diff': 'goal_diff'})\n",
    "df_long = pd.concat([df_home, df_away])\n",
    "\n",
    "# Sort by player and year for cumulative sum calculation\n",
    "df_long = df_long.sort_values(by=['player', 'year'])\n",
    "\n",
    "# Calculate cumulative goal difference\n",
    "df_long['cumulative_goal_diff'] = df_long.groupby('player')['goal_diff'].cumsum()\n",
    "\n",
    "# Plotting the cumulative goal difference over time for each player\n",
    "plt.figure(figsize=(10, 6))\n",
    "for player in df_long['player'].unique():\n",
    "    player_data = df_long[df_long['player'] == player]\n",
    "    plt.plot(player_data['year'], player_data['cumulative_goal_diff'], marker='o', label=player)\n",
    "\n",
    "plt.title('Cumulative Goal Difference Over Time')\n",
    "plt.xlabel('Year')\n",
    "plt.ylabel('Cumulative Goal Difference')\n",
    "plt.legend(title='Player')\n",
    "plt.grid(True)\n",
    "plt.show()"
   ]
  },
  {
   "cell_type": "markdown",
   "metadata": {
    "id": "fDe1fNejP9O4"
   },
   "source": [
    "According to the graph 'Cumulative Goal Difference Over Time'\n",
    "The following trends can be seen:\n",
    "1. Gauss and Von-Neumann show a positive monotonic improvement trend.\n",
    "2. Leibniz shows a negative monotonic improvement trend.\n",
    "3. Laplace and Newton show a neutral monotonic improvement trend.\n",
    "4. Euler shows a positive but non-monotonic conservation trend because a jump can be seen between the years 1898-1899."
   ]
  },
  {
   "cell_type": "markdown",
   "metadata": {
    "id": "HNk-sR-PTCAj"
   },
   "source": [
    "**3:**"
   ]
  },
  {
   "cell_type": "markdown",
   "metadata": {
    "id": "9-J9pFA0TC-O"
   },
   "source": [
    "I gave the right to choose in this section to my mother (Yael's) who did a degree in mathematics and she **chose Euler** because he contributed in many fields, and was amazingly creative (p.s. according to her everyone on the list is like that and Newton is a super genius)."
   ]
  },
  {
   "cell_type": "code",
   "execution_count": 5,
   "metadata": {
    "colab": {
     "base_uri": "https://localhost:8080/",
     "height": 505
    },
    "id": "1tlk6NR6IEs9",
    "outputId": "2d232e87-927c-4ce1-84f7-f6fbc08ac813"
   },
   "outputs": [
    {
     "data": {
      "image/png": "[encoded data removed]",
      "text/plain": [
       "<Figure size 800x500 with 1 Axes>"
      ]
     },
     "metadata": {},
     "output_type": "display_data"
    },
    {
     "name": "stdout",
     "output_type": "stream",
     "text": [
      "Euler is better in home games.\n"
     ]
    }
   ],
   "source": [
    "# Calculate goal difference for home and away players\n",
    "df_all['home_goal_diff'] = df_all['home_score'] - df_all['away_score']\n",
    "df_all['away_goal_diff'] = df_all['away_score'] - df_all['home_score']\n",
    "\n",
    "# Filter data for Euler\n",
    "euler_home = df_all[df_all['home_player'] == 'Euler']\n",
    "euler_away = df_all[df_all['away_player'] == 'Euler']\n",
    "\n",
    "# Calculate total goal difference for home and away games\n",
    "euler_home_goal_diff = euler_home['home_goal_diff'].sum()\n",
    "euler_away_goal_diff = euler_away['away_goal_diff'].sum()\n",
    "\n",
    "# Create a DataFrame for plotting\n",
    "euler_goal_diff = pd.DataFrame({\n",
    "    'Game Type': ['Home', 'Away'],\n",
    "    'Goal Difference': [euler_home_goal_diff, euler_away_goal_diff]\n",
    "})\n",
    "\n",
    "# Plotting the bar chart\n",
    "plt.figure(figsize=(8, 5))\n",
    "plt.bar(euler_goal_diff['Game Type'], euler_goal_diff['Goal Difference'], color=['blue', 'orange'])\n",
    "plt.title(\"Euler's Goal Difference in Home and Away Games\")\n",
    "plt.xlabel('Game Type')\n",
    "plt.ylabel('Goal Difference')\n",
    "plt.grid(True)\n",
    "plt.show()\n",
    "\n",
    "# Determine if Euler is better in home or away games\n",
    "if euler_home_goal_diff > euler_away_goal_diff:\n",
    "    result = \"Euler is better in home games.\"\n",
    "elif euler_home_goal_diff < euler_away_goal_diff:\n",
    "    result = \"Euler is better in away games.\"\n",
    "else:\n",
    "    result = \"Euler performs equally in home and away games.\"\n",
    "\n",
    "print(result)"
   ]
  },
  {
   "cell_type": "markdown",
   "metadata": {
    "id": "5VdrREObVPFO"
   },
   "source": [
    "**4:**"
   ]
  },
  {
   "cell_type": "code",
   "execution_count": 6,
   "metadata": {
    "colab": {
     "base_uri": "https://localhost:8080/"
    },
    "id": "im7rJHPpULxA",
    "outputId": "3293c799-f20d-4db0-fdfe-0730f29ad392"
   },
   "outputs": [
    {
     "name": "stdout",
     "output_type": "stream",
     "text": [
      "The mathematician with the best median away results is Von-Neumann with a median goal difference of 5.5.\n"
     ]
    }
   ],
   "source": [
    "# Calculate goal difference for away players\n",
    "df_all['away_goal_diff'] = df_all['away_score'] - df_all['home_score']\n",
    "\n",
    "# Group by away player and calculate the median goal difference\n",
    "away_goal_diff_median = df_all.groupby('away_player')['away_goal_diff'].median().reset_index()\n",
    "\n",
    "# Determine the mathematician with the best median away results\n",
    "best_away_player = away_goal_diff_median.loc[away_goal_diff_median['away_goal_diff'].idxmax()]\n",
    "\n",
    "print(f\"The mathematician with the best median away results is {best_away_player['away_player']} with a median goal difference of {best_away_player['away_goal_diff']}.\")"
   ]
  },
  {
   "cell_type": "markdown",
   "metadata": {
    "id": "lXduLWgdFx2a"
   },
   "source": [
    "## Part 2"
   ]
  },
  {
   "cell_type": "markdown",
   "metadata": {
    "id": "Yyq72nCjFx2a"
   },
   "source": [
    "## What assumptions do we know for our mathball competition?\n",
    "\n",
    "### We know that there are 6 mathematicians, each year all possible pairs playes once.  \n",
    "### We have data from the last few years\n",
    "### We also know that in sports scoring is modelled as a Poisson distribution (even in mathball)\n",
    "### We consider home advantage to be a strong effect in sports"
   ]
  },
  {
   "cell_type": "markdown",
   "metadata": {
    "id": "6kskmahIFx2a",
    "tags": []
   },
   "source": [
    "## The model.\n",
    "\n",
    "### The league is made up by a total of T= 6 mathematicians, playing each other once in a season.\n",
    "\n",
    "### We indicate the number of goals scored by the home and the away player in the g-th game of the season (15 games) as $y_{g1}$ and $y_{g2}$ respectively. </p>\n",
    "### The vector of observed goal counts $\\mathbb{y} = (y_{g1}, y_{g2})$ is modelled as independent Poisson:\n",
    "## $$y_{gj}| \\theta_{gj} \\tilde\\;\\;  Poisson(\\theta_{gj})$$\n",
    "### where the theta parameters represent the scoring intensity in the g-th game for the team playing at home (j=1) and away (j=2), respectively.</p>"
   ]
  },
  {
   "cell_type": "markdown",
   "metadata": {
    "id": "KklU-8JnFx2a"
   },
   "source": [
    "## We model these parameters according to a formulation that has been used widely in the statistical literature, assuming a log-linear random effect model:\n",
    "### $$ log \\theta_{g1} = intercept + home + \\hat{att}_{h(g)} + \\hat{def}_{a(g)} $$\n",
    "### $$ log \\theta_{g2} = intercept + \\hat{att}_{a(g)} + \\hat{def}_{h(g)}$$\n",
    "\n",
    "\n",
    "## Alternitevly:\n",
    "\n",
    "### $$  \\theta_{g1} = e^{intercept + home + \\hat{att}_{h(g)} + \\hat{def}_{a(g)}} $$\n",
    "### $$  \\theta_{g2} = e^{intercept + \\hat{att}_{a(g)} + \\hat{def}_{h(g)}}$$\n",
    "\n",
    "### $\\hat{att}_{h(g)}$ is the attack effect of a player.\n",
    "### $\\hat{def}_{h(g)}$ is the attack effect of a player.\n",
    "\n",
    "### For mathematician  i = 1, ..., 6, both  $\\hat{att}_{i}$ and $\\hat{def}_{i}$ are normalized values, fomrally:\n",
    "\n",
    "### $$ \\hat{att}_{i} = att_i - \\bar{att} $$\n",
    "### $$ \\hat{def}_{i} = att_i - \\bar{def} $$\n",
    "\n",
    "where,\n",
    "\n",
    "### $$ \\bar{att}  = \\frac{\\sum_{i=1}^6 att_i}{6} $$\n",
    "### $$ \\bar{def}  = \\frac{\\sum_{i=1}^6 def_i}{6} $$\n",
    "\n",
    "### Just for clarification: suppose we index mathematicians as follows:\n",
    "### 1: Laplace\n",
    "### 2: Gauss\n",
    "### 3: Newton\n",
    "### 4: Euler\n",
    "### 5: Leibniz\n",
    "### 6: Von-Neumann\n",
    "\n",
    "### Now, suppose the first game is Laplace hosting Gauss (the clash of the titans).\n",
    "### Thus, $h(1) = 1 $ (i.e.,Laplace ) and $a(1) = 2 $ (i.e., Gauss).\n",
    "\n",
    "### The parameter home represents the advantage for the team hosting the game and we assume that this effect is constant for all the teams and throughout the season\n",
    "### The scoring intensity is determined jointly by the attack and defense ability of the two teams involved, represented by the parameters att and def, respectively\n",
    "\n",
    "### Conversely, for each i = 1, ..., 6, the player-specific effects are modelled as exchangeable from a common distribution:\n",
    "\n",
    "### $att_{i} \\; \\tilde\\;\\; Normal(0,\\tau_{att})$ and $def_{i} \\; \\tilde\\;\\;Normal(0,\\tau_{def})$\n",
    "\n",
    "### The log function to away scores and home scores is a standard trick in the sports analytics literature"
   ]
  },
  {
   "cell_type": "markdown",
   "metadata": {
    "id": "Rja05TZtFx2b",
    "tags": []
   },
   "source": [
    "## Tasks\n",
    "\n",
    "### 1. Build a Hierarchical model with PyMc where you obtain a posterior of the latent variables: $home$, $att_i$,  $def_i$ for $i = \\{1,2,3,4,5,6\\} $ and $intercept$.\n",
    "### Remark: Set the MCMC configuration regarding the number of draws, such that there will 4000 samples in total.\n",
    "\n",
    "\n",
    "\n",
    "## guidence:\n",
    "###  For the Hierarchical model, connect the different players (mathematicians) only via the attack and defence std (i.e., $\\tau_{att}$ and $\\tau_{def}$) and not the mean value."
   ]
  },
  {
   "cell_type": "markdown",
   "metadata": {
    "id": "uecEXc8RFx2b"
   },
   "source": [
    "## Indexing the data for the pymc model"
   ]
  },
  {
   "cell_type": "code",
   "execution_count": 7,
   "metadata": {
    "id": "DEaQO729Fx2b",
    "tags": []
   },
   "outputs": [],
   "source": [
    "import numpy as np"
   ]
  },
  {
   "cell_type": "code",
   "execution_count": 8,
   "metadata": {
    "colab": {
     "base_uri": "https://localhost:8080/",
     "height": 206
    },
    "id": "D-lkIUUCFx2b",
    "outputId": "c39b0ed6-f2c7-4243-aa9d-2edcf13e8d5b",
    "tags": []
   },
   "outputs": [
    {
     "data": {
      "application/vnd.google.colaboratory.intrinsic+json": {
       "summary": "{\n  \"name\": \"df_all\",\n  \"rows\": 60,\n  \"fields\": [\n    {\n      \"column\": \"home_player\",\n      \"properties\": {\n        \"dtype\": \"category\",\n        \"num_unique_values\": 6,\n        \"samples\": [\n          \"Laplace\",\n          \"Gauss\",\n          \"Leibniz\"\n        ],\n        \"semantic_type\": \"\",\n        \"description\": \"\"\n      }\n    },\n    {\n      \"column\": \"away_player\",\n      \"properties\": {\n        \"dtype\": \"category\",\n        \"num_unique_values\": 6,\n        \"samples\": [\n          \"Von-Neumann\",\n          \"Euler\",\n          \"Newton\"\n        ],\n        \"semantic_type\": \"\",\n        \"description\": \"\"\n      }\n    },\n    {\n      \"column\": \"home_score\",\n      \"properties\": {\n        \"dtype\": \"number\",\n        \"std\": 14,\n        \"min\": 0,\n        \"max\": 68,\n        \"num_unique_values\": 29,\n        \"samples\": [\n          7,\n          3,\n          29\n        ],\n        \"semantic_type\": \"\",\n        \"description\": \"\"\n      }\n    },\n    {\n      \"column\": \"away_score\",\n      \"properties\": {\n        \"dtype\": \"number\",\n        \"std\": 12,\n        \"min\": 0,\n        \"max\": 63,\n        \"num_unique_values\": 31,\n        \"samples\": [\n          31,\n          61,\n          14\n        ],\n        \"semantic_type\": \"\",\n        \"description\": \"\"\n      }\n    },\n    {\n      \"column\": \"year\",\n      \"properties\": {\n        \"dtype\": \"number\",\n        \"std\": 1,\n        \"min\": 1897,\n        \"max\": 1900,\n        \"num_unique_values\": 4,\n        \"samples\": [\n          1898,\n          1900,\n          1897\n        ],\n        \"semantic_type\": \"\",\n        \"description\": \"\"\n      }\n    }\n  ]\n}",
       "type": "dataframe",
       "variable_name": "df_all"
      },
      "text/html": [
       "\n",
       "  <div id=\"df-d9b06dfc-9d27-47d0-96b2-32c141fd67eb\" class=\"colab-df-container\">\n",
       "    <div>\n",
       "<style scoped>\n",
       "    .dataframe tbody tr th:only-of-type {\n",
       "        vertical-align: middle;\n",
       "    }\n",
       "\n",
       "    .dataframe tbody tr th {\n",
       "        vertical-align: top;\n",
       "    }\n",
       "\n",
       "    .dataframe thead th {\n",
       "        text-align: right;\n",
       "    }\n",
       "</style>\n",
       "<table border=\"1\" class=\"dataframe\">\n",
       "  <thead>\n",
       "    <tr style=\"text-align: right;\">\n",
       "      <th></th>\n",
       "      <th>home_player</th>\n",
       "      <th>away_player</th>\n",
       "      <th>home_score</th>\n",
       "      <th>away_score</th>\n",
       "      <th>year</th>\n",
       "    </tr>\n",
       "  </thead>\n",
       "  <tbody>\n",
       "    <tr>\n",
       "      <th>0</th>\n",
       "      <td>Laplace</td>\n",
       "      <td>Von-Neumann</td>\n",
       "      <td>27</td>\n",
       "      <td>24</td>\n",
       "      <td>1897</td>\n",
       "    </tr>\n",
       "    <tr>\n",
       "      <th>1</th>\n",
       "      <td>Gauss</td>\n",
       "      <td>Euler</td>\n",
       "      <td>26</td>\n",
       "      <td>3</td>\n",
       "      <td>1897</td>\n",
       "    </tr>\n",
       "    <tr>\n",
       "      <th>2</th>\n",
       "      <td>Newton</td>\n",
       "      <td>Laplace</td>\n",
       "      <td>17</td>\n",
       "      <td>19</td>\n",
       "      <td>1897</td>\n",
       "    </tr>\n",
       "    <tr>\n",
       "      <th>3</th>\n",
       "      <td>Euler</td>\n",
       "      <td>Leibniz</td>\n",
       "      <td>23</td>\n",
       "      <td>15</td>\n",
       "      <td>1897</td>\n",
       "    </tr>\n",
       "    <tr>\n",
       "      <th>4</th>\n",
       "      <td>Laplace</td>\n",
       "      <td>Leibniz</td>\n",
       "      <td>31</td>\n",
       "      <td>10</td>\n",
       "      <td>1897</td>\n",
       "    </tr>\n",
       "  </tbody>\n",
       "</table>\n",
       "</div>\n",
       "    <div class=\"colab-df-buttons\">\n",
       "\n",
       "  <div class=\"colab-df-container\">\n",
       "    <button class=\"colab-df-convert\" onclick=\"convertToInteractive('df-d9b06dfc-9d27-47d0-96b2-32c141fd67eb')\"\n",
       "            title=\"Convert this dataframe to an interactive table.\"\n",
       "            style=\"display:none;\">\n",
       "\n",
       "  <svg xmlns=\"http://www.w3.org/2000/svg\" height=\"24px\" viewBox=\"0 -960 960 960\">\n",
       "    <path d=\"M120-120v-720h720v720H120Zm60-500h600v-160H180v160Zm220 220h160v-160H400v160Zm0 220h160v-160H400v160ZM180-400h160v-160H180v160Zm440 0h160v-160H620v160ZM180-180h160v-160H180v160Zm440 0h160v-160H620v160Z\"/>\n",
       "  </svg>\n",
       "    </button>\n",
       "\n",
       "  <style>\n",
       "    .colab-df-container {\n",
       "      display:flex;\n",
       "      gap: 12px;\n",
       "    }\n",
       "\n",
       "    .colab-df-convert {\n",
       "      background-color: #E8F0FE;\n",
       "      border: none;\n",
       "      border-radius: 50%;\n",
       "      cursor: pointer;\n",
       "      display: none;\n",
       "      fill: #1967D2;\n",
       "      height: 32px;\n",
       "      padding: 0 0 0 0;\n",
       "      width: 32px;\n",
       "    }\n",
       "\n",
       "    .colab-df-convert:hover {\n",
       "      background-color: #E2EBFA;\n",
       "      box-shadow: 0px 1px 2px rgba(60, 64, 67, 0.3), 0px 1px 3px 1px rgba(60, 64, 67, 0.15);\n",
       "      fill: #174EA6;\n",
       "    }\n",
       "\n",
       "    .colab-df-buttons div {\n",
       "      margin-bottom: 4px;\n",
       "    }\n",
       "\n",
       "    [theme=dark] .colab-df-convert {\n",
       "      background-color: #3B4455;\n",
       "      fill: #D2E3FC;\n",
       "    }\n",
       "\n",
       "    [theme=dark] .colab-df-convert:hover {\n",
       "      background-color: #434B5C;\n",
       "      box-shadow: 0px 1px 3px 1px rgba(0, 0, 0, 0.15);\n",
       "      filter: drop-shadow(0px 1px 2px rgba(0, 0, 0, 0.3));\n",
       "      fill: #FFFFFF;\n",
       "    }\n",
       "  </style>\n",
       "\n",
       "    <script>\n",
       "      const buttonEl =\n",
       "        document.querySelector('#df-d9b06dfc-9d27-47d0-96b2-32c141fd67eb button.colab-df-convert');\n",
       "      buttonEl.style.display =\n",
       "        google.colab.kernel.accessAllowed ? 'block' : 'none';\n",
       "\n",
       "      async function convertToInteractive(key) {\n",
       "        const element = document.querySelector('#df-d9b06dfc-9d27-47d0-96b2-32c141fd67eb');\n",
       "        const dataTable =\n",
       "          await google.colab.kernel.invokeFunction('convertToInteractive',\n",
       "                                                    [key], {});\n",
       "        if (!dataTable) return;\n",
       "\n",
       "        const docLinkHtml = 'Like what you see? Visit the ' +\n",
       "          '<a target=\"_blank\" href=https://colab.research.google.com/notebooks/data_table.ipynb>data table notebook</a>'\n",
       "          + ' to learn more about interactive tables.';\n",
       "        element.innerHTML = '';\n",
       "        dataTable['output_type'] = 'display_data';\n",
       "        await google.colab.output.renderOutput(dataTable, element);\n",
       "        const docLink = document.createElement('div');\n",
       "        docLink.innerHTML = docLinkHtml;\n",
       "        element.appendChild(docLink);\n",
       "      }\n",
       "    </script>\n",
       "  </div>\n",
       "\n",
       "\n",
       "<div id=\"df-4ed4dbac-4acc-43dd-b4f1-7a05620bd176\">\n",
       "  <button class=\"colab-df-quickchart\" onclick=\"quickchart('df-4ed4dbac-4acc-43dd-b4f1-7a05620bd176')\"\n",
       "            title=\"Suggest charts\"\n",
       "            style=\"display:none;\">\n",
       "\n",
       "<svg xmlns=\"http://www.w3.org/2000/svg\" height=\"24px\"viewBox=\"0 0 24 24\"\n",
       "     width=\"24px\">\n",
       "    <g>\n",
       "        <path d=\"M19 3H5c-1.1 0-2 .9-2 2v14c0 1.1.9 2 2 2h14c1.1 0 2-.9 2-2V5c0-1.1-.9-2-2-2zM9 17H7v-7h2v7zm4 0h-2V7h2v10zm4 0h-2v-4h2v4z\"/>\n",
       "    </g>\n",
       "</svg>\n",
       "  </button>\n",
       "\n",
       "<style>\n",
       "  .colab-df-quickchart {\n",
       "      --bg-color: #E8F0FE;\n",
       "      --fill-color: #1967D2;\n",
       "      --hover-bg-color: #E2EBFA;\n",
       "      --hover-fill-color: #174EA6;\n",
       "      --disabled-fill-color: #AAA;\n",
       "      --disabled-bg-color: #DDD;\n",
       "  }\n",
       "\n",
       "  [theme=dark] .colab-df-quickchart {\n",
       "      --bg-color: #3B4455;\n",
       "      --fill-color: #D2E3FC;\n",
       "      --hover-bg-color: #434B5C;\n",
       "      --hover-fill-color: #FFFFFF;\n",
       "      --disabled-bg-color: #3B4455;\n",
       "      --disabled-fill-color: #666;\n",
       "  }\n",
       "\n",
       "  .colab-df-quickchart {\n",
       "    background-color: var(--bg-color);\n",
       "    border: none;\n",
       "    border-radius: 50%;\n",
       "    cursor: pointer;\n",
       "    display: none;\n",
       "    fill: var(--fill-color);\n",
       "    height: 32px;\n",
       "    padding: 0;\n",
       "    width: 32px;\n",
       "  }\n",
       "\n",
       "  .colab-df-quickchart:hover {\n",
       "    background-color: var(--hover-bg-color);\n",
       "    box-shadow: 0 1px 2px rgba(60, 64, 67, 0.3), 0 1px 3px 1px rgba(60, 64, 67, 0.15);\n",
       "    fill: var(--button-hover-fill-color);\n",
       "  }\n",
       "\n",
       "  .colab-df-quickchart-complete:disabled,\n",
       "  .colab-df-quickchart-complete:disabled:hover {\n",
       "    background-color: var(--disabled-bg-color);\n",
       "    fill: var(--disabled-fill-color);\n",
       "    box-shadow: none;\n",
       "  }\n",
       "\n",
       "  .colab-df-spinner {\n",
       "    border: 2px solid var(--fill-color);\n",
       "    border-color: transparent;\n",
       "    border-bottom-color: var(--fill-color);\n",
       "    animation:\n",
       "      spin 1s steps(1) infinite;\n",
       "  }\n",
       "\n",
       "  @keyframes spin {\n",
       "    0% {\n",
       "      border-color: transparent;\n",
       "      border-bottom-color: var(--fill-color);\n",
       "      border-left-color: var(--fill-color);\n",
       "    }\n",
       "    20% {\n",
       "      border-color: transparent;\n",
       "      border-left-color: var(--fill-color);\n",
       "      border-top-color: var(--fill-color);\n",
       "    }\n",
       "    30% {\n",
       "      border-color: transparent;\n",
       "      border-left-color: var(--fill-color);\n",
       "      border-top-color: var(--fill-color);\n",
       "      border-right-color: var(--fill-color);\n",
       "    }\n",
       "    40% {\n",
       "      border-color: transparent;\n",
       "      border-right-color: var(--fill-color);\n",
       "      border-top-color: var(--fill-color);\n",
       "    }\n",
       "    60% {\n",
       "      border-color: transparent;\n",
       "      border-right-color: var(--fill-color);\n",
       "    }\n",
       "    80% {\n",
       "      border-color: transparent;\n",
       "      border-right-color: var(--fill-color);\n",
       "      border-bottom-color: var(--fill-color);\n",
       "    }\n",
       "    90% {\n",
       "      border-color: transparent;\n",
       "      border-bottom-color: var(--fill-color);\n",
       "    }\n",
       "  }\n",
       "</style>\n",
       "\n",
       "  <script>\n",
       "    async function quickchart(key) {\n",
       "      const quickchartButtonEl =\n",
       "        document.querySelector('#' + key + ' button');\n",
       "      quickchartButtonEl.disabled = true;  // To prevent multiple clicks.\n",
       "      quickchartButtonEl.classList.add('colab-df-spinner');\n",
       "      try {\n",
       "        const charts = await google.colab.kernel.invokeFunction(\n",
       "            'suggestCharts', [key], {});\n",
       "      } catch (error) {\n",
       "        console.error('Error during call to suggestCharts:', error);\n",
       "      }\n",
       "      quickchartButtonEl.classList.remove('colab-df-spinner');\n",
       "      quickchartButtonEl.classList.add('colab-df-quickchart-complete');\n",
       "    }\n",
       "    (() => {\n",
       "      let quickchartButtonEl =\n",
       "        document.querySelector('#df-4ed4dbac-4acc-43dd-b4f1-7a05620bd176 button');\n",
       "      quickchartButtonEl.style.display =\n",
       "        google.colab.kernel.accessAllowed ? 'block' : 'none';\n",
       "    })();\n",
       "  </script>\n",
       "</div>\n",
       "\n",
       "    </div>\n",
       "  </div>\n"
      ],
      "text/plain": [
       "  home_player  away_player  home_score  away_score  year\n",
       "0     Laplace  Von-Neumann          27          24  1897\n",
       "1       Gauss        Euler          26           3  1897\n",
       "2      Newton      Laplace          17          19  1897\n",
       "3       Euler      Leibniz          23          15  1897\n",
       "4     Laplace      Leibniz          31          10  1897"
      ]
     },
     "execution_count": 8,
     "metadata": {},
     "output_type": "execute_result"
    }
   ],
   "source": [
    "group = 24\n",
    "df_all  = pkl.load(open('../content/data_mathball/mathball_data_group_' + str(group)+ '.pkl', 'rb'))\n",
    "df_all.head()"
   ]
  },
  {
   "cell_type": "code",
   "execution_count": 9,
   "metadata": {
    "id": "NLl4H0CCFx2c",
    "tags": []
   },
   "outputs": [],
   "source": [
    "# ## for your convinience we have here the home and away index with respect to df_all.\n",
    "# home_idx, teams = pd.factorize(df_all[\"home_player\"], sort=True)\n",
    "# away_idx, _ = pd.factorize(df_all[\"away_player\"], sort=True)"
   ]
  },
  {
   "cell_type": "code",
   "execution_count": 10,
   "metadata": {
    "id": "R-sKfnwmFx2c",
    "tags": []
   },
   "outputs": [],
   "source": [
    "# df_all.head()"
   ]
  },
  {
   "cell_type": "code",
   "execution_count": 11,
   "metadata": {
    "id": "iV9x8u_RFx2c",
    "tags": []
   },
   "outputs": [],
   "source": [
    "# home_idx"
   ]
  },
  {
   "cell_type": "code",
   "execution_count": 12,
   "metadata": {
    "id": "C9MwgnnLFx2c"
   },
   "outputs": [],
   "source": [
    "# coords = {\"team\": teams, 'home_idx': home_idx, 'away_idx': away_idx}\n",
    "\n",
    "# with pm.Model(coords=coords) as mathball:\n",
    "\n",
    "#     # Hyperpriors\n",
    "#     tau_att = # your code here\n",
    "#     tau_def = # your code here\n",
    "\n",
    "#     # Priors\n",
    "#     intercept = #\n",
    "#     home = #\n",
    "#     att = pm.Normal('att', mu=0, sigma=tau_att, dims=\"team\")\n",
    "#     def_ = pm.Normal('def', mu=0, sigma=tau_def, dims=\"team\")\n",
    "\n",
    "#     ## att_centered function: substracting the mean att using pm.math.mean (your code here)\n",
    "#     ## att_centered function: substracting the mean def using pm.math.mean (your code here)\n",
    "\n",
    "#     # Rate models\n",
    "#     ## rate home function: intercept  + home +  att_centered[home_indx] + def_centered[away_idx] (your code here)\n",
    "#     ## rate home function: intercept  +  att_centered[away_idx] + def_centered[home_indx] (your code here)\n",
    "\n",
    "#     theta_g1 = # exponent funciton home games (your code here)\n",
    "#     theta_g2 = # exponent funciton away games (your code here)\n",
    "\n",
    "#     # Data likelihood\n",
    "#     y1_likelihood = # Likelihood home score a function theta_g1 - Poisson (your code here)\n",
    "#     y2_likelihood = # Likelihood home score  function theta_g2 - Poisson  (your code here) a function thetag2\n",
    "\n",
    "#     ## pm.sample(your code here)"
   ]
  },
  {
   "cell_type": "code",
   "execution_count": 13,
   "metadata": {
    "id": "oHvoVjiFFx2d",
    "tags": []
   },
   "outputs": [],
   "source": [
    "# teams"
   ]
  },
  {
   "cell_type": "code",
   "execution_count": 14,
   "metadata": {
    "id": "JJCaz1qYFx2d",
    "tags": []
   },
   "outputs": [],
   "source": [
    "# away_idx"
   ]
  },
  {
   "cell_type": "code",
   "execution_count": 15,
   "metadata": {
    "id": "PvCMYGZAFx2d",
    "tags": []
   },
   "outputs": [],
   "source": [
    "# df_all.head(7)"
   ]
  },
  {
   "cell_type": "markdown",
   "metadata": {
    "id": "TrU3Of3ZFx2d"
   },
   "source": [
    "## Your code in here"
   ]
  },
  {
   "cell_type": "markdown",
   "metadata": {
    "id": "gKwaamZRWVi0"
   },
   "source": [
    "### **Answers to part 2:**"
   ]
  },
  {
   "cell_type": "code",
   "execution_count": 16,
   "metadata": {
    "id": "0f9heeb3Fx2d"
   },
   "outputs": [],
   "source": [
    "## for your convinience we have here the home and away index with respect to df_all.\n",
    "home_idx, teams = pd.factorize(df_all[\"home_player\"], sort=True)\n",
    "away_idx, _ = pd.factorize(df_all[\"away_player\"], sort=True)"
   ]
  },
  {
   "cell_type": "code",
   "execution_count": 17,
   "metadata": {
    "colab": {
     "base_uri": "https://localhost:8080/",
     "height": 57
    },
    "id": "qSUwIyV2Fx2d",
    "outputId": "f9bc76b5-7c64-4be8-8c71-2db789a324a1"
   },
   "outputs": [
    {
     "data": {
      "text/html": [
       "\n",
       "<style>\n",
       "    /* Turns off some styling */\n",
       "    progress {\n",
       "        /* gets rid of default border in Firefox and Opera. */\n",
       "        border: none;\n",
       "        /* Needs to be in here for Safari polyfill so background images work as expected. */\n",
       "        background-size: auto;\n",
       "    }\n",
       "    progress:not([value]), progress:not([value])::-webkit-progress-bar {\n",
       "        background: repeating-linear-gradient(45deg, #7e7e7e, #7e7e7e 10px, #5c5c5c 10px, #5c5c5c 20px);\n",
       "    }\n",
       "    .progress-bar-interrupted, .progress-bar-interrupted::-webkit-progress-bar {\n",
       "        background: #F44336;\n",
       "    }\n",
       "</style>\n"
      ],
      "text/plain": [
       "<IPython.core.display.HTML object>"
      ]
     },
     "metadata": {},
     "output_type": "display_data"
    },
    {
     "data": {
      "text/html": [
       "\n",
       "    <div>\n",
       "      <progress value='3000' class='' max='3000' style='width:300px; height:20px; vertical-align: middle;'></progress>\n",
       "      100.00% [3000/3000 00:24&lt;00:00 Sampling chain 0, 0 divergences]\n",
       "    </div>\n",
       "    "
      ],
      "text/plain": [
       "<IPython.core.display.HTML object>"
      ]
     },
     "metadata": {},
     "output_type": "display_data"
    },
    {
     "data": {
      "text/html": [
       "\n",
       "<style>\n",
       "    /* Turns off some styling */\n",
       "    progress {\n",
       "        /* gets rid of default border in Firefox and Opera. */\n",
       "        border: none;\n",
       "        /* Needs to be in here for Safari polyfill so background images work as expected. */\n",
       "        background-size: auto;\n",
       "    }\n",
       "    progress:not([value]), progress:not([value])::-webkit-progress-bar {\n",
       "        background: repeating-linear-gradient(45deg, #7e7e7e, #7e7e7e 10px, #5c5c5c 10px, #5c5c5c 20px);\n",
       "    }\n",
       "    .progress-bar-interrupted, .progress-bar-interrupted::-webkit-progress-bar {\n",
       "        background: #F44336;\n",
       "    }\n",
       "</style>\n"
      ],
      "text/plain": [
       "<IPython.core.display.HTML object>"
      ]
     },
     "metadata": {},
     "output_type": "display_data"
    },
    {
     "data": {
      "text/html": [
       "\n",
       "    <div>\n",
       "      <progress value='3000' class='' max='3000' style='width:300px; height:20px; vertical-align: middle;'></progress>\n",
       "      100.00% [3000/3000 00:25&lt;00:00 Sampling chain 1, 0 divergences]\n",
       "    </div>\n",
       "    "
      ],
      "text/plain": [
       "<IPython.core.display.HTML object>"
      ]
     },
     "metadata": {},
     "output_type": "display_data"
    }
   ],
   "source": [
    "coords = {\"team\": teams, 'home_idx': home_idx, 'away_idx': away_idx}\n",
    "\n",
    "with pm.Model(coords=coords) as mathball:\n",
    "\n",
    "    # Hyperpriors\n",
    "    tau_att = pm.HalfNormal('tau_att', sigma=1)\n",
    "    tau_def = pm.HalfNormal('tau_def', sigma=1)\n",
    "\n",
    "    # Priors\n",
    "    intercept = pm.Normal('intercept', mu=0, sigma=1)\n",
    "    home = pm.Normal('home', mu=0, sigma=1)\n",
    "    att = pm.Normal('att', mu=0, sigma=tau_att, dims=\"team\")\n",
    "    def_ = pm.Normal('def', mu=0, sigma=tau_def, dims=\"team\")\n",
    "\n",
    "    ## att_centered function: substracting the mean att using pm.math.mean (your code here)\n",
    "    att_centered = att - pm.math.mean(att)\n",
    "    ## att_centered function: substracting the mean def using pm.math.mean (your code here)\n",
    "    def_centered = def_ - pm.math.mean(def_)\n",
    "\n",
    "    # theta models\n",
    "    # log theta_g1 function: intercept  + home +  att_centered[home_indx] + def_centered[away_idx]\n",
    "    # exponent funciton home games (theta_g1) (your code here)\n",
    "    theta_g1 = pm.Deterministic('theta_home', pm.math.exp(intercept + home + att_centered[home_idx] + def_centered[away_idx]))\n",
    "    # log theta_g2 function: intercept  +  att_centered[away_idx] + def_centered[home_indx]\n",
    "    # exponent funciton away games (theta_g2) (your code here)\n",
    "    theta_g2 = pm.Deterministic('theta_away', pm.math.exp(intercept + att_centered[away_idx] + def_centered[home_idx]))\n",
    "\n",
    "    # Data likelihood\n",
    "    # Likelihood home score a function theta_g1 - Poisson (your code here)\n",
    "    y1_likelihood = pm.Poisson('y1', mu=theta_g1, observed=df_all['home_score'].values)\n",
    "    # Likelihood home score  function theta_g2 - Poisson (your code here)\n",
    "    y2_likelihood = pm.Poisson('y2', mu=theta_g2, observed=df_all['away_score'].values)\n",
    "\n",
    "    ## pm.sample (your code here)\n",
    "    trace = pm.sample(2000, tune=1000)"
   ]
  },
  {
   "cell_type": "code",
   "execution_count": 18,
   "metadata": {
    "colab": {
     "base_uri": "https://localhost:8080/",
     "height": 613
    },
    "id": "mX69efrmgTMv",
    "outputId": "9c9048b5-dc87-4e20-ef44-aa2836eee8b0"
   },
   "outputs": [
    {
     "data": {
      "image/svg+xml": [
       "<?xml version=\"1.0\" encoding=\"UTF-8\" standalone=\"no\"?>\n",
       "<!DOCTYPE svg PUBLIC \"-//W3C//DTD SVG 1.1//EN\"\n",
       " \"http://www.w3.org/Graphics/SVG/1.1/DTD/svg11.dtd\">\n",
       "<!-- Generated by graphviz version 2.43.0 (0)\n",
       " -->\n",
       "<!-- Title: %3 Pages: 1 -->\n",
       "<svg width=\"436pt\" height=\"444pt\"\n",
       " viewBox=\"0.00 0.00 436.41 443.86\" xmlns=\"http://www.w3.org/2000/svg\" xmlns:xlink=\"http://www.w3.org/1999/xlink\">\n",
       "<g id=\"graph0\" class=\"graph\" transform=\"scale(1 1) rotate(0) translate(4 439.86)\">\n",
       "<title>%3</title>\n",
       "<polygon fill=\"white\" stroke=\"transparent\" points=\"-4,4 -4,-439.86 432.41,-439.86 432.41,4 -4,4\"/>\n",
       "<g id=\"clust1\" class=\"cluster\">\n",
       "<title>clusterteam (6)</title>\n",
       "<path fill=\"none\" stroke=\"black\" d=\"M37.69,-218.95C37.69,-218.95 214.69,-218.95 214.69,-218.95 220.69,-218.95 226.69,-224.95 226.69,-230.95 226.69,-230.95 226.69,-320.91 226.69,-320.91 226.69,-326.91 220.69,-332.91 214.69,-332.91 214.69,-332.91 37.69,-332.91 37.69,-332.91 31.69,-332.91 25.69,-326.91 25.69,-320.91 25.69,-320.91 25.69,-230.95 25.69,-230.95 25.69,-224.95 31.69,-218.95 37.69,-218.95\"/>\n",
       "<text text-anchor=\"middle\" x=\"195.19\" y=\"-226.75\" font-family=\"Times,serif\" font-size=\"14.00\">team (6)</text>\n",
       "</g>\n",
       "<g id=\"clust2\" class=\"cluster\">\n",
       "<title>cluster60</title>\n",
       "<path fill=\"none\" stroke=\"black\" d=\"M130.69,-8C130.69,-8 323.69,-8 323.69,-8 329.69,-8 335.69,-14 335.69,-20 335.69,-20 335.69,-198.95 335.69,-198.95 335.69,-204.95 329.69,-210.95 323.69,-210.95 323.69,-210.95 130.69,-210.95 130.69,-210.95 124.69,-210.95 118.69,-204.95 118.69,-198.95 118.69,-198.95 118.69,-20 118.69,-20 118.69,-14 124.69,-8 130.69,-8\"/>\n",
       "<text text-anchor=\"middle\" x=\"320.69\" y=\"-15.8\" font-family=\"Times,serif\" font-size=\"14.00\">60</text>\n",
       "</g>\n",
       "<!-- tau_att -->\n",
       "<g id=\"node1\" class=\"node\">\n",
       "<title>tau_att</title>\n",
       "<ellipse fill=\"none\" stroke=\"black\" cx=\"58.69\" cy=\"-398.38\" rx=\"58.88\" ry=\"37.45\"/>\n",
       "<text text-anchor=\"middle\" x=\"58.69\" y=\"-409.68\" font-family=\"Times,serif\" font-size=\"14.00\">tau_att</text>\n",
       "<text text-anchor=\"middle\" x=\"58.69\" y=\"-394.68\" font-family=\"Times,serif\" font-size=\"14.00\">~</text>\n",
       "<text text-anchor=\"middle\" x=\"58.69\" y=\"-379.68\" font-family=\"Times,serif\" font-size=\"14.00\">HalfNormal</text>\n",
       "</g>\n",
       "<!-- att -->\n",
       "<g id=\"node5\" class=\"node\">\n",
       "<title>att</title>\n",
       "<ellipse fill=\"none\" stroke=\"black\" cx=\"75.69\" cy=\"-287.43\" rx=\"41.94\" ry=\"37.45\"/>\n",
       "<text text-anchor=\"middle\" x=\"75.69\" y=\"-298.73\" font-family=\"Times,serif\" font-size=\"14.00\">att</text>\n",
       "<text text-anchor=\"middle\" x=\"75.69\" y=\"-283.73\" font-family=\"Times,serif\" font-size=\"14.00\">~</text>\n",
       "<text text-anchor=\"middle\" x=\"75.69\" y=\"-268.73\" font-family=\"Times,serif\" font-size=\"14.00\">Normal</text>\n",
       "</g>\n",
       "<!-- tau_att&#45;&gt;att -->\n",
       "<g id=\"edge1\" class=\"edge\">\n",
       "<title>tau_att&#45;&gt;att</title>\n",
       "<path fill=\"none\" stroke=\"black\" d=\"M64.4,-360.8C65.7,-352.45 67.1,-343.46 68.46,-334.76\"/>\n",
       "<polygon fill=\"black\" stroke=\"black\" points=\"71.94,-335.15 70.03,-324.73 65.03,-334.07 71.94,-335.15\"/>\n",
       "</g>\n",
       "<!-- tau_def -->\n",
       "<g id=\"node2\" class=\"node\">\n",
       "<title>tau_def</title>\n",
       "<ellipse fill=\"none\" stroke=\"black\" cx=\"193.69\" cy=\"-398.38\" rx=\"58.88\" ry=\"37.45\"/>\n",
       "<text text-anchor=\"middle\" x=\"193.69\" y=\"-409.68\" font-family=\"Times,serif\" font-size=\"14.00\">tau_def</text>\n",
       "<text text-anchor=\"middle\" x=\"193.69\" y=\"-394.68\" font-family=\"Times,serif\" font-size=\"14.00\">~</text>\n",
       "<text text-anchor=\"middle\" x=\"193.69\" y=\"-379.68\" font-family=\"Times,serif\" font-size=\"14.00\">HalfNormal</text>\n",
       "</g>\n",
       "<!-- def -->\n",
       "<g id=\"node6\" class=\"node\">\n",
       "<title>def</title>\n",
       "<ellipse fill=\"none\" stroke=\"black\" cx=\"176.69\" cy=\"-287.43\" rx=\"41.94\" ry=\"37.45\"/>\n",
       "<text text-anchor=\"middle\" x=\"176.69\" y=\"-298.73\" font-family=\"Times,serif\" font-size=\"14.00\">def</text>\n",
       "<text text-anchor=\"middle\" x=\"176.69\" y=\"-283.73\" font-family=\"Times,serif\" font-size=\"14.00\">~</text>\n",
       "<text text-anchor=\"middle\" x=\"176.69\" y=\"-268.73\" font-family=\"Times,serif\" font-size=\"14.00\">Normal</text>\n",
       "</g>\n",
       "<!-- tau_def&#45;&gt;def -->\n",
       "<g id=\"edge2\" class=\"edge\">\n",
       "<title>tau_def&#45;&gt;def</title>\n",
       "<path fill=\"none\" stroke=\"black\" d=\"M187.98,-360.8C186.68,-352.45 185.28,-343.46 183.92,-334.76\"/>\n",
       "<polygon fill=\"black\" stroke=\"black\" points=\"187.35,-334.07 182.35,-324.73 180.44,-335.15 187.35,-334.07\"/>\n",
       "</g>\n",
       "<!-- home -->\n",
       "<g id=\"node3\" class=\"node\">\n",
       "<title>home</title>\n",
       "<ellipse fill=\"none\" stroke=\"black\" cx=\"386.69\" cy=\"-287.43\" rx=\"41.94\" ry=\"37.45\"/>\n",
       "<text text-anchor=\"middle\" x=\"386.69\" y=\"-298.73\" font-family=\"Times,serif\" font-size=\"14.00\">home</text>\n",
       "<text text-anchor=\"middle\" x=\"386.69\" y=\"-283.73\" font-family=\"Times,serif\" font-size=\"14.00\">~</text>\n",
       "<text text-anchor=\"middle\" x=\"386.69\" y=\"-268.73\" font-family=\"Times,serif\" font-size=\"14.00\">Normal</text>\n",
       "</g>\n",
       "<!-- theta_home -->\n",
       "<g id=\"node8\" class=\"node\">\n",
       "<title>theta_home</title>\n",
       "<polygon fill=\"none\" stroke=\"black\" points=\"327.19,-202.95 236.19,-202.95 236.19,-149.95 327.19,-149.95 327.19,-202.95\"/>\n",
       "<text text-anchor=\"middle\" x=\"281.69\" y=\"-187.75\" font-family=\"Times,serif\" font-size=\"14.00\">theta_home</text>\n",
       "<text text-anchor=\"middle\" x=\"281.69\" y=\"-172.75\" font-family=\"Times,serif\" font-size=\"14.00\">~</text>\n",
       "<text text-anchor=\"middle\" x=\"281.69\" y=\"-157.75\" font-family=\"Times,serif\" font-size=\"14.00\">Deterministic</text>\n",
       "</g>\n",
       "<!-- home&#45;&gt;theta_home -->\n",
       "<g id=\"edge6\" class=\"edge\">\n",
       "<title>home&#45;&gt;theta_home</title>\n",
       "<path fill=\"none\" stroke=\"black\" d=\"M365.48,-254.78C356.88,-242.96 346.45,-229.8 335.69,-218.95 332.56,-215.8 329.19,-212.68 325.71,-209.64\"/>\n",
       "<polygon fill=\"black\" stroke=\"black\" points=\"327.89,-206.91 317.98,-203.17 323.4,-212.28 327.89,-206.91\"/>\n",
       "</g>\n",
       "<!-- intercept -->\n",
       "<g id=\"node4\" class=\"node\">\n",
       "<title>intercept</title>\n",
       "<ellipse fill=\"none\" stroke=\"black\" cx=\"281.69\" cy=\"-287.43\" rx=\"45.01\" ry=\"37.45\"/>\n",
       "<text text-anchor=\"middle\" x=\"281.69\" y=\"-298.73\" font-family=\"Times,serif\" font-size=\"14.00\">intercept</text>\n",
       "<text text-anchor=\"middle\" x=\"281.69\" y=\"-283.73\" font-family=\"Times,serif\" font-size=\"14.00\">~</text>\n",
       "<text text-anchor=\"middle\" x=\"281.69\" y=\"-268.73\" font-family=\"Times,serif\" font-size=\"14.00\">Normal</text>\n",
       "</g>\n",
       "<!-- intercept&#45;&gt;theta_home -->\n",
       "<g id=\"edge5\" class=\"edge\">\n",
       "<title>intercept&#45;&gt;theta_home</title>\n",
       "<path fill=\"none\" stroke=\"black\" d=\"M281.69,-249.84C281.69,-238.1 281.69,-225.11 281.69,-213.42\"/>\n",
       "<polygon fill=\"black\" stroke=\"black\" points=\"285.19,-213.11 281.69,-203.11 278.19,-213.11 285.19,-213.11\"/>\n",
       "</g>\n",
       "<!-- theta_away -->\n",
       "<g id=\"node10\" class=\"node\">\n",
       "<title>theta_away</title>\n",
       "<polygon fill=\"none\" stroke=\"black\" points=\"218.19,-202.95 127.19,-202.95 127.19,-149.95 218.19,-149.95 218.19,-202.95\"/>\n",
       "<text text-anchor=\"middle\" x=\"172.69\" y=\"-187.75\" font-family=\"Times,serif\" font-size=\"14.00\">theta_away</text>\n",
       "<text text-anchor=\"middle\" x=\"172.69\" y=\"-172.75\" font-family=\"Times,serif\" font-size=\"14.00\">~</text>\n",
       "<text text-anchor=\"middle\" x=\"172.69\" y=\"-157.75\" font-family=\"Times,serif\" font-size=\"14.00\">Deterministic</text>\n",
       "</g>\n",
       "<!-- intercept&#45;&gt;theta_away -->\n",
       "<g id=\"edge9\" class=\"edge\">\n",
       "<title>intercept&#45;&gt;theta_away</title>\n",
       "<path fill=\"none\" stroke=\"black\" d=\"M260.42,-254.24C251.9,-242.49 241.52,-229.51 230.69,-218.95 227.32,-215.67 223.67,-212.45 219.9,-209.34\"/>\n",
       "<polygon fill=\"black\" stroke=\"black\" points=\"222.07,-206.59 212.05,-203.14 217.73,-212.08 222.07,-206.59\"/>\n",
       "</g>\n",
       "<!-- att&#45;&gt;theta_home -->\n",
       "<g id=\"edge3\" class=\"edge\">\n",
       "<title>att&#45;&gt;theta_home</title>\n",
       "<path fill=\"none\" stroke=\"black\" d=\"M92.47,-252.86C100.66,-240.03 111.79,-226.66 125.69,-218.95 145.38,-208.04 205.27,-217.89 226.69,-210.95 229.77,-209.95 232.87,-208.75 235.92,-207.41\"/>\n",
       "<polygon fill=\"black\" stroke=\"black\" points=\"237.51,-210.53 244.95,-202.99 234.43,-204.24 237.51,-210.53\"/>\n",
       "</g>\n",
       "<!-- att&#45;&gt;theta_away -->\n",
       "<g id=\"edge7\" class=\"edge\">\n",
       "<title>att&#45;&gt;theta_away</title>\n",
       "<path fill=\"none\" stroke=\"black\" d=\"M97.04,-254.79C105.46,-243.1 115.53,-230.02 125.69,-218.95 128.35,-216.06 131.19,-213.16 134.11,-210.3\"/>\n",
       "<polygon fill=\"black\" stroke=\"black\" points=\"136.61,-212.76 141.48,-203.35 131.8,-207.67 136.61,-212.76\"/>\n",
       "</g>\n",
       "<!-- def&#45;&gt;theta_home -->\n",
       "<g id=\"edge4\" class=\"edge\">\n",
       "<title>def&#45;&gt;theta_home</title>\n",
       "<path fill=\"none\" stroke=\"black\" d=\"M197.9,-254.78C206.5,-242.96 216.93,-229.8 227.69,-218.95 230.82,-215.8 234.19,-212.68 237.67,-209.64\"/>\n",
       "<polygon fill=\"black\" stroke=\"black\" points=\"239.98,-212.28 245.4,-203.17 235.49,-206.91 239.98,-212.28\"/>\n",
       "</g>\n",
       "<!-- def&#45;&gt;theta_away -->\n",
       "<g id=\"edge8\" class=\"edge\">\n",
       "<title>def&#45;&gt;theta_away</title>\n",
       "<path fill=\"none\" stroke=\"black\" d=\"M175.35,-249.84C174.92,-238.1 174.44,-225.11 174.01,-213.42\"/>\n",
       "<polygon fill=\"black\" stroke=\"black\" points=\"177.5,-212.98 173.63,-203.11 170.5,-213.23 177.5,-212.98\"/>\n",
       "</g>\n",
       "<!-- y1 -->\n",
       "<g id=\"node7\" class=\"node\">\n",
       "<title>y1</title>\n",
       "<ellipse fill=\"lightgrey\" stroke=\"black\" cx=\"281.69\" cy=\"-76.48\" rx=\"41.94\" ry=\"37.45\"/>\n",
       "<text text-anchor=\"middle\" x=\"281.69\" y=\"-87.78\" font-family=\"Times,serif\" font-size=\"14.00\">y1</text>\n",
       "<text text-anchor=\"middle\" x=\"281.69\" y=\"-72.78\" font-family=\"Times,serif\" font-size=\"14.00\">~</text>\n",
       "<text text-anchor=\"middle\" x=\"281.69\" y=\"-57.78\" font-family=\"Times,serif\" font-size=\"14.00\">Poisson</text>\n",
       "</g>\n",
       "<!-- theta_home&#45;&gt;y1 -->\n",
       "<g id=\"edge10\" class=\"edge\">\n",
       "<title>theta_home&#45;&gt;y1</title>\n",
       "<path fill=\"none\" stroke=\"black\" d=\"M281.69,-149.71C281.69,-141.89 281.69,-133.03 281.69,-124.27\"/>\n",
       "<polygon fill=\"black\" stroke=\"black\" points=\"285.19,-124.1 281.69,-114.1 278.19,-124.1 285.19,-124.1\"/>\n",
       "</g>\n",
       "<!-- y2 -->\n",
       "<g id=\"node9\" class=\"node\">\n",
       "<title>y2</title>\n",
       "<ellipse fill=\"lightgrey\" stroke=\"black\" cx=\"172.69\" cy=\"-76.48\" rx=\"41.94\" ry=\"37.45\"/>\n",
       "<text text-anchor=\"middle\" x=\"172.69\" y=\"-87.78\" font-family=\"Times,serif\" font-size=\"14.00\">y2</text>\n",
       "<text text-anchor=\"middle\" x=\"172.69\" y=\"-72.78\" font-family=\"Times,serif\" font-size=\"14.00\">~</text>\n",
       "<text text-anchor=\"middle\" x=\"172.69\" y=\"-57.78\" font-family=\"Times,serif\" font-size=\"14.00\">Poisson</text>\n",
       "</g>\n",
       "<!-- theta_away&#45;&gt;y2 -->\n",
       "<g id=\"edge11\" class=\"edge\">\n",
       "<title>theta_away&#45;&gt;y2</title>\n",
       "<path fill=\"none\" stroke=\"black\" d=\"M172.69,-149.71C172.69,-141.89 172.69,-133.03 172.69,-124.27\"/>\n",
       "<polygon fill=\"black\" stroke=\"black\" points=\"176.19,-124.1 172.69,-114.1 169.19,-124.1 176.19,-124.1\"/>\n",
       "</g>\n",
       "</g>\n",
       "</svg>\n"
      ],
      "text/plain": [
       "<graphviz.graphs.Digraph at 0x7ec85854ee30>"
      ]
     },
     "execution_count": 18,
     "metadata": {},
     "output_type": "execute_result"
    }
   ],
   "source": [
    "pm.model_to_graphviz(mathball)"
   ]
  },
  {
   "cell_type": "markdown",
   "metadata": {
    "id": "W2RHNslkFx2e"
   },
   "source": [
    "## Part 3\n",
    "\n",
    "## We aim to understand the different distributions of attacking strength and defensive strength.\n",
    "## These are probabilistic estimates and help us better understand the uncertainty in sports analytics.\n",
    "\n",
    "## Tasks\n",
    "\n",
    "### 1. Plot the attack and defence strenght HDI for each team and compare them. Which player has the best offence and which has the best defence? who has the worst offence and defence? Does these results is aligned with part 1 analysis?\n",
    "### 2. What is the probability that Euler has a better defence than Gauss?\n",
    "### 3. Suppose Leibniz is hosting Newton for a game. What is the probability that Leibniz will score more than 20? what is the probability that Newton will score less than 20?\n",
    "\n",
    "### 4. Simulate who wins over a total of 4000 simulations, one per sample in the posterior. Hint: use the sample_posterior_predictive function.\n",
    "### The resulting simulation should give you the score per each game for all possible combinations for 4 seasons. For each sample out of the 4000 we can measure who will be ranked 1st, 2nd, etc. The ranking is done as follows:\n",
    "### If a player wins he gets 3 points, draw a single point and lost 0 points. Sum up the points and you will get a full ranking. If we aggregate the results, we can the probability for each player for each position.\n",
    "\n",
    "### You are required to draw a bar chart that indicates the probability of all possible ranks for each team.\n"
   ]
  },
  {
   "cell_type": "code",
   "execution_count": 20,
   "metadata": {
    "id": "DidMuRN_Fx2e",
    "tags": []
   },
   "outputs": [],
   "source": [
    "# from IPython.display import Image, display\n",
    "# image_path = 'img_bar_chat.jpg'\n",
    "# display(Image(filename=image_path))"
   ]
  },
  {
   "cell_type": "markdown",
   "metadata": {
    "id": "IVICXe8_Fx2e"
   },
   "source": [
    "## Your code and answers here"
   ]
  },
  {
   "cell_type": "markdown",
   "metadata": {
    "id": "nQeYR8uqgywR"
   },
   "source": [
    "### **Answers to part 3:**"
   ]
  },
  {
   "cell_type": "markdown",
   "metadata": {
    "id": "LopQBDLVh2PT"
   },
   "source": [
    "**1:**"
   ]
  },
  {
   "cell_type": "code",
   "execution_count": 21,
   "metadata": {
    "colab": {
     "base_uri": "https://localhost:8080/",
     "height": 1000
    },
    "id": "B738_IXrFx2e",
    "outputId": "a9ec4c21-5d6f-480d-e487-c4ea4b7e73fb"
   },
   "outputs": [
    {
     "data": {
      "image/png": "[encoded data removed]",
      "text/plain": [
       "<Figure size 1000x1000 with 2 Axes>"
      ]
     },
     "metadata": {},
     "output_type": "display_data"
    },
    {
     "name": "stdout",
     "output_type": "stream",
     "text": [
      "Attack Strength df:\n",
      "          Team      Mean  HDI Lower  HDI Upper\n",
      "0        Euler  0.170721  -0.078892   0.460800\n",
      "1        Gauss  0.107890  -0.163289   0.382368\n",
      "2      Laplace -0.086513  -0.354747   0.188607\n",
      "3      Leibniz -0.349314  -0.631163  -0.074107\n",
      "4       Newton -0.122478  -0.380519   0.166616\n",
      "5  Von-Neumann  0.253119  -0.032445   0.502357\n",
      "Defense Strength df:\n",
      "          Team      Mean  HDI Lower  HDI Upper\n",
      "0        Euler -0.123864  -0.486332   0.243932\n",
      "1        Gauss -0.387713  -0.768689  -0.025807\n",
      "2      Laplace -0.039984  -0.393274   0.348214\n",
      "3      Leibniz  0.585722   0.214719   0.938342\n",
      "4       Newton  0.179898  -0.179624   0.552534\n",
      "5  Von-Neumann -0.194466  -0.552752   0.175136\n"
     ]
    }
   ],
   "source": [
    "# Extract the posterior samples\n",
    "att_samples = trace.posterior['att'].values\n",
    "def_samples = trace.posterior['def'].values\n",
    "\n",
    "# Calculate the HDI for attack and defense strengths\n",
    "hdi_att = az.hdi(att_samples, hdi_prob=0.94)\n",
    "hdi_def = az.hdi(def_samples, hdi_prob=0.94)\n",
    "\n",
    "# Prepare data for plotting\n",
    "team_names = teams\n",
    "att_mean = att_samples.mean(axis=(0, 1))\n",
    "def_mean = def_samples.mean(axis=(0, 1))\n",
    "\n",
    "att_hdi_lower = hdi_att[:, 0]\n",
    "att_hdi_upper = hdi_att[:, 1]\n",
    "def_hdi_lower = hdi_def[:, 0]\n",
    "def_hdi_upper = hdi_def[:, 1]\n",
    "\n",
    "# Create a DataFrame for easier plotting\n",
    "data_att = pd.DataFrame({\n",
    "    'Team': team_names,\n",
    "    'Mean': att_mean,\n",
    "    'HDI Lower': att_hdi_lower,\n",
    "    'HDI Upper': att_hdi_upper\n",
    "})\n",
    "\n",
    "data_def = pd.DataFrame({\n",
    "    'Team': team_names,\n",
    "    'Mean': def_mean,\n",
    "    'HDI Lower': def_hdi_lower,\n",
    "    'HDI Upper': def_hdi_upper\n",
    "})\n",
    "\n",
    "# Plotting\n",
    "fig, axes = plt.subplots(2, 1, figsize=(10, 10))\n",
    "\n",
    "# Attack Strength Plot\n",
    "axes[0].errorbar(data_att['Team'], data_att['Mean'],\n",
    "                 yerr=[data_att['Mean'] - data_att['HDI Lower'], data_att['HDI Upper'] - data_att['Mean']],\n",
    "                 fmt='o', capsize=5)\n",
    "axes[0].set_title('Attack Strength HDI')\n",
    "axes[0].set_xlabel('Team')\n",
    "axes[0].set_ylabel('Attack Strength')\n",
    "axes[0].grid(True)\n",
    "\n",
    "# Defense Strength Plot\n",
    "axes[1].errorbar(data_def['Team'], data_def['Mean'],\n",
    "                 yerr=[data_def['Mean'] - data_def['HDI Lower'], data_def['HDI Upper'] - data_def['Mean']],\n",
    "                 fmt='o', capsize=5)\n",
    "axes[1].set_title('Defense Strength HDI')\n",
    "axes[1].set_xlabel('Team')\n",
    "axes[1].set_ylabel('Defense Strength')\n",
    "axes[1].grid(True)\n",
    "\n",
    "plt.tight_layout()\n",
    "plt.show()\n",
    "\n",
    "print('Attack Strength df:')\n",
    "print(data_att)\n",
    "print('Defense Strength df:')\n",
    "print(data_def)"
   ]
  },
  {
   "cell_type": "code",
   "execution_count": 22,
   "metadata": {
    "colab": {
     "base_uri": "https://localhost:8080/"
    },
    "id": "XSiUBl03Fx2e",
    "outputId": "13984b6e-a5a0-45f1-b4af-b8085977461a"
   },
   "outputs": [
    {
     "name": "stdout",
     "output_type": "stream",
     "text": [
      "The player with the best offense is Von-Neumann\n",
      "The player with the worst offense is Leibniz\n",
      "The player with the best defense is Gauss\n",
      "The player with the worst defense is Leibniz\n"
     ]
    }
   ],
   "source": [
    "# Calculate the mean values of attack and defense parameters\n",
    "att_mean = att_samples.mean(axis=(0, 1))\n",
    "def_mean = def_samples.mean(axis=(0, 1))\n",
    "\n",
    "# Find the indices of the best and worst offense and defense\n",
    "best_offense_idx = np.argmax(att_mean)\n",
    "worst_offense_idx = np.argmin(att_mean)\n",
    "best_defense_idx = np.argmin(def_mean)  # Lower is better for defense\n",
    "worst_defense_idx = np.argmax(def_mean)  # Higher is worse for defense\n",
    "\n",
    "# Get the corresponding player names\n",
    "best_offense_player = teams[best_offense_idx]\n",
    "worst_offense_player = teams[worst_offense_idx]\n",
    "best_defense_player = teams[best_defense_idx]\n",
    "worst_defense_player = teams[worst_defense_idx]\n",
    "\n",
    "print(f\"The player with the best offense is {best_offense_player}\")\n",
    "print(f\"The player with the worst offense is {worst_offense_player}\")\n",
    "print(f\"The player with the best defense is {best_defense_player}\")\n",
    "print(f\"The player with the worst defense is {worst_defense_player}\")"
   ]
  },
  {
   "cell_type": "markdown",
   "metadata": {
    "id": "xpxyZMnSnS81"
   },
   "source": [
    "It seems that the results in this section are not completely aligned with the results we got in part 1.\n",
    "In one part we saw that Leibnitz is the least good player, and in this part we also saw the same result, but in the first part Euler seems to be the best player and here it is divided between Gauss as a defensive player and von Neumann as an attacking player"
   ]
  },
  {
   "cell_type": "markdown",
   "metadata": {
    "id": "R0JexfyJncHz"
   },
   "source": [
    "**2:**"
   ]
  },
  {
   "cell_type": "code",
   "execution_count": 23,
   "metadata": {
    "colab": {
     "base_uri": "https://localhost:8080/"
    },
    "id": "AGFrQQfmFx2e",
    "outputId": "14c8adb9-3d1f-4ec2-e834-2defc5a71c96"
   },
   "outputs": [
    {
     "name": "stdout",
     "output_type": "stream",
     "text": [
      "The probability that Euler has a better defense than Gauss is 0.000000.\n"
     ]
    }
   ],
   "source": [
    "euler_idx = teams.tolist().index('Euler')\n",
    "gauss_idx = teams.tolist().index('Gauss')\n",
    "\n",
    "# Extract the posterior samples for the defense parameters of Euler and Gauss\n",
    "euler_def_samples = def_samples[:, :, euler_idx]\n",
    "gauss_def_samples = def_samples[:, :, gauss_idx]\n",
    "\n",
    "# Calculate the proportion of samples where Euler's defense is less than Gauss's defense\n",
    "prob_euler_better_def = (euler_def_samples < gauss_def_samples).mean()\n",
    "\n",
    "print(f\"The probability that Euler has a better defense than Gauss is {prob_euler_better_def:.6f}.\")"
   ]
  },
  {
   "cell_type": "markdown",
   "metadata": {
    "id": "12VFk8XHquh2"
   },
   "source": [
    "**3:**"
   ]
  },
  {
   "cell_type": "code",
   "execution_count": 24,
   "metadata": {
    "colab": {
     "base_uri": "https://localhost:8080/"
    },
    "id": "n39oD_IyFx2e",
    "outputId": "4d9a3d00-c173-4306-a0d6-08d662ada38b"
   },
   "outputs": [
    {
     "name": "stdout",
     "output_type": "stream",
     "text": [
      "The probability that Leibniz will score more than 20 goals is 0.3651.\n",
      "The probability that Newton will score less than 20 goals is 0.1084.\n"
     ]
    }
   ],
   "source": [
    "# Get the indices for Leibniz and Newton\n",
    "leibniz_idx = teams.tolist().index('Leibniz')\n",
    "newton_idx = teams.tolist().index('Newton')\n",
    "\n",
    "# Extract the posterior samples for the parameters\n",
    "intercept_samples = trace.posterior['intercept'].values.flatten()\n",
    "home_samples = trace.posterior['home'].values.flatten()\n",
    "att_samples = trace.posterior['att'].values\n",
    "def_samples = trace.posterior['def'].values\n",
    "\n",
    "# Compute the expected goals (lambda) for Leibniz (home) and Newton (away)\n",
    "leibniz_attack = att_samples[:, :, leibniz_idx].flatten()\n",
    "newton_attack = att_samples[:, :, newton_idx].flatten()\n",
    "leibniz_defense = def_samples[:, :, leibniz_idx].flatten()\n",
    "newton_defense = def_samples[:, :, newton_idx].flatten()\n",
    "\n",
    "# Compute lambda values for Leibniz and Newton\n",
    "lambda_leibniz = np.exp(intercept_samples + home_samples + leibniz_attack + newton_defense)\n",
    "lambda_newton = np.exp(intercept_samples + newton_attack + leibniz_defense)\n",
    "\n",
    "# Ensure lambda values are correctly shaped for the number of simulations\n",
    "num_simulations = 40000\n",
    "lambda_leibniz_sim = np.random.choice(lambda_leibniz, size=num_simulations)\n",
    "lambda_newton_sim = np.random.choice(lambda_newton, size=num_simulations)\n",
    "\n",
    "# Simulate a large number of game outcomes using the Poisson distribution\n",
    "leibniz_goals = np.random.poisson(lam=lambda_leibniz_sim)\n",
    "newton_goals = np.random.poisson(lam=lambda_newton_sim)\n",
    "\n",
    "# Calculate the probabilities\n",
    "prob_leibniz_more_than_20 = np.mean(leibniz_goals > 20)\n",
    "prob_newton_less_than_20 = np.mean(newton_goals < 20)\n",
    "\n",
    "print(f\"The probability that Leibniz will score more than 20 goals is {prob_leibniz_more_than_20:.4f}.\")\n",
    "print(f\"The probability that Newton will score less than 20 goals is {prob_newton_less_than_20:.4f}.\")"
   ]
  },
  {
   "cell_type": "markdown",
   "metadata": {
    "id": "CP43D91ru_LP"
   },
   "source": [
    "**4:**"
   ]
  },
  {
   "cell_type": "code",
   "execution_count": 25,
   "metadata": {
    "colab": {
     "base_uri": "https://localhost:8080/",
     "height": 789
    },
    "id": "g_P2nnC0KqXd",
    "outputId": "4beb6a78-22d3-4d69-a59d-161ed09b60b3"
   },
   "outputs": [
    {
     "data": {
      "text/html": [
       "\n",
       "<style>\n",
       "    /* Turns off some styling */\n",
       "    progress {\n",
       "        /* gets rid of default border in Firefox and Opera. */\n",
       "        border: none;\n",
       "        /* Needs to be in here for Safari polyfill so background images work as expected. */\n",
       "        background-size: auto;\n",
       "    }\n",
       "    progress:not([value]), progress:not([value])::-webkit-progress-bar {\n",
       "        background: repeating-linear-gradient(45deg, #7e7e7e, #7e7e7e 10px, #5c5c5c 10px, #5c5c5c 20px);\n",
       "    }\n",
       "    .progress-bar-interrupted, .progress-bar-interrupted::-webkit-progress-bar {\n",
       "        background: #F44336;\n",
       "    }\n",
       "</style>\n"
      ],
      "text/plain": [
       "<IPython.core.display.HTML object>"
      ]
     },
     "metadata": {},
     "output_type": "display_data"
    },
    {
     "data": {
      "text/html": [
       "\n",
       "    <div>\n",
       "      <progress value='4000' class='' max='4000' style='width:300px; height:20px; vertical-align: middle;'></progress>\n",
       "      100.00% [4000/4000 00:00&lt;00:00]\n",
       "    </div>\n",
       "    "
      ],
      "text/plain": [
       "<IPython.core.display.HTML object>"
      ]
     },
     "metadata": {},
     "output_type": "display_data"
    },
    {
     "name": "stderr",
     "output_type": "stream",
     "text": [
      "<ipython-input-25-f35790858350>:57: MatplotlibDeprecationWarning: The get_cmap function was deprecated in Matplotlib 3.7 and will be removed two minor releases later. Use ``matplotlib.colormaps[name]`` or ``matplotlib.colormaps.get_cmap(obj)`` instead.\n",
      "  colors = plt.cm.get_cmap('tab10', len(teams)).colors  # Different colors for each team\n"
     ]
    },
    {
     "data": {
      "image/png": "[encoded data removed]",
      "text/plain": [
       "<Figure size 1500x800 with 1 Axes>"
      ]
     },
     "metadata": {},
     "output_type": "display_data"
    }
   ],
   "source": [
    "import pandas as pd\n",
    "import matplotlib.pyplot as plt\n",
    "import arviz as az\n",
    "import numpy as np\n",
    "\n",
    "RANDOM_SEED = 58\n",
    "rng = np.random.default_rng(RANDOM_SEED)\n",
    "\n",
    "# Sample from the posterior predictive distribution\n",
    "with mathball:\n",
    "    ppc = pm.sample_posterior_predictive(trace, extend_inferencedata=True, random_seed=rng)\n",
    "\n",
    "# Extract and reshape the predicted scores\n",
    "home_goals = ppc.posterior_predictive[\"y1\"].values.reshape(-1, ppc.posterior_predictive[\"y1\"].shape[-1])\n",
    "away_goals = ppc.posterior_predictive[\"y2\"].values.reshape(-1, ppc.posterior_predictive[\"y2\"].shape[-1])\n",
    "\n",
    "# Function to simulate match outcomes and calculate points\n",
    "def simulate_season(home_goals, away_goals, teams):\n",
    "    num_games = home_goals.shape[0]\n",
    "    points = {team: 0 for team in teams}\n",
    "\n",
    "    for game_idx in range(num_games):\n",
    "        home_team = teams[home_idx[game_idx]]\n",
    "        away_team = teams[away_idx[game_idx]]\n",
    "        home_score = home_goals[game_idx]\n",
    "        away_score = away_goals[game_idx]\n",
    "\n",
    "        if home_score > away_score:\n",
    "            points[home_team] += 3\n",
    "        elif home_score < away_score:\n",
    "            points[away_team] += 3\n",
    "        else:\n",
    "            points[home_team] += 1\n",
    "            points[away_team] += 1\n",
    "\n",
    "    return points\n",
    "\n",
    "# Simulate the seasons and calculate ranks\n",
    "num_simulations = home_goals.shape[0]\n",
    "all_ranks = {team: [] for team in teams}\n",
    "\n",
    "for i in range(num_simulations):\n",
    "    points = simulate_season(home_goals[i], away_goals[i], teams)\n",
    "    sorted_teams = sorted(points.keys(), key=lambda k: points[k], reverse=True)\n",
    "    for rank, team in enumerate(sorted_teams):\n",
    "        all_ranks[team].append(rank + 1)\n",
    "\n",
    "# Convert ranks to a DataFrame\n",
    "ranks_df = pd.DataFrame({team: pd.Series(ranks) for team, ranks in all_ranks.items()})\n",
    "\n",
    "# Calculate the probability of each rank for each team\n",
    "rank_probs = ranks_df.apply(lambda x: x.value_counts(normalize=True)).fillna(0)\n",
    "\n",
    "# Plot the results\n",
    "plt.figure(figsize=(15, 8))\n",
    "width = 0.1  # Width of each bar\n",
    "colors = plt.cm.get_cmap('tab10', len(teams)).colors  # Different colors for each team\n",
    "\n",
    "for i, team in enumerate(teams):\n",
    "    rank_probs[team].sort_index().plot(kind='bar', width=width, position=i, color=colors[i], label=team)\n",
    "\n",
    "plt.title('Rank Probabilities for Each Team')\n",
    "plt.xlabel('Rank')\n",
    "plt.ylabel('Probability')\n",
    "plt.legend(title='Team')\n",
    "plt.grid(True)\n",
    "plt.show()\n"
   ]
  },
  {
   "cell_type": "code",
   "execution_count": null,
   "metadata": {
    "id": "XXkaHaTLLHgc"
   },
   "outputs": [],
   "source": []
  }
 ],
 "metadata": {
  "anaconda-cloud": {},
  "colab": {
   "provenance": []
  },
  "kernelspec": {
   "display_name": "Python 3 (ipykernel)",
   "language": "python",
   "name": "python3"
  },
  "language_info": {
   "codemirror_mode": {
    "name": "ipython",
    "version": 3
   },
   "file_extension": ".py",
   "mimetype": "text/x-python",
   "name": "python",
   "nbconvert_exporter": "python",
   "pygments_lexer": "ipython3",
   "version": "3.9.13"
  },
  "substitutions": {
   "extra_dependencies": "seaborn numba xarray-einstats"
  }
 },
 "nbformat": 4,
 "nbformat_minor": 4
}
