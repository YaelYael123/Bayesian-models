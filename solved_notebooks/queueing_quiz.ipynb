{
  "cells": [
    {
      "cell_type": "code",
      "execution_count": 1,
      "id": "Ld8l_uHGJeBv",
      "metadata": {
        "colab": {
          "base_uri": "https://localhost:8080/"
        },
        "id": "Ld8l_uHGJeBv",
        "outputId": "8e6dc0c5-5c99-441c-c794-535705e62f7b"
      },
      "outputs": [
        {
          "output_type": "stream",
          "name": "stdout",
          "text": [
            "Requirement already satisfied: simpy in /usr/local/lib/python3.10/dist-packages (4.1.1)\n"
          ]
        }
      ],
      "source": [
        "!pip install simpy"
      ]
    },
    {
      "cell_type": "code",
      "execution_count": 2,
      "id": "b5cd8bd4-5684-4cf0-9804-4df887b47075",
      "metadata": {
        "id": "b5cd8bd4-5684-4cf0-9804-4df887b47075"
      },
      "outputs": [],
      "source": [
        "import numpy as np\n",
        "import pandas as pd\n",
        "import pickle as pkl\n",
        "import simpy\n",
        "import os\n",
        "import matplotlib.pyplot as plt\n",
        "import sys\n",
        "import simpy\n",
        "from sim_func import Sim_func\n",
        "import pymc as pm"
      ]
    },
    {
      "cell_type": "markdown",
      "id": "8b9f4cac-68fd-4dc9-a015-641f6fb6ad4e",
      "metadata": {
        "id": "8b9f4cac-68fd-4dc9-a015-641f6fb6ad4e"
      },
      "source": [
        "## Welcome to the Queue quiz\n",
        "\n",
        "### You are now incharge of the a queueing system in your work place. Your factory works 24/7 and creates flawless semi-conducter chips.\n",
        "\n",
        "### Jobs are arriving with a constant rate, on average one every 12 seconds. However, the service times changes with time. We split the week into a 168 grid, where we have 7 days and 24 hours within a single day. For each cell in the grid, that is a combination of a day and an hour we have different service rate.\n"
      ]
    },
    {
      "cell_type": "markdown",
      "id": "eaeccfdb-855b-42da-9db8-7e2d66277820",
      "metadata": {
        "id": "eaeccfdb-855b-42da-9db8-7e2d66277820"
      },
      "source": [
        "## Part 1:\n",
        "\n",
        "### We first focus on a single service time of a single cell in the grid. Being more specific, Monday from 08:00 to 09:00.\n",
        "### In event_log_single_ser below you have pandas dataframe with the eventlog of this specific cell.\n",
        "\n",
        "### Your jobs is to understand what is the average service time and its distirbution using Bayesian analysis."
      ]
    },
    {
      "cell_type": "code",
      "execution_count": 3,
      "id": "d94aee4f-4846-471e-872e-f1840c814af0",
      "metadata": {
        "colab": {
          "base_uri": "https://localhost:8080/",
          "height": 206
        },
        "id": "d94aee4f-4846-471e-872e-f1840c814af0",
        "outputId": "545e6141-c687-4b46-fdd2-9969285dae8c"
      },
      "outputs": [
        {
          "output_type": "execute_result",
          "data": {
            "text/plain": [
              "   customer_id  num_cust          event  time_stamp  day  hour\n",
              "0            0         0        Arrival   30.105252    2     8\n",
              "1            0         1  Enter_service   30.105252    2     8\n",
              "2            0         0      Departure   37.798838    2     8\n",
              "3            1         0        Arrival   38.750399    2     8\n",
              "4            1         1  Enter_service   38.750399    2     8"
            ],
            "text/html": [
              "\n",
              "  <div id=\"df-08a93e5b-a7f7-4288-be8c-ae3c50f6647c\" class=\"colab-df-container\">\n",
              "    <div>\n",
              "<style scoped>\n",
              "    .dataframe tbody tr th:only-of-type {\n",
              "        vertical-align: middle;\n",
              "    }\n",
              "\n",
              "    .dataframe tbody tr th {\n",
              "        vertical-align: top;\n",
              "    }\n",
              "\n",
              "    .dataframe thead th {\n",
              "        text-align: right;\n",
              "    }\n",
              "</style>\n",
              "<table border=\"1\" class=\"dataframe\">\n",
              "  <thead>\n",
              "    <tr style=\"text-align: right;\">\n",
              "      <th></th>\n",
              "      <th>customer_id</th>\n",
              "      <th>num_cust</th>\n",
              "      <th>event</th>\n",
              "      <th>time_stamp</th>\n",
              "      <th>day</th>\n",
              "      <th>hour</th>\n",
              "    </tr>\n",
              "  </thead>\n",
              "  <tbody>\n",
              "    <tr>\n",
              "      <th>0</th>\n",
              "      <td>0</td>\n",
              "      <td>0</td>\n",
              "      <td>Arrival</td>\n",
              "      <td>30.105252</td>\n",
              "      <td>2</td>\n",
              "      <td>8</td>\n",
              "    </tr>\n",
              "    <tr>\n",
              "      <th>1</th>\n",
              "      <td>0</td>\n",
              "      <td>1</td>\n",
              "      <td>Enter_service</td>\n",
              "      <td>30.105252</td>\n",
              "      <td>2</td>\n",
              "      <td>8</td>\n",
              "    </tr>\n",
              "    <tr>\n",
              "      <th>2</th>\n",
              "      <td>0</td>\n",
              "      <td>0</td>\n",
              "      <td>Departure</td>\n",
              "      <td>37.798838</td>\n",
              "      <td>2</td>\n",
              "      <td>8</td>\n",
              "    </tr>\n",
              "    <tr>\n",
              "      <th>3</th>\n",
              "      <td>1</td>\n",
              "      <td>0</td>\n",
              "      <td>Arrival</td>\n",
              "      <td>38.750399</td>\n",
              "      <td>2</td>\n",
              "      <td>8</td>\n",
              "    </tr>\n",
              "    <tr>\n",
              "      <th>4</th>\n",
              "      <td>1</td>\n",
              "      <td>1</td>\n",
              "      <td>Enter_service</td>\n",
              "      <td>38.750399</td>\n",
              "      <td>2</td>\n",
              "      <td>8</td>\n",
              "    </tr>\n",
              "  </tbody>\n",
              "</table>\n",
              "</div>\n",
              "    <div class=\"colab-df-buttons\">\n",
              "\n",
              "  <div class=\"colab-df-container\">\n",
              "    <button class=\"colab-df-convert\" onclick=\"convertToInteractive('df-08a93e5b-a7f7-4288-be8c-ae3c50f6647c')\"\n",
              "            title=\"Convert this dataframe to an interactive table.\"\n",
              "            style=\"display:none;\">\n",
              "\n",
              "  <svg xmlns=\"http://www.w3.org/2000/svg\" height=\"24px\" viewBox=\"0 -960 960 960\">\n",
              "    <path d=\"M120-120v-720h720v720H120Zm60-500h600v-160H180v160Zm220 220h160v-160H400v160Zm0 220h160v-160H400v160ZM180-400h160v-160H180v160Zm440 0h160v-160H620v160ZM180-180h160v-160H180v160Zm440 0h160v-160H620v160Z\"/>\n",
              "  </svg>\n",
              "    </button>\n",
              "\n",
              "  <style>\n",
              "    .colab-df-container {\n",
              "      display:flex;\n",
              "      gap: 12px;\n",
              "    }\n",
              "\n",
              "    .colab-df-convert {\n",
              "      background-color: #E8F0FE;\n",
              "      border: none;\n",
              "      border-radius: 50%;\n",
              "      cursor: pointer;\n",
              "      display: none;\n",
              "      fill: #1967D2;\n",
              "      height: 32px;\n",
              "      padding: 0 0 0 0;\n",
              "      width: 32px;\n",
              "    }\n",
              "\n",
              "    .colab-df-convert:hover {\n",
              "      background-color: #E2EBFA;\n",
              "      box-shadow: 0px 1px 2px rgba(60, 64, 67, 0.3), 0px 1px 3px 1px rgba(60, 64, 67, 0.15);\n",
              "      fill: #174EA6;\n",
              "    }\n",
              "\n",
              "    .colab-df-buttons div {\n",
              "      margin-bottom: 4px;\n",
              "    }\n",
              "\n",
              "    [theme=dark] .colab-df-convert {\n",
              "      background-color: #3B4455;\n",
              "      fill: #D2E3FC;\n",
              "    }\n",
              "\n",
              "    [theme=dark] .colab-df-convert:hover {\n",
              "      background-color: #434B5C;\n",
              "      box-shadow: 0px 1px 3px 1px rgba(0, 0, 0, 0.15);\n",
              "      filter: drop-shadow(0px 1px 2px rgba(0, 0, 0, 0.3));\n",
              "      fill: #FFFFFF;\n",
              "    }\n",
              "  </style>\n",
              "\n",
              "    <script>\n",
              "      const buttonEl =\n",
              "        document.querySelector('#df-08a93e5b-a7f7-4288-be8c-ae3c50f6647c button.colab-df-convert');\n",
              "      buttonEl.style.display =\n",
              "        google.colab.kernel.accessAllowed ? 'block' : 'none';\n",
              "\n",
              "      async function convertToInteractive(key) {\n",
              "        const element = document.querySelector('#df-08a93e5b-a7f7-4288-be8c-ae3c50f6647c');\n",
              "        const dataTable =\n",
              "          await google.colab.kernel.invokeFunction('convertToInteractive',\n",
              "                                                    [key], {});\n",
              "        if (!dataTable) return;\n",
              "\n",
              "        const docLinkHtml = 'Like what you see? Visit the ' +\n",
              "          '<a target=\"_blank\" href=https://colab.research.google.com/notebooks/data_table.ipynb>data table notebook</a>'\n",
              "          + ' to learn more about interactive tables.';\n",
              "        element.innerHTML = '';\n",
              "        dataTable['output_type'] = 'display_data';\n",
              "        await google.colab.output.renderOutput(dataTable, element);\n",
              "        const docLink = document.createElement('div');\n",
              "        docLink.innerHTML = docLinkHtml;\n",
              "        element.appendChild(docLink);\n",
              "      }\n",
              "    </script>\n",
              "  </div>\n",
              "\n",
              "\n",
              "<div id=\"df-64055251-0ced-4d1c-a1da-d2d2b52ecdeb\">\n",
              "  <button class=\"colab-df-quickchart\" onclick=\"quickchart('df-64055251-0ced-4d1c-a1da-d2d2b52ecdeb')\"\n",
              "            title=\"Suggest charts\"\n",
              "            style=\"display:none;\">\n",
              "\n",
              "<svg xmlns=\"http://www.w3.org/2000/svg\" height=\"24px\"viewBox=\"0 0 24 24\"\n",
              "     width=\"24px\">\n",
              "    <g>\n",
              "        <path d=\"M19 3H5c-1.1 0-2 .9-2 2v14c0 1.1.9 2 2 2h14c1.1 0 2-.9 2-2V5c0-1.1-.9-2-2-2zM9 17H7v-7h2v7zm4 0h-2V7h2v10zm4 0h-2v-4h2v4z\"/>\n",
              "    </g>\n",
              "</svg>\n",
              "  </button>\n",
              "\n",
              "<style>\n",
              "  .colab-df-quickchart {\n",
              "      --bg-color: #E8F0FE;\n",
              "      --fill-color: #1967D2;\n",
              "      --hover-bg-color: #E2EBFA;\n",
              "      --hover-fill-color: #174EA6;\n",
              "      --disabled-fill-color: #AAA;\n",
              "      --disabled-bg-color: #DDD;\n",
              "  }\n",
              "\n",
              "  [theme=dark] .colab-df-quickchart {\n",
              "      --bg-color: #3B4455;\n",
              "      --fill-color: #D2E3FC;\n",
              "      --hover-bg-color: #434B5C;\n",
              "      --hover-fill-color: #FFFFFF;\n",
              "      --disabled-bg-color: #3B4455;\n",
              "      --disabled-fill-color: #666;\n",
              "  }\n",
              "\n",
              "  .colab-df-quickchart {\n",
              "    background-color: var(--bg-color);\n",
              "    border: none;\n",
              "    border-radius: 50%;\n",
              "    cursor: pointer;\n",
              "    display: none;\n",
              "    fill: var(--fill-color);\n",
              "    height: 32px;\n",
              "    padding: 0;\n",
              "    width: 32px;\n",
              "  }\n",
              "\n",
              "  .colab-df-quickchart:hover {\n",
              "    background-color: var(--hover-bg-color);\n",
              "    box-shadow: 0 1px 2px rgba(60, 64, 67, 0.3), 0 1px 3px 1px rgba(60, 64, 67, 0.15);\n",
              "    fill: var(--button-hover-fill-color);\n",
              "  }\n",
              "\n",
              "  .colab-df-quickchart-complete:disabled,\n",
              "  .colab-df-quickchart-complete:disabled:hover {\n",
              "    background-color: var(--disabled-bg-color);\n",
              "    fill: var(--disabled-fill-color);\n",
              "    box-shadow: none;\n",
              "  }\n",
              "\n",
              "  .colab-df-spinner {\n",
              "    border: 2px solid var(--fill-color);\n",
              "    border-color: transparent;\n",
              "    border-bottom-color: var(--fill-color);\n",
              "    animation:\n",
              "      spin 1s steps(1) infinite;\n",
              "  }\n",
              "\n",
              "  @keyframes spin {\n",
              "    0% {\n",
              "      border-color: transparent;\n",
              "      border-bottom-color: var(--fill-color);\n",
              "      border-left-color: var(--fill-color);\n",
              "    }\n",
              "    20% {\n",
              "      border-color: transparent;\n",
              "      border-left-color: var(--fill-color);\n",
              "      border-top-color: var(--fill-color);\n",
              "    }\n",
              "    30% {\n",
              "      border-color: transparent;\n",
              "      border-left-color: var(--fill-color);\n",
              "      border-top-color: var(--fill-color);\n",
              "      border-right-color: var(--fill-color);\n",
              "    }\n",
              "    40% {\n",
              "      border-color: transparent;\n",
              "      border-right-color: var(--fill-color);\n",
              "      border-top-color: var(--fill-color);\n",
              "    }\n",
              "    60% {\n",
              "      border-color: transparent;\n",
              "      border-right-color: var(--fill-color);\n",
              "    }\n",
              "    80% {\n",
              "      border-color: transparent;\n",
              "      border-right-color: var(--fill-color);\n",
              "      border-bottom-color: var(--fill-color);\n",
              "    }\n",
              "    90% {\n",
              "      border-color: transparent;\n",
              "      border-bottom-color: var(--fill-color);\n",
              "    }\n",
              "  }\n",
              "</style>\n",
              "\n",
              "  <script>\n",
              "    async function quickchart(key) {\n",
              "      const quickchartButtonEl =\n",
              "        document.querySelector('#' + key + ' button');\n",
              "      quickchartButtonEl.disabled = true;  // To prevent multiple clicks.\n",
              "      quickchartButtonEl.classList.add('colab-df-spinner');\n",
              "      try {\n",
              "        const charts = await google.colab.kernel.invokeFunction(\n",
              "            'suggestCharts', [key], {});\n",
              "      } catch (error) {\n",
              "        console.error('Error during call to suggestCharts:', error);\n",
              "      }\n",
              "      quickchartButtonEl.classList.remove('colab-df-spinner');\n",
              "      quickchartButtonEl.classList.add('colab-df-quickchart-complete');\n",
              "    }\n",
              "    (() => {\n",
              "      let quickchartButtonEl =\n",
              "        document.querySelector('#df-64055251-0ced-4d1c-a1da-d2d2b52ecdeb button');\n",
              "      quickchartButtonEl.style.display =\n",
              "        google.colab.kernel.accessAllowed ? 'block' : 'none';\n",
              "    })();\n",
              "  </script>\n",
              "</div>\n",
              "\n",
              "    </div>\n",
              "  </div>\n"
            ],
            "application/vnd.google.colaboratory.intrinsic+json": {
              "type": "dataframe",
              "variable_name": "event_log_single_ser",
              "summary": "{\n  \"name\": \"event_log_single_ser\",\n  \"rows\": 2189,\n  \"fields\": [\n    {\n      \"column\": \"customer_id\",\n      \"properties\": {\n        \"dtype\": \"number\",\n        \"std\": 210,\n        \"min\": 0,\n        \"max\": 731,\n        \"num_unique_values\": 732,\n        \"samples\": [\n          604,\n          33,\n          300\n        ],\n        \"semantic_type\": \"\",\n        \"description\": \"\"\n      }\n    },\n    {\n      \"column\": \"num_cust\",\n      \"properties\": {\n        \"dtype\": \"number\",\n        \"std\": 7,\n        \"min\": 0,\n        \"max\": 30,\n        \"num_unique_values\": 31,\n        \"samples\": [\n          27,\n          15,\n          23\n        ],\n        \"semantic_type\": \"\",\n        \"description\": \"\"\n      }\n    },\n    {\n      \"column\": \"event\",\n      \"properties\": {\n        \"dtype\": \"category\",\n        \"num_unique_values\": 3,\n        \"samples\": [\n          \"Arrival\",\n          \"Enter_service\",\n          \"Departure\"\n        ],\n        \"semantic_type\": \"\",\n        \"description\": \"\"\n      }\n    },\n    {\n      \"column\": \"time_stamp\",\n      \"properties\": {\n        \"dtype\": \"number\",\n        \"std\": 2484.9939968237045,\n        \"min\": 30.105251926144522,\n        \"max\": 8638.713687991481,\n        \"num_unique_values\": 1460,\n        \"samples\": [\n          5327.37948635845,\n          6495.060382466835,\n          2300.0332126656626\n        ],\n        \"semantic_type\": \"\",\n        \"description\": \"\"\n      }\n    },\n    {\n      \"column\": \"day\",\n      \"properties\": {\n        \"dtype\": \"number\",\n        \"std\": 0,\n        \"min\": 2,\n        \"max\": 2,\n        \"num_unique_values\": 1,\n        \"samples\": [\n          2\n        ],\n        \"semantic_type\": \"\",\n        \"description\": \"\"\n      }\n    },\n    {\n      \"column\": \"hour\",\n      \"properties\": {\n        \"dtype\": \"number\",\n        \"std\": 0,\n        \"min\": 8,\n        \"max\": 8,\n        \"num_unique_values\": 1,\n        \"samples\": [\n          8\n        ],\n        \"semantic_type\": \"\",\n        \"description\": \"\"\n      }\n    }\n  ]\n}"
            }
          },
          "metadata": {},
          "execution_count": 3
        }
      ],
      "source": [
        "event_log_single_ser = pkl.load(open('../content/data_queueing_quiz/event_log_single_ser.pkl', 'rb'))\n",
        "event_log_single_ser.head()"
      ]
    },
    {
      "cell_type": "markdown",
      "id": "77f989c5-8d61-4a3c-abe1-c5f5b94f0504",
      "metadata": {
        "id": "77f989c5-8d61-4a3c-abe1-c5f5b94f0504"
      },
      "source": [
        "## Explanation about the dataframe columns:\n",
        "\n",
        "### 1. customer_id: the id of customer, each customer has is own id.\n",
        "### 2. num_cust: the number of customers in the system (including service) prior to the event.\n",
        "### 3. event: there three type of events: arrival, entering service and departing the system.\n",
        "### 4. Timestamp: The total time elapased since hour 0 day 1 in seconds.\n",
        "### 6. day: the day of the week from 1 to 7 where 1 is Sunday.\n",
        "### 7. hour: the hour of the day 0-23, where 0 is midnight."
      ]
    },
    {
      "cell_type": "markdown",
      "id": "b912f6bb-a255-4118-8883-9f48e2955324",
      "metadata": {
        "id": "b912f6bb-a255-4118-8883-9f48e2955324"
      },
      "source": [
        "## Tasks:\n",
        "\n",
        "### 1. Do Bayesian anaysis for the average service rate and its distirbution.\n",
        "### 2. What did you use as the likelihood function and why?\n",
        "### 3. Do  posterior predicitive anaysis to assert that the chosen likelihood distribution is valid.\n",
        "### 4. According to the resulted anaysis, how certain are you about the average service prediction?"
      ]
    },
    {
      "cell_type": "markdown",
      "id": "60dbf415-3eb3-476b-82a0-5a58e7115c6a",
      "metadata": {
        "id": "60dbf415-3eb3-476b-82a0-5a58e7115c6a"
      },
      "source": [
        "## Answers and code"
      ]
    },
    {
      "cell_type": "markdown",
      "id": "r-QBD-fpUA-p",
      "metadata": {
        "id": "r-QBD-fpUA-p"
      },
      "source": [
        "### **1. Bayesian anaysis for the average service rate and its distirbution:**"
      ]
    },
    {
      "cell_type": "markdown",
      "id": "PLzi4Tw9oE5D",
      "metadata": {
        "id": "PLzi4Tw9oE5D"
      },
      "source": [
        "Let's see how the information is defined:"
      ]
    },
    {
      "cell_type": "code",
      "execution_count": 4,
      "id": "71101020-7ee5-49a5-bb40-67bc644e1d75",
      "metadata": {
        "colab": {
          "base_uri": "https://localhost:8080/"
        },
        "id": "71101020-7ee5-49a5-bb40-67bc644e1d75",
        "outputId": "7f03f9c7-88c6-400d-ff79-a8ba97d72f6c"
      },
      "outputs": [
        {
          "output_type": "stream",
          "name": "stdout",
          "text": [
            "<class 'pandas.core.frame.DataFrame'>\n",
            "RangeIndex: 2189 entries, 0 to 2188\n",
            "Data columns (total 6 columns):\n",
            " #   Column       Non-Null Count  Dtype  \n",
            "---  ------       --------------  -----  \n",
            " 0   customer_id  2189 non-null   int64  \n",
            " 1   num_cust     2189 non-null   int64  \n",
            " 2   event        2189 non-null   object \n",
            " 3   time_stamp   2189 non-null   float64\n",
            " 4   day          2189 non-null   int64  \n",
            " 5   hour         2189 non-null   int64  \n",
            "dtypes: float64(1), int64(4), object(1)\n",
            "memory usage: 102.7+ KB\n"
          ]
        }
      ],
      "source": [
        "event_log_single_ser.info()"
      ]
    },
    {
      "cell_type": "markdown",
      "id": "RlO4tXjTnn3d",
      "metadata": {
        "id": "RlO4tXjTnn3d"
      },
      "source": [
        "Let's see how many unique customers there are:"
      ]
    },
    {
      "cell_type": "code",
      "execution_count": 5,
      "id": "j3trh9ZDnT9Y",
      "metadata": {
        "colab": {
          "base_uri": "https://localhost:8080/"
        },
        "id": "j3trh9ZDnT9Y",
        "outputId": "6805b0d2-866d-4007-b5b8-8bf8c8c5f4dd"
      },
      "outputs": [
        {
          "output_type": "execute_result",
          "data": {
            "text/plain": [
              "732"
            ]
          },
          "metadata": {},
          "execution_count": 5
        }
      ],
      "source": [
        "event_log_single_ser.groupby('customer_id').sum().shape[0]"
      ]
    },
    {
      "cell_type": "markdown",
      "id": "JNiaYu3Gpu8v",
      "metadata": {
        "id": "JNiaYu3Gpu8v"
      },
      "source": [
        "We will create the service rate by the 'Departure' time minus the 'Enter_service':"
      ]
    },
    {
      "cell_type": "code",
      "execution_count": 6,
      "id": "dc2e8907-5298-4b27-84e6-fabd0016d4a0",
      "metadata": {
        "colab": {
          "base_uri": "https://localhost:8080/"
        },
        "id": "dc2e8907-5298-4b27-84e6-fabd0016d4a0",
        "outputId": "43be7e0c-2df9-446c-cbe9-29ef310bdeac"
      },
      "outputs": [
        {
          "output_type": "execute_result",
          "data": {
            "text/plain": [
              "customer_id\n",
              "0       7.693586\n",
              "1      10.833411\n",
              "2       2.347220\n",
              "3       1.187283\n",
              "4      16.139319\n",
              "         ...    \n",
              "723     2.962984\n",
              "724     8.557054\n",
              "725     4.835950\n",
              "726    19.210130\n",
              "727     5.067164\n",
              "Name: time_stamp, Length: 728, dtype: float64"
            ]
          },
          "metadata": {},
          "execution_count": 6
        }
      ],
      "source": [
        "# Extract service times\n",
        "enter_service_times = event_log_single_ser[event_log_single_ser['event'] == 'Enter_service'].set_index('customer_id')['time_stamp']\n",
        "departure_times = event_log_single_ser[event_log_single_ser['event'] == 'Departure'].set_index('customer_id')['time_stamp']\n",
        "\n",
        "# Calculate service times\n",
        "service_rate = departure_times - enter_service_times\n",
        "service_rate = service_rate.dropna()\n",
        "\n",
        "service_rate"
      ]
    },
    {
      "cell_type": "markdown",
      "id": "3dLEBWXm0vlA",
      "metadata": {
        "id": "3dLEBWXm0vlA"
      },
      "source": [
        "**Average service rate and its distirbution:**"
      ]
    },
    {
      "cell_type": "code",
      "execution_count": 7,
      "id": "Uqe6AO9QzWaJ",
      "metadata": {
        "colab": {
          "base_uri": "https://localhost:8080/"
        },
        "id": "Uqe6AO9QzWaJ",
        "outputId": "15ea3ba6-2971-439f-f49b-15cb4ee3470d"
      },
      "outputs": [
        {
          "output_type": "execute_result",
          "data": {
            "text/plain": [
              "10.189650379419726"
            ]
          },
          "metadata": {},
          "execution_count": 7
        }
      ],
      "source": [
        "service_rate.mean()"
      ]
    },
    {
      "cell_type": "code",
      "execution_count": 8,
      "id": "X8y3JxD5qqBF",
      "metadata": {
        "colab": {
          "base_uri": "https://localhost:8080/",
          "height": 467
        },
        "id": "X8y3JxD5qqBF",
        "outputId": "70e38b0d-b352-4f2f-d973-e357a5095266"
      },
      "outputs": [
        {
          "output_type": "execute_result",
          "data": {
            "text/plain": [
              "Text(0.5, 0, 'service rate')"
            ]
          },
          "metadata": {},
          "execution_count": 8
        },
        {
          "output_type": "display_data",
          "data": {
            "text/plain": [
              "<Figure size 640x480 with 1 Axes>"
            ],
            "image/png": "[encoded data removed]"
          },
          "metadata": {}
        }
      ],
      "source": [
        "plt.hist(service_rate, histtype='stepfilled', bins=30, alpha=0.85,\n",
        "         label=\"service rate in seconds\", color=\"#7A68A6\", density=True)\n",
        "plt.ylabel(\"value in seconds\")\n",
        "plt.xlabel(\"service rate\")"
      ]
    },
    {
      "cell_type": "markdown",
      "id": "rfTtzIFcvqMN",
      "metadata": {
        "id": "rfTtzIFcvqMN"
      },
      "source": [
        "Looks like an exponential distribution and since it is about time it also makes sense that this is what we will get"
      ]
    },
    {
      "cell_type": "markdown",
      "id": "HI1JZ9z81Tqw",
      "metadata": {
        "id": "HI1JZ9z81Tqw"
      },
      "source": [
        "**Bayesian anaysis:**"
      ]
    },
    {
      "cell_type": "code",
      "execution_count": 9,
      "id": "hoKtee6DBQ9A",
      "metadata": {
        "colab": {
          "base_uri": "https://localhost:8080/",
          "height": 57
        },
        "id": "hoKtee6DBQ9A",
        "outputId": "0970d2a2-c6d4-4ed2-c707-51add3eec61b"
      },
      "outputs": [
        {
          "output_type": "display_data",
          "data": {
            "text/plain": [
              "<IPython.core.display.HTML object>"
            ],
            "text/html": [
              "\n",
              "<style>\n",
              "    /* Turns off some styling */\n",
              "    progress {\n",
              "        /* gets rid of default border in Firefox and Opera. */\n",
              "        border: none;\n",
              "        /* Needs to be in here for Safari polyfill so background images work as expected. */\n",
              "        background-size: auto;\n",
              "    }\n",
              "    progress:not([value]), progress:not([value])::-webkit-progress-bar {\n",
              "        background: repeating-linear-gradient(45deg, #7e7e7e, #7e7e7e 10px, #5c5c5c 10px, #5c5c5c 20px);\n",
              "    }\n",
              "    .progress-bar-interrupted, .progress-bar-interrupted::-webkit-progress-bar {\n",
              "        background: #F44336;\n",
              "    }\n",
              "</style>\n"
            ]
          },
          "metadata": {}
        },
        {
          "output_type": "display_data",
          "data": {
            "text/plain": [
              "<IPython.core.display.HTML object>"
            ],
            "text/html": [
              "\n",
              "    <div>\n",
              "      <progress value='6000' class='' max='6000' style='width:300px; height:20px; vertical-align: middle;'></progress>\n",
              "      100.00% [6000/6000 00:10&lt;00:00 Sampling chain 0, 0 divergences]\n",
              "    </div>\n",
              "    "
            ]
          },
          "metadata": {}
        },
        {
          "output_type": "display_data",
          "data": {
            "text/plain": [
              "<IPython.core.display.HTML object>"
            ],
            "text/html": [
              "\n",
              "<style>\n",
              "    /* Turns off some styling */\n",
              "    progress {\n",
              "        /* gets rid of default border in Firefox and Opera. */\n",
              "        border: none;\n",
              "        /* Needs to be in here for Safari polyfill so background images work as expected. */\n",
              "        background-size: auto;\n",
              "    }\n",
              "    progress:not([value]), progress:not([value])::-webkit-progress-bar {\n",
              "        background: repeating-linear-gradient(45deg, #7e7e7e, #7e7e7e 10px, #5c5c5c 10px, #5c5c5c 20px);\n",
              "    }\n",
              "    .progress-bar-interrupted, .progress-bar-interrupted::-webkit-progress-bar {\n",
              "        background: #F44336;\n",
              "    }\n",
              "</style>\n"
            ]
          },
          "metadata": {}
        },
        {
          "output_type": "display_data",
          "data": {
            "text/plain": [
              "<IPython.core.display.HTML object>"
            ],
            "text/html": [
              "\n",
              "    <div>\n",
              "      <progress value='6000' class='' max='6000' style='width:300px; height:20px; vertical-align: middle;'></progress>\n",
              "      100.00% [6000/6000 00:08&lt;00:00 Sampling chain 1, 0 divergences]\n",
              "    </div>\n",
              "    "
            ]
          },
          "metadata": {}
        }
      ],
      "source": [
        "with pm.Model() as service_rate_model:\n",
        "\n",
        "    # Priors for unknown model parameters\n",
        "    sigma = 1.0/service_rate.mean()\n",
        "    lamda = pm.HalfNormal('lamda', sigma=sigma)\n",
        "\n",
        "    # Likelihood (sampling distribution) of observations\n",
        "    service_rate_obs = pm.Exponential('service_rate_obs', lam=lamda, observed=service_rate)\n",
        "\n",
        "    # Sample from the posterior\n",
        "    trace = pm.sample(5000, tune=1000)"
      ]
    },
    {
      "cell_type": "code",
      "execution_count": 10,
      "id": "LQObv0v1Gbzj",
      "metadata": {
        "colab": {
          "base_uri": "https://localhost:8080/",
          "height": 332
        },
        "id": "LQObv0v1Gbzj",
        "outputId": "d2c5382a-13fa-4671-d323-b2ceba95e616"
      },
      "outputs": [
        {
          "output_type": "execute_result",
          "data": {
            "image/svg+xml": "<?xml version=\"1.0\" encoding=\"UTF-8\" standalone=\"no\"?>\n<!DOCTYPE svg PUBLIC \"-//W3C//DTD SVG 1.1//EN\"\n \"http://www.w3.org/Graphics/SVG/1.1/DTD/svg11.dtd\">\n<!-- Generated by graphviz version 2.43.0 (0)\n -->\n<!-- Title: %3 Pages: 1 -->\n<svg width=\"192pt\" height=\"233pt\"\n viewBox=\"0.00 0.00 192.00 232.91\" xmlns=\"http://www.w3.org/2000/svg\" xmlns:xlink=\"http://www.w3.org/1999/xlink\">\n<g id=\"graph0\" class=\"graph\" transform=\"scale(1 1) rotate(0) translate(4 228.91)\">\n<title>%3</title>\n<polygon fill=\"white\" stroke=\"transparent\" points=\"-4,4 -4,-228.91 188,-228.91 188,4 -4,4\"/>\n<g id=\"clust1\" class=\"cluster\">\n<title>cluster728</title>\n<path fill=\"none\" stroke=\"black\" d=\"M20,-8C20,-8 164,-8 164,-8 170,-8 176,-14 176,-20 176,-20 176,-109.95 176,-109.95 176,-115.95 170,-121.95 164,-121.95 164,-121.95 20,-121.95 20,-121.95 14,-121.95 8,-115.95 8,-109.95 8,-109.95 8,-20 8,-20 8,-14 14,-8 20,-8\"/>\n<text text-anchor=\"middle\" x=\"157.5\" y=\"-15.8\" font-family=\"Times,serif\" font-size=\"14.00\">728</text>\n</g>\n<!-- lamda -->\n<g id=\"node1\" class=\"node\">\n<title>lamda</title>\n<ellipse fill=\"none\" stroke=\"black\" cx=\"92\" cy=\"-187.43\" rx=\"58.88\" ry=\"37.45\"/>\n<text text-anchor=\"middle\" x=\"92\" y=\"-198.73\" font-family=\"Times,serif\" font-size=\"14.00\">lamda</text>\n<text text-anchor=\"middle\" x=\"92\" y=\"-183.73\" font-family=\"Times,serif\" font-size=\"14.00\">~</text>\n<text text-anchor=\"middle\" x=\"92\" y=\"-168.73\" font-family=\"Times,serif\" font-size=\"14.00\">HalfNormal</text>\n</g>\n<!-- service_rate_obs -->\n<g id=\"node2\" class=\"node\">\n<title>service_rate_obs</title>\n<ellipse fill=\"lightgrey\" stroke=\"black\" cx=\"92\" cy=\"-76.48\" rx=\"75.82\" ry=\"37.45\"/>\n<text text-anchor=\"middle\" x=\"92\" y=\"-87.78\" font-family=\"Times,serif\" font-size=\"14.00\">service_rate_obs</text>\n<text text-anchor=\"middle\" x=\"92\" y=\"-72.78\" font-family=\"Times,serif\" font-size=\"14.00\">~</text>\n<text text-anchor=\"middle\" x=\"92\" y=\"-57.78\" font-family=\"Times,serif\" font-size=\"14.00\">Exponential</text>\n</g>\n<!-- lamda&#45;&gt;service_rate_obs -->\n<g id=\"edge1\" class=\"edge\">\n<title>lamda&#45;&gt;service_rate_obs</title>\n<path fill=\"none\" stroke=\"black\" d=\"M92,-149.85C92,-141.67 92,-132.89 92,-124.37\"/>\n<polygon fill=\"black\" stroke=\"black\" points=\"95.5,-124.15 92,-114.15 88.5,-124.15 95.5,-124.15\"/>\n</g>\n</g>\n</svg>\n",
            "text/plain": [
              "<graphviz.graphs.Digraph at 0x7dac153aa6e0>"
            ]
          },
          "metadata": {},
          "execution_count": 10
        }
      ],
      "source": [
        "from pymc import model_to_graphviz\n",
        "model_to_graphviz(service_rate_model)"
      ]
    },
    {
      "cell_type": "code",
      "execution_count": 11,
      "id": "GDIim3Cs-n3k",
      "metadata": {
        "colab": {
          "base_uri": "https://localhost:8080/",
          "height": 328
        },
        "id": "GDIim3Cs-n3k",
        "outputId": "b4d6d509-bdff-4ad0-df83-1d407d1f786d"
      },
      "outputs": [
        {
          "output_type": "stream",
          "name": "stderr",
          "text": [
            "/usr/local/lib/python3.10/dist-packages/arviz/utils.py:184: NumbaDeprecationWarning: The 'nopython' keyword argument was not supplied to the 'numba.jit' decorator. The implicit default value for this argument is currently False, but it will be changed to True in Numba 0.59.0. See https://numba.readthedocs.io/en/stable/reference/deprecation.html#deprecation-of-object-mode-fall-back-behaviour-when-using-jit for details.\n",
            "  numba_fn = numba.jit(**self.kwargs)(self.function)\n"
          ]
        },
        {
          "output_type": "execute_result",
          "data": {
            "text/plain": [
              "array([[<Axes: title={'center': 'lamda'}>,\n",
              "        <Axes: title={'center': 'lamda'}>]], dtype=object)"
            ]
          },
          "metadata": {},
          "execution_count": 11
        },
        {
          "output_type": "display_data",
          "data": {
            "text/plain": [
              "<Figure size 1200x200 with 2 Axes>"
            ],
            "image/png": "[encoded data removed]"
          },
          "metadata": {}
        }
      ],
      "source": [
        "import arviz as az\n",
        "az.plot_trace(trace)"
      ]
    },
    {
      "cell_type": "code",
      "execution_count": 12,
      "id": "9X2JxEknB8Pu",
      "metadata": {
        "colab": {
          "base_uri": "https://localhost:8080/",
          "height": 476
        },
        "id": "9X2JxEknB8Pu",
        "outputId": "0ba57321-e00b-457f-ca93-a2a6639b40ff"
      },
      "outputs": [
        {
          "output_type": "execute_result",
          "data": {
            "text/plain": [
              "<Axes: title={'center': 'lamda'}>"
            ]
          },
          "metadata": {},
          "execution_count": 12
        },
        {
          "output_type": "display_data",
          "data": {
            "text/plain": [
              "<Figure size 640x480 with 1 Axes>"
            ],
            "image/png": "[encoded data removed]"
          },
          "metadata": {}
        }
      ],
      "source": [
        "az.plot_posterior(trace)"
      ]
    },
    {
      "cell_type": "code",
      "execution_count": 13,
      "id": "vifd5Mo2B6ON",
      "metadata": {
        "colab": {
          "base_uri": "https://localhost:8080/",
          "height": 137
        },
        "id": "vifd5Mo2B6ON",
        "outputId": "34888a8c-6155-4f86-f5db-436daf1d5b1b"
      },
      "outputs": [
        {
          "output_type": "stream",
          "name": "stderr",
          "text": [
            "/usr/local/lib/python3.10/dist-packages/arviz/utils.py:184: NumbaDeprecationWarning: The 'nopython' keyword argument was not supplied to the 'numba.jit' decorator. The implicit default value for this argument is currently False, but it will be changed to True in Numba 0.59.0. See https://numba.readthedocs.io/en/stable/reference/deprecation.html#deprecation-of-object-mode-fall-back-behaviour-when-using-jit for details.\n",
            "  numba_fn = numba.jit(**self.kwargs)(self.function)\n"
          ]
        },
        {
          "output_type": "execute_result",
          "data": {
            "text/plain": [
              "        mean     sd  hdi_3%  hdi_97%  mcse_mean  mcse_sd  ess_bulk  ess_tail  \\\n",
              "lamda  0.098  0.004   0.091    0.105        0.0      0.0    4191.0    6931.0   \n",
              "\n",
              "       r_hat  \n",
              "lamda    1.0  "
            ],
            "text/html": [
              "\n",
              "  <div id=\"df-9c0dd365-5f86-4080-8652-d77f6a502620\" class=\"colab-df-container\">\n",
              "    <div>\n",
              "<style scoped>\n",
              "    .dataframe tbody tr th:only-of-type {\n",
              "        vertical-align: middle;\n",
              "    }\n",
              "\n",
              "    .dataframe tbody tr th {\n",
              "        vertical-align: top;\n",
              "    }\n",
              "\n",
              "    .dataframe thead th {\n",
              "        text-align: right;\n",
              "    }\n",
              "</style>\n",
              "<table border=\"1\" class=\"dataframe\">\n",
              "  <thead>\n",
              "    <tr style=\"text-align: right;\">\n",
              "      <th></th>\n",
              "      <th>mean</th>\n",
              "      <th>sd</th>\n",
              "      <th>hdi_3%</th>\n",
              "      <th>hdi_97%</th>\n",
              "      <th>mcse_mean</th>\n",
              "      <th>mcse_sd</th>\n",
              "      <th>ess_bulk</th>\n",
              "      <th>ess_tail</th>\n",
              "      <th>r_hat</th>\n",
              "    </tr>\n",
              "  </thead>\n",
              "  <tbody>\n",
              "    <tr>\n",
              "      <th>lamda</th>\n",
              "      <td>0.098</td>\n",
              "      <td>0.004</td>\n",
              "      <td>0.091</td>\n",
              "      <td>0.105</td>\n",
              "      <td>0.0</td>\n",
              "      <td>0.0</td>\n",
              "      <td>4191.0</td>\n",
              "      <td>6931.0</td>\n",
              "      <td>1.0</td>\n",
              "    </tr>\n",
              "  </tbody>\n",
              "</table>\n",
              "</div>\n",
              "    <div class=\"colab-df-buttons\">\n",
              "\n",
              "  <div class=\"colab-df-container\">\n",
              "    <button class=\"colab-df-convert\" onclick=\"convertToInteractive('df-9c0dd365-5f86-4080-8652-d77f6a502620')\"\n",
              "            title=\"Convert this dataframe to an interactive table.\"\n",
              "            style=\"display:none;\">\n",
              "\n",
              "  <svg xmlns=\"http://www.w3.org/2000/svg\" height=\"24px\" viewBox=\"0 -960 960 960\">\n",
              "    <path d=\"M120-120v-720h720v720H120Zm60-500h600v-160H180v160Zm220 220h160v-160H400v160Zm0 220h160v-160H400v160ZM180-400h160v-160H180v160Zm440 0h160v-160H620v160ZM180-180h160v-160H180v160Zm440 0h160v-160H620v160Z\"/>\n",
              "  </svg>\n",
              "    </button>\n",
              "\n",
              "  <style>\n",
              "    .colab-df-container {\n",
              "      display:flex;\n",
              "      gap: 12px;\n",
              "    }\n",
              "\n",
              "    .colab-df-convert {\n",
              "      background-color: #E8F0FE;\n",
              "      border: none;\n",
              "      border-radius: 50%;\n",
              "      cursor: pointer;\n",
              "      display: none;\n",
              "      fill: #1967D2;\n",
              "      height: 32px;\n",
              "      padding: 0 0 0 0;\n",
              "      width: 32px;\n",
              "    }\n",
              "\n",
              "    .colab-df-convert:hover {\n",
              "      background-color: #E2EBFA;\n",
              "      box-shadow: 0px 1px 2px rgba(60, 64, 67, 0.3), 0px 1px 3px 1px rgba(60, 64, 67, 0.15);\n",
              "      fill: #174EA6;\n",
              "    }\n",
              "\n",
              "    .colab-df-buttons div {\n",
              "      margin-bottom: 4px;\n",
              "    }\n",
              "\n",
              "    [theme=dark] .colab-df-convert {\n",
              "      background-color: #3B4455;\n",
              "      fill: #D2E3FC;\n",
              "    }\n",
              "\n",
              "    [theme=dark] .colab-df-convert:hover {\n",
              "      background-color: #434B5C;\n",
              "      box-shadow: 0px 1px 3px 1px rgba(0, 0, 0, 0.15);\n",
              "      filter: drop-shadow(0px 1px 2px rgba(0, 0, 0, 0.3));\n",
              "      fill: #FFFFFF;\n",
              "    }\n",
              "  </style>\n",
              "\n",
              "    <script>\n",
              "      const buttonEl =\n",
              "        document.querySelector('#df-9c0dd365-5f86-4080-8652-d77f6a502620 button.colab-df-convert');\n",
              "      buttonEl.style.display =\n",
              "        google.colab.kernel.accessAllowed ? 'block' : 'none';\n",
              "\n",
              "      async function convertToInteractive(key) {\n",
              "        const element = document.querySelector('#df-9c0dd365-5f86-4080-8652-d77f6a502620');\n",
              "        const dataTable =\n",
              "          await google.colab.kernel.invokeFunction('convertToInteractive',\n",
              "                                                    [key], {});\n",
              "        if (!dataTable) return;\n",
              "\n",
              "        const docLinkHtml = 'Like what you see? Visit the ' +\n",
              "          '<a target=\"_blank\" href=https://colab.research.google.com/notebooks/data_table.ipynb>data table notebook</a>'\n",
              "          + ' to learn more about interactive tables.';\n",
              "        element.innerHTML = '';\n",
              "        dataTable['output_type'] = 'display_data';\n",
              "        await google.colab.output.renderOutput(dataTable, element);\n",
              "        const docLink = document.createElement('div');\n",
              "        docLink.innerHTML = docLinkHtml;\n",
              "        element.appendChild(docLink);\n",
              "      }\n",
              "    </script>\n",
              "  </div>\n",
              "\n",
              "\n",
              "    </div>\n",
              "  </div>\n"
            ],
            "application/vnd.google.colaboratory.intrinsic+json": {
              "type": "dataframe",
              "summary": "{\n  \"name\": \"az\",\n  \"rows\": 1,\n  \"fields\": [\n    {\n      \"column\": \"mean\",\n      \"properties\": {\n        \"dtype\": \"number\",\n        \"std\": null,\n        \"min\": 0.098,\n        \"max\": 0.098,\n        \"num_unique_values\": 1,\n        \"samples\": [\n          0.098\n        ],\n        \"semantic_type\": \"\",\n        \"description\": \"\"\n      }\n    },\n    {\n      \"column\": \"sd\",\n      \"properties\": {\n        \"dtype\": \"number\",\n        \"std\": null,\n        \"min\": 0.004,\n        \"max\": 0.004,\n        \"num_unique_values\": 1,\n        \"samples\": [\n          0.004\n        ],\n        \"semantic_type\": \"\",\n        \"description\": \"\"\n      }\n    },\n    {\n      \"column\": \"hdi_3%\",\n      \"properties\": {\n        \"dtype\": \"number\",\n        \"std\": null,\n        \"min\": 0.091,\n        \"max\": 0.091,\n        \"num_unique_values\": 1,\n        \"samples\": [\n          0.091\n        ],\n        \"semantic_type\": \"\",\n        \"description\": \"\"\n      }\n    },\n    {\n      \"column\": \"hdi_97%\",\n      \"properties\": {\n        \"dtype\": \"number\",\n        \"std\": null,\n        \"min\": 0.105,\n        \"max\": 0.105,\n        \"num_unique_values\": 1,\n        \"samples\": [\n          0.105\n        ],\n        \"semantic_type\": \"\",\n        \"description\": \"\"\n      }\n    },\n    {\n      \"column\": \"mcse_mean\",\n      \"properties\": {\n        \"dtype\": \"number\",\n        \"std\": null,\n        \"min\": 0.0,\n        \"max\": 0.0,\n        \"num_unique_values\": 1,\n        \"samples\": [\n          0.0\n        ],\n        \"semantic_type\": \"\",\n        \"description\": \"\"\n      }\n    },\n    {\n      \"column\": \"mcse_sd\",\n      \"properties\": {\n        \"dtype\": \"number\",\n        \"std\": null,\n        \"min\": 0.0,\n        \"max\": 0.0,\n        \"num_unique_values\": 1,\n        \"samples\": [\n          0.0\n        ],\n        \"semantic_type\": \"\",\n        \"description\": \"\"\n      }\n    },\n    {\n      \"column\": \"ess_bulk\",\n      \"properties\": {\n        \"dtype\": \"number\",\n        \"std\": null,\n        \"min\": 4191.0,\n        \"max\": 4191.0,\n        \"num_unique_values\": 1,\n        \"samples\": [\n          4191.0\n        ],\n        \"semantic_type\": \"\",\n        \"description\": \"\"\n      }\n    },\n    {\n      \"column\": \"ess_tail\",\n      \"properties\": {\n        \"dtype\": \"number\",\n        \"std\": null,\n        \"min\": 6931.0,\n        \"max\": 6931.0,\n        \"num_unique_values\": 1,\n        \"samples\": [\n          6931.0\n        ],\n        \"semantic_type\": \"\",\n        \"description\": \"\"\n      }\n    },\n    {\n      \"column\": \"r_hat\",\n      \"properties\": {\n        \"dtype\": \"number\",\n        \"std\": null,\n        \"min\": 1.0,\n        \"max\": 1.0,\n        \"num_unique_values\": 1,\n        \"samples\": [\n          1.0\n        ],\n        \"semantic_type\": \"\",\n        \"description\": \"\"\n      }\n    }\n  ]\n}"
            }
          },
          "metadata": {},
          "execution_count": 13
        }
      ],
      "source": [
        "az.summary(trace)"
      ]
    },
    {
      "cell_type": "markdown",
      "id": "p_t5MqygFvKb",
      "metadata": {
        "id": "p_t5MqygFvKb"
      },
      "source": [
        "### **Answer to section 2:**"
      ]
    },
    {
      "cell_type": "markdown",
      "id": "g8a421rBF02D",
      "metadata": {
        "id": "g8a421rBF02D"
      },
      "source": [
        "I used an exponential distribution as the likelihood function because first of all it is service time times and also when I made a histogram for the service times it looked like a type of exponential distribution."
      ]
    },
    {
      "cell_type": "markdown",
      "id": "LdIZ9vAlF4u9",
      "metadata": {
        "id": "LdIZ9vAlF4u9"
      },
      "source": [
        "### **3. posterior predicitive anaysis to assert that the chosen likelihood distribution is valid:**"
      ]
    },
    {
      "cell_type": "code",
      "execution_count": 14,
      "id": "Tx3P8mnXbEBW",
      "metadata": {
        "colab": {
          "base_uri": "https://localhost:8080/",
          "height": 589
        },
        "id": "Tx3P8mnXbEBW",
        "outputId": "c592a5b5-ad31-459b-8bd6-482f154c492f"
      },
      "outputs": [
        {
          "output_type": "display_data",
          "data": {
            "text/plain": [
              "<IPython.core.display.HTML object>"
            ],
            "text/html": [
              "\n",
              "<style>\n",
              "    /* Turns off some styling */\n",
              "    progress {\n",
              "        /* gets rid of default border in Firefox and Opera. */\n",
              "        border: none;\n",
              "        /* Needs to be in here for Safari polyfill so background images work as expected. */\n",
              "        background-size: auto;\n",
              "    }\n",
              "    progress:not([value]), progress:not([value])::-webkit-progress-bar {\n",
              "        background: repeating-linear-gradient(45deg, #7e7e7e, #7e7e7e 10px, #5c5c5c 10px, #5c5c5c 20px);\n",
              "    }\n",
              "    .progress-bar-interrupted, .progress-bar-interrupted::-webkit-progress-bar {\n",
              "        background: #F44336;\n",
              "    }\n",
              "</style>\n"
            ]
          },
          "metadata": {}
        },
        {
          "output_type": "display_data",
          "data": {
            "text/plain": [
              "<IPython.core.display.HTML object>"
            ],
            "text/html": [
              "\n",
              "    <div>\n",
              "      <progress value='10000' class='' max='10000' style='width:300px; height:20px; vertical-align: middle;'></progress>\n",
              "      100.00% [10000/10000 00:01&lt;00:00]\n",
              "    </div>\n",
              "    "
            ]
          },
          "metadata": {}
        },
        {
          "output_type": "display_data",
          "data": {
            "text/plain": [
              "<Figure size 1000x600 with 1 Axes>"
            ],
            "image/png": "[encoded data removed]"
          },
          "metadata": {}
        }
      ],
      "source": [
        "RANDOM_SEED = 58\n",
        "rng = np.random.default_rng(RANDOM_SEED)\n",
        "\n",
        "# Posterior predictive checks\n",
        "with service_rate_model:\n",
        "    ppc = pm.sample_posterior_predictive(trace, extend_inferencedata=True, random_seed=rng)\n",
        "\n",
        "ax = az.plot_ppc(ppc, num_pp_samples=100, figsize=(10, 6), mean=False)"
      ]
    },
    {
      "cell_type": "code",
      "execution_count": 15,
      "id": "FXs_Y6wEbSZF",
      "metadata": {
        "colab": {
          "base_uri": "https://localhost:8080/",
          "height": 564
        },
        "id": "FXs_Y6wEbSZF",
        "outputId": "21b7cdd2-5696-48f6-b61f-f61d60fbb4a8"
      },
      "outputs": [
        {
          "output_type": "display_data",
          "data": {
            "text/plain": [
              "<Figure size 1000x600 with 1 Axes>"
            ],
            "image/png": "[encoded data removed]"
          },
          "metadata": {}
        }
      ],
      "source": [
        "# Extract and reshape posterior predictive samples\n",
        "posterior_predictive_service_times = ppc['posterior_predictive']['service_rate_obs'].values.flatten()\n",
        "\n",
        "# Compare the distributions\n",
        "observed_service_times = service_rate.values\n",
        "\n",
        "plt.figure(figsize=(10, 6))\n",
        "plt.hist(observed_service_times, bins=30, alpha=0.5, label='Observed Service Times', density=True)\n",
        "plt.hist(posterior_predictive_service_times, bins=30, alpha=0.5, label='Posterior Predictive Service Times', density=True)\n",
        "plt.legend(loc='best')\n",
        "plt.xlabel('Service Time')\n",
        "plt.ylabel('Density')\n",
        "plt.title('Posterior Predictive Check for Service Time')\n",
        "plt.show()"
      ]
    },
    {
      "cell_type": "markdown",
      "id": "zPG0GF7Dd79e",
      "metadata": {
        "id": "zPG0GF7Dd79e"
      },
      "source": [
        "### **4. According to the resulted anaysis:**"
      ]
    },
    {
      "cell_type": "markdown",
      "id": "AsgEh1WVeJtX",
      "metadata": {
        "id": "AsgEh1WVeJtX"
      },
      "source": [
        "According to the analysis of the results, I wouldn't say that I am completely sure, but I am in the right direction.\n",
        "\n",
        "The sanity check plot_trace comes out good, the two chains converge plus or minus to the same result and there does not seem to be any correlation between the samples.\n",
        "However, in the sanity check sample_posterior_predictive there is some small escape of the observations between the number of samples 20-40 which is not very clear to me why it reads and therefore there is no completely normal convergence with posterior predictive.\n",
        "In addition, when comparing the distributions of the posterior predictive and the observations, you do not get full coverage of the posterior predictive on the observations and this can cause us to miss important information.\n",
        "In conclusion, I would not say that there is an unusual incompatibility here that cannot be worked with, but it is possible to further improve the model (not really sure how) in order to have an even better match."
      ]
    },
    {
      "cell_type": "markdown",
      "id": "17b90ec0-ac05-4b19-add9-80574eec8658",
      "metadata": {
        "id": "17b90ec0-ac05-4b19-add9-80574eec8658"
      },
      "source": [
        "## Part 2:\n",
        "\n",
        "### We next turn to the next part where we wish to map the average service time at each time cell.\n",
        "\n",
        "### Important note: please ignore the data from the previuos part while doing this task.\n",
        "\n",
        "### The data is under df_tot as given below. In the dataset we have missing parts, some cells in the grid are missing. Your job is to fill the grid."
      ]
    },
    {
      "cell_type": "code",
      "execution_count": 16,
      "id": "ad339bbc-028a-43c0-a8d9-1db80f68e574",
      "metadata": {
        "colab": {
          "base_uri": "https://localhost:8080/",
          "height": 206
        },
        "id": "ad339bbc-028a-43c0-a8d9-1db80f68e574",
        "outputId": "cd959a13-9b5a-4b5d-c57c-02adf9786fba"
      },
      "outputs": [
        {
          "output_type": "execute_result",
          "data": {
            "text/plain": [
              "   Unnamed: 0  index  customer_id  num_cust          event   time_stamp  day  \\\n",
              "0           0    981          327         0        Arrival  3608.653189    1   \n",
              "1           1    982          327         1  Enter_service  3608.653189    1   \n",
              "2           2    983          327         0      Departure  3609.497913    1   \n",
              "3           3    984          328         0        Arrival  3609.790566    1   \n",
              "4           4    985          328         1  Enter_service  3609.790566    1   \n",
              "\n",
              "   hour  \n",
              "0     1  \n",
              "1     1  \n",
              "2     1  \n",
              "3     1  \n",
              "4     1  "
            ],
            "text/html": [
              "\n",
              "  <div id=\"df-36521eec-553c-44a9-a711-dcb6067e755d\" class=\"colab-df-container\">\n",
              "    <div>\n",
              "<style scoped>\n",
              "    .dataframe tbody tr th:only-of-type {\n",
              "        vertical-align: middle;\n",
              "    }\n",
              "\n",
              "    .dataframe tbody tr th {\n",
              "        vertical-align: top;\n",
              "    }\n",
              "\n",
              "    .dataframe thead th {\n",
              "        text-align: right;\n",
              "    }\n",
              "</style>\n",
              "<table border=\"1\" class=\"dataframe\">\n",
              "  <thead>\n",
              "    <tr style=\"text-align: right;\">\n",
              "      <th></th>\n",
              "      <th>Unnamed: 0</th>\n",
              "      <th>index</th>\n",
              "      <th>customer_id</th>\n",
              "      <th>num_cust</th>\n",
              "      <th>event</th>\n",
              "      <th>time_stamp</th>\n",
              "      <th>day</th>\n",
              "      <th>hour</th>\n",
              "    </tr>\n",
              "  </thead>\n",
              "  <tbody>\n",
              "    <tr>\n",
              "      <th>0</th>\n",
              "      <td>0</td>\n",
              "      <td>981</td>\n",
              "      <td>327</td>\n",
              "      <td>0</td>\n",
              "      <td>Arrival</td>\n",
              "      <td>3608.653189</td>\n",
              "      <td>1</td>\n",
              "      <td>1</td>\n",
              "    </tr>\n",
              "    <tr>\n",
              "      <th>1</th>\n",
              "      <td>1</td>\n",
              "      <td>982</td>\n",
              "      <td>327</td>\n",
              "      <td>1</td>\n",
              "      <td>Enter_service</td>\n",
              "      <td>3608.653189</td>\n",
              "      <td>1</td>\n",
              "      <td>1</td>\n",
              "    </tr>\n",
              "    <tr>\n",
              "      <th>2</th>\n",
              "      <td>2</td>\n",
              "      <td>983</td>\n",
              "      <td>327</td>\n",
              "      <td>0</td>\n",
              "      <td>Departure</td>\n",
              "      <td>3609.497913</td>\n",
              "      <td>1</td>\n",
              "      <td>1</td>\n",
              "    </tr>\n",
              "    <tr>\n",
              "      <th>3</th>\n",
              "      <td>3</td>\n",
              "      <td>984</td>\n",
              "      <td>328</td>\n",
              "      <td>0</td>\n",
              "      <td>Arrival</td>\n",
              "      <td>3609.790566</td>\n",
              "      <td>1</td>\n",
              "      <td>1</td>\n",
              "    </tr>\n",
              "    <tr>\n",
              "      <th>4</th>\n",
              "      <td>4</td>\n",
              "      <td>985</td>\n",
              "      <td>328</td>\n",
              "      <td>1</td>\n",
              "      <td>Enter_service</td>\n",
              "      <td>3609.790566</td>\n",
              "      <td>1</td>\n",
              "      <td>1</td>\n",
              "    </tr>\n",
              "  </tbody>\n",
              "</table>\n",
              "</div>\n",
              "    <div class=\"colab-df-buttons\">\n",
              "\n",
              "  <div class=\"colab-df-container\">\n",
              "    <button class=\"colab-df-convert\" onclick=\"convertToInteractive('df-36521eec-553c-44a9-a711-dcb6067e755d')\"\n",
              "            title=\"Convert this dataframe to an interactive table.\"\n",
              "            style=\"display:none;\">\n",
              "\n",
              "  <svg xmlns=\"http://www.w3.org/2000/svg\" height=\"24px\" viewBox=\"0 -960 960 960\">\n",
              "    <path d=\"M120-120v-720h720v720H120Zm60-500h600v-160H180v160Zm220 220h160v-160H400v160Zm0 220h160v-160H400v160ZM180-400h160v-160H180v160Zm440 0h160v-160H620v160ZM180-180h160v-160H180v160Zm440 0h160v-160H620v160Z\"/>\n",
              "  </svg>\n",
              "    </button>\n",
              "\n",
              "  <style>\n",
              "    .colab-df-container {\n",
              "      display:flex;\n",
              "      gap: 12px;\n",
              "    }\n",
              "\n",
              "    .colab-df-convert {\n",
              "      background-color: #E8F0FE;\n",
              "      border: none;\n",
              "      border-radius: 50%;\n",
              "      cursor: pointer;\n",
              "      display: none;\n",
              "      fill: #1967D2;\n",
              "      height: 32px;\n",
              "      padding: 0 0 0 0;\n",
              "      width: 32px;\n",
              "    }\n",
              "\n",
              "    .colab-df-convert:hover {\n",
              "      background-color: #E2EBFA;\n",
              "      box-shadow: 0px 1px 2px rgba(60, 64, 67, 0.3), 0px 1px 3px 1px rgba(60, 64, 67, 0.15);\n",
              "      fill: #174EA6;\n",
              "    }\n",
              "\n",
              "    .colab-df-buttons div {\n",
              "      margin-bottom: 4px;\n",
              "    }\n",
              "\n",
              "    [theme=dark] .colab-df-convert {\n",
              "      background-color: #3B4455;\n",
              "      fill: #D2E3FC;\n",
              "    }\n",
              "\n",
              "    [theme=dark] .colab-df-convert:hover {\n",
              "      background-color: #434B5C;\n",
              "      box-shadow: 0px 1px 3px 1px rgba(0, 0, 0, 0.15);\n",
              "      filter: drop-shadow(0px 1px 2px rgba(0, 0, 0, 0.3));\n",
              "      fill: #FFFFFF;\n",
              "    }\n",
              "  </style>\n",
              "\n",
              "    <script>\n",
              "      const buttonEl =\n",
              "        document.querySelector('#df-36521eec-553c-44a9-a711-dcb6067e755d button.colab-df-convert');\n",
              "      buttonEl.style.display =\n",
              "        google.colab.kernel.accessAllowed ? 'block' : 'none';\n",
              "\n",
              "      async function convertToInteractive(key) {\n",
              "        const element = document.querySelector('#df-36521eec-553c-44a9-a711-dcb6067e755d');\n",
              "        const dataTable =\n",
              "          await google.colab.kernel.invokeFunction('convertToInteractive',\n",
              "                                                    [key], {});\n",
              "        if (!dataTable) return;\n",
              "\n",
              "        const docLinkHtml = 'Like what you see? Visit the ' +\n",
              "          '<a target=\"_blank\" href=https://colab.research.google.com/notebooks/data_table.ipynb>data table notebook</a>'\n",
              "          + ' to learn more about interactive tables.';\n",
              "        element.innerHTML = '';\n",
              "        dataTable['output_type'] = 'display_data';\n",
              "        await google.colab.output.renderOutput(dataTable, element);\n",
              "        const docLink = document.createElement('div');\n",
              "        docLink.innerHTML = docLinkHtml;\n",
              "        element.appendChild(docLink);\n",
              "      }\n",
              "    </script>\n",
              "  </div>\n",
              "\n",
              "\n",
              "<div id=\"df-042ec6f9-1c95-49ab-a8ed-b07806bc4a70\">\n",
              "  <button class=\"colab-df-quickchart\" onclick=\"quickchart('df-042ec6f9-1c95-49ab-a8ed-b07806bc4a70')\"\n",
              "            title=\"Suggest charts\"\n",
              "            style=\"display:none;\">\n",
              "\n",
              "<svg xmlns=\"http://www.w3.org/2000/svg\" height=\"24px\"viewBox=\"0 0 24 24\"\n",
              "     width=\"24px\">\n",
              "    <g>\n",
              "        <path d=\"M19 3H5c-1.1 0-2 .9-2 2v14c0 1.1.9 2 2 2h14c1.1 0 2-.9 2-2V5c0-1.1-.9-2-2-2zM9 17H7v-7h2v7zm4 0h-2V7h2v10zm4 0h-2v-4h2v4z\"/>\n",
              "    </g>\n",
              "</svg>\n",
              "  </button>\n",
              "\n",
              "<style>\n",
              "  .colab-df-quickchart {\n",
              "      --bg-color: #E8F0FE;\n",
              "      --fill-color: #1967D2;\n",
              "      --hover-bg-color: #E2EBFA;\n",
              "      --hover-fill-color: #174EA6;\n",
              "      --disabled-fill-color: #AAA;\n",
              "      --disabled-bg-color: #DDD;\n",
              "  }\n",
              "\n",
              "  [theme=dark] .colab-df-quickchart {\n",
              "      --bg-color: #3B4455;\n",
              "      --fill-color: #D2E3FC;\n",
              "      --hover-bg-color: #434B5C;\n",
              "      --hover-fill-color: #FFFFFF;\n",
              "      --disabled-bg-color: #3B4455;\n",
              "      --disabled-fill-color: #666;\n",
              "  }\n",
              "\n",
              "  .colab-df-quickchart {\n",
              "    background-color: var(--bg-color);\n",
              "    border: none;\n",
              "    border-radius: 50%;\n",
              "    cursor: pointer;\n",
              "    display: none;\n",
              "    fill: var(--fill-color);\n",
              "    height: 32px;\n",
              "    padding: 0;\n",
              "    width: 32px;\n",
              "  }\n",
              "\n",
              "  .colab-df-quickchart:hover {\n",
              "    background-color: var(--hover-bg-color);\n",
              "    box-shadow: 0 1px 2px rgba(60, 64, 67, 0.3), 0 1px 3px 1px rgba(60, 64, 67, 0.15);\n",
              "    fill: var(--button-hover-fill-color);\n",
              "  }\n",
              "\n",
              "  .colab-df-quickchart-complete:disabled,\n",
              "  .colab-df-quickchart-complete:disabled:hover {\n",
              "    background-color: var(--disabled-bg-color);\n",
              "    fill: var(--disabled-fill-color);\n",
              "    box-shadow: none;\n",
              "  }\n",
              "\n",
              "  .colab-df-spinner {\n",
              "    border: 2px solid var(--fill-color);\n",
              "    border-color: transparent;\n",
              "    border-bottom-color: var(--fill-color);\n",
              "    animation:\n",
              "      spin 1s steps(1) infinite;\n",
              "  }\n",
              "\n",
              "  @keyframes spin {\n",
              "    0% {\n",
              "      border-color: transparent;\n",
              "      border-bottom-color: var(--fill-color);\n",
              "      border-left-color: var(--fill-color);\n",
              "    }\n",
              "    20% {\n",
              "      border-color: transparent;\n",
              "      border-left-color: var(--fill-color);\n",
              "      border-top-color: var(--fill-color);\n",
              "    }\n",
              "    30% {\n",
              "      border-color: transparent;\n",
              "      border-left-color: var(--fill-color);\n",
              "      border-top-color: var(--fill-color);\n",
              "      border-right-color: var(--fill-color);\n",
              "    }\n",
              "    40% {\n",
              "      border-color: transparent;\n",
              "      border-right-color: var(--fill-color);\n",
              "      border-top-color: var(--fill-color);\n",
              "    }\n",
              "    60% {\n",
              "      border-color: transparent;\n",
              "      border-right-color: var(--fill-color);\n",
              "    }\n",
              "    80% {\n",
              "      border-color: transparent;\n",
              "      border-right-color: var(--fill-color);\n",
              "      border-bottom-color: var(--fill-color);\n",
              "    }\n",
              "    90% {\n",
              "      border-color: transparent;\n",
              "      border-bottom-color: var(--fill-color);\n",
              "    }\n",
              "  }\n",
              "</style>\n",
              "\n",
              "  <script>\n",
              "    async function quickchart(key) {\n",
              "      const quickchartButtonEl =\n",
              "        document.querySelector('#' + key + ' button');\n",
              "      quickchartButtonEl.disabled = true;  // To prevent multiple clicks.\n",
              "      quickchartButtonEl.classList.add('colab-df-spinner');\n",
              "      try {\n",
              "        const charts = await google.colab.kernel.invokeFunction(\n",
              "            'suggestCharts', [key], {});\n",
              "      } catch (error) {\n",
              "        console.error('Error during call to suggestCharts:', error);\n",
              "      }\n",
              "      quickchartButtonEl.classList.remove('colab-df-spinner');\n",
              "      quickchartButtonEl.classList.add('colab-df-quickchart-complete');\n",
              "    }\n",
              "    (() => {\n",
              "      let quickchartButtonEl =\n",
              "        document.querySelector('#df-042ec6f9-1c95-49ab-a8ed-b07806bc4a70 button');\n",
              "      quickchartButtonEl.style.display =\n",
              "        google.colab.kernel.accessAllowed ? 'block' : 'none';\n",
              "    })();\n",
              "  </script>\n",
              "</div>\n",
              "\n",
              "    </div>\n",
              "  </div>\n"
            ],
            "application/vnd.google.colaboratory.intrinsic+json": {
              "type": "dataframe",
              "variable_name": "df_tot",
              "summary": "{\n  \"name\": \"df_tot\",\n  \"rows\": 69724,\n  \"fields\": [\n    {\n      \"column\": \"Unnamed: 0\",\n      \"properties\": {\n        \"dtype\": \"number\",\n        \"std\": 261,\n        \"min\": 0,\n        \"max\": 1043,\n        \"num_unique_values\": 1044,\n        \"samples\": [\n          971,\n          280,\n          536\n        ],\n        \"semantic_type\": \"\",\n        \"description\": \"\"\n      }\n    },\n    {\n      \"column\": \"index\",\n      \"properties\": {\n        \"dtype\": \"number\",\n        \"std\": 45917,\n        \"min\": 981,\n        \"max\": 150623,\n        \"num_unique_values\": 69724,\n        \"samples\": [\n          17625,\n          37198,\n          113668\n        ],\n        \"semantic_type\": \"\",\n        \"description\": \"\"\n      }\n    },\n    {\n      \"column\": \"customer_id\",\n      \"properties\": {\n        \"dtype\": \"number\",\n        \"std\": 15305,\n        \"min\": 327,\n        \"max\": 50207,\n        \"num_unique_values\": 23265,\n        \"samples\": [\n          9491,\n          20102,\n          5936\n        ],\n        \"semantic_type\": \"\",\n        \"description\": \"\"\n      }\n    },\n    {\n      \"column\": \"num_cust\",\n      \"properties\": {\n        \"dtype\": \"number\",\n        \"std\": 1,\n        \"min\": 0,\n        \"max\": 23,\n        \"num_unique_values\": 24,\n        \"samples\": [\n          8,\n          16,\n          0\n        ],\n        \"semantic_type\": \"\",\n        \"description\": \"\"\n      }\n    },\n    {\n      \"column\": \"event\",\n      \"properties\": {\n        \"dtype\": \"category\",\n        \"num_unique_values\": 3,\n        \"samples\": [\n          \"Arrival\",\n          \"Enter_service\",\n          \"Departure\"\n        ],\n        \"semantic_type\": \"\",\n        \"description\": \"\"\n      }\n    },\n    {\n      \"column\": \"time_stamp\",\n      \"properties\": {\n        \"dtype\": \"number\",\n        \"std\": 183896.98829254066,\n        \"min\": 3608.653188762904,\n        \"max\": 604775.9048246456,\n        \"num_unique_values\": 46484,\n        \"samples\": [\n          88043.61201530037,\n          254066.7946295856,\n          370206.6516076989\n        ],\n        \"semantic_type\": \"\",\n        \"description\": \"\"\n      }\n    },\n    {\n      \"column\": \"day\",\n      \"properties\": {\n        \"dtype\": \"number\",\n        \"std\": 2,\n        \"min\": 1,\n        \"max\": 7,\n        \"num_unique_values\": 7,\n        \"samples\": [\n          1,\n          2,\n          6\n        ],\n        \"semantic_type\": \"\",\n        \"description\": \"\"\n      }\n    },\n    {\n      \"column\": \"hour\",\n      \"properties\": {\n        \"dtype\": \"number\",\n        \"std\": 7,\n        \"min\": 0,\n        \"max\": 23,\n        \"num_unique_values\": 24,\n        \"samples\": [\n          19,\n          17,\n          1\n        ],\n        \"semantic_type\": \"\",\n        \"description\": \"\"\n      }\n    }\n  ]\n}"
            }
          },
          "metadata": {},
          "execution_count": 16
        }
      ],
      "source": [
        "df_tot = pkl.load(open('../content/data_queueing_quiz/df_tot.pkl', 'rb'))\n",
        "df_tot.head(5)"
      ]
    },
    {
      "cell_type": "markdown",
      "id": "6719c646-7b37-43e7-ab54-7b9eda0b0381",
      "metadata": {
        "id": "6719c646-7b37-43e7-ab54-7b9eda0b0381"
      },
      "source": [
        "## Tasks:\n",
        "\n",
        "### 1. Extract the mean service times (taking the average time is sufficient, no need  for extra bayesian analysis) per each cell you do have data.\n",
        "### 2. Use two regression methods for completing the average service time for the rest of the grid.\n",
        "### 3. Plot on a 3D plot which contains the data, and the surface of the two regression methods.\n",
        "### 4. What is the probability that the service time of chip, between 16:00 to 18:00, on Shabbat, will be between 6 to 7 seconds?\n",
        "### 5. Please give full specification of the Gauusian distribution of the service time on Sunday between 14:00 to 15:00 and Sunday between 16:00 to 17:00.\n",
        "### 6. What is the correlation between the service times at Sunday between 14:00 to 15:00 and Sunday between 16:00 to 17:00?\n",
        "### What is the correlation between the service times at Sunday between 14:00 to 15:00 and Sunday between 20:00 to 21:00?\n",
        "### Which correlation value is larger? does this result make sense?\n"
      ]
    },
    {
      "cell_type": "markdown",
      "id": "e6eba2ba-9743-4b1e-b306-dec33a96535b",
      "metadata": {
        "id": "e6eba2ba-9743-4b1e-b306-dec33a96535b"
      },
      "source": [
        "## You code here"
      ]
    },
    {
      "cell_type": "markdown",
      "id": "AOIco0o4hymS",
      "metadata": {
        "id": "AOIco0o4hymS"
      },
      "source": [
        "### **Answers to part 2:**"
      ]
    },
    {
      "cell_type": "markdown",
      "id": "8o5Ryz1gh5pk",
      "metadata": {
        "id": "8o5Ryz1gh5pk"
      },
      "source": [
        "**1. mean service times per each cell we do have data:**"
      ]
    },
    {
      "cell_type": "code",
      "execution_count": 17,
      "id": "4dcc9d13-3dbe-4b36-b5ff-9902fdee40e7",
      "metadata": {
        "colab": {
          "base_uri": "https://localhost:8080/",
          "height": 237
        },
        "id": "4dcc9d13-3dbe-4b36-b5ff-9902fdee40e7",
        "outputId": "8054020f-2e35-4ab8-a1a4-36fa8151ef71"
      },
      "outputs": [
        {
          "output_type": "execute_result",
          "data": {
            "text/plain": [
              "          mean_service_time\n",
              "day hour                   \n",
              "1   0                   NaN\n",
              "    1              1.293141\n",
              "    2                   NaN\n",
              "    3              1.893939\n",
              "    4              2.982484"
            ],
            "text/html": [
              "\n",
              "  <div id=\"df-8147ee39-385e-4df1-a5c4-eebd2eed96fd\" class=\"colab-df-container\">\n",
              "    <div>\n",
              "<style scoped>\n",
              "    .dataframe tbody tr th:only-of-type {\n",
              "        vertical-align: middle;\n",
              "    }\n",
              "\n",
              "    .dataframe tbody tr th {\n",
              "        vertical-align: top;\n",
              "    }\n",
              "\n",
              "    .dataframe thead th {\n",
              "        text-align: right;\n",
              "    }\n",
              "</style>\n",
              "<table border=\"1\" class=\"dataframe\">\n",
              "  <thead>\n",
              "    <tr style=\"text-align: right;\">\n",
              "      <th></th>\n",
              "      <th></th>\n",
              "      <th>mean_service_time</th>\n",
              "    </tr>\n",
              "    <tr>\n",
              "      <th>day</th>\n",
              "      <th>hour</th>\n",
              "      <th></th>\n",
              "    </tr>\n",
              "  </thead>\n",
              "  <tbody>\n",
              "    <tr>\n",
              "      <th rowspan=\"5\" valign=\"top\">1</th>\n",
              "      <th>0</th>\n",
              "      <td>NaN</td>\n",
              "    </tr>\n",
              "    <tr>\n",
              "      <th>1</th>\n",
              "      <td>1.293141</td>\n",
              "    </tr>\n",
              "    <tr>\n",
              "      <th>2</th>\n",
              "      <td>NaN</td>\n",
              "    </tr>\n",
              "    <tr>\n",
              "      <th>3</th>\n",
              "      <td>1.893939</td>\n",
              "    </tr>\n",
              "    <tr>\n",
              "      <th>4</th>\n",
              "      <td>2.982484</td>\n",
              "    </tr>\n",
              "  </tbody>\n",
              "</table>\n",
              "</div>\n",
              "    <div class=\"colab-df-buttons\">\n",
              "\n",
              "  <div class=\"colab-df-container\">\n",
              "    <button class=\"colab-df-convert\" onclick=\"convertToInteractive('df-8147ee39-385e-4df1-a5c4-eebd2eed96fd')\"\n",
              "            title=\"Convert this dataframe to an interactive table.\"\n",
              "            style=\"display:none;\">\n",
              "\n",
              "  <svg xmlns=\"http://www.w3.org/2000/svg\" height=\"24px\" viewBox=\"0 -960 960 960\">\n",
              "    <path d=\"M120-120v-720h720v720H120Zm60-500h600v-160H180v160Zm220 220h160v-160H400v160Zm0 220h160v-160H400v160ZM180-400h160v-160H180v160Zm440 0h160v-160H620v160ZM180-180h160v-160H180v160Zm440 0h160v-160H620v160Z\"/>\n",
              "  </svg>\n",
              "    </button>\n",
              "\n",
              "  <style>\n",
              "    .colab-df-container {\n",
              "      display:flex;\n",
              "      gap: 12px;\n",
              "    }\n",
              "\n",
              "    .colab-df-convert {\n",
              "      background-color: #E8F0FE;\n",
              "      border: none;\n",
              "      border-radius: 50%;\n",
              "      cursor: pointer;\n",
              "      display: none;\n",
              "      fill: #1967D2;\n",
              "      height: 32px;\n",
              "      padding: 0 0 0 0;\n",
              "      width: 32px;\n",
              "    }\n",
              "\n",
              "    .colab-df-convert:hover {\n",
              "      background-color: #E2EBFA;\n",
              "      box-shadow: 0px 1px 2px rgba(60, 64, 67, 0.3), 0px 1px 3px 1px rgba(60, 64, 67, 0.15);\n",
              "      fill: #174EA6;\n",
              "    }\n",
              "\n",
              "    .colab-df-buttons div {\n",
              "      margin-bottom: 4px;\n",
              "    }\n",
              "\n",
              "    [theme=dark] .colab-df-convert {\n",
              "      background-color: #3B4455;\n",
              "      fill: #D2E3FC;\n",
              "    }\n",
              "\n",
              "    [theme=dark] .colab-df-convert:hover {\n",
              "      background-color: #434B5C;\n",
              "      box-shadow: 0px 1px 3px 1px rgba(0, 0, 0, 0.15);\n",
              "      filter: drop-shadow(0px 1px 2px rgba(0, 0, 0, 0.3));\n",
              "      fill: #FFFFFF;\n",
              "    }\n",
              "  </style>\n",
              "\n",
              "    <script>\n",
              "      const buttonEl =\n",
              "        document.querySelector('#df-8147ee39-385e-4df1-a5c4-eebd2eed96fd button.colab-df-convert');\n",
              "      buttonEl.style.display =\n",
              "        google.colab.kernel.accessAllowed ? 'block' : 'none';\n",
              "\n",
              "      async function convertToInteractive(key) {\n",
              "        const element = document.querySelector('#df-8147ee39-385e-4df1-a5c4-eebd2eed96fd');\n",
              "        const dataTable =\n",
              "          await google.colab.kernel.invokeFunction('convertToInteractive',\n",
              "                                                    [key], {});\n",
              "        if (!dataTable) return;\n",
              "\n",
              "        const docLinkHtml = 'Like what you see? Visit the ' +\n",
              "          '<a target=\"_blank\" href=https://colab.research.google.com/notebooks/data_table.ipynb>data table notebook</a>'\n",
              "          + ' to learn more about interactive tables.';\n",
              "        element.innerHTML = '';\n",
              "        dataTable['output_type'] = 'display_data';\n",
              "        await google.colab.output.renderOutput(dataTable, element);\n",
              "        const docLink = document.createElement('div');\n",
              "        docLink.innerHTML = docLinkHtml;\n",
              "        element.appendChild(docLink);\n",
              "      }\n",
              "    </script>\n",
              "  </div>\n",
              "\n",
              "\n",
              "<div id=\"df-7819ee84-4351-4ba5-9a62-3dcf2ea3bf31\">\n",
              "  <button class=\"colab-df-quickchart\" onclick=\"quickchart('df-7819ee84-4351-4ba5-9a62-3dcf2ea3bf31')\"\n",
              "            title=\"Suggest charts\"\n",
              "            style=\"display:none;\">\n",
              "\n",
              "<svg xmlns=\"http://www.w3.org/2000/svg\" height=\"24px\"viewBox=\"0 0 24 24\"\n",
              "     width=\"24px\">\n",
              "    <g>\n",
              "        <path d=\"M19 3H5c-1.1 0-2 .9-2 2v14c0 1.1.9 2 2 2h14c1.1 0 2-.9 2-2V5c0-1.1-.9-2-2-2zM9 17H7v-7h2v7zm4 0h-2V7h2v10zm4 0h-2v-4h2v4z\"/>\n",
              "    </g>\n",
              "</svg>\n",
              "  </button>\n",
              "\n",
              "<style>\n",
              "  .colab-df-quickchart {\n",
              "      --bg-color: #E8F0FE;\n",
              "      --fill-color: #1967D2;\n",
              "      --hover-bg-color: #E2EBFA;\n",
              "      --hover-fill-color: #174EA6;\n",
              "      --disabled-fill-color: #AAA;\n",
              "      --disabled-bg-color: #DDD;\n",
              "  }\n",
              "\n",
              "  [theme=dark] .colab-df-quickchart {\n",
              "      --bg-color: #3B4455;\n",
              "      --fill-color: #D2E3FC;\n",
              "      --hover-bg-color: #434B5C;\n",
              "      --hover-fill-color: #FFFFFF;\n",
              "      --disabled-bg-color: #3B4455;\n",
              "      --disabled-fill-color: #666;\n",
              "  }\n",
              "\n",
              "  .colab-df-quickchart {\n",
              "    background-color: var(--bg-color);\n",
              "    border: none;\n",
              "    border-radius: 50%;\n",
              "    cursor: pointer;\n",
              "    display: none;\n",
              "    fill: var(--fill-color);\n",
              "    height: 32px;\n",
              "    padding: 0;\n",
              "    width: 32px;\n",
              "  }\n",
              "\n",
              "  .colab-df-quickchart:hover {\n",
              "    background-color: var(--hover-bg-color);\n",
              "    box-shadow: 0 1px 2px rgba(60, 64, 67, 0.3), 0 1px 3px 1px rgba(60, 64, 67, 0.15);\n",
              "    fill: var(--button-hover-fill-color);\n",
              "  }\n",
              "\n",
              "  .colab-df-quickchart-complete:disabled,\n",
              "  .colab-df-quickchart-complete:disabled:hover {\n",
              "    background-color: var(--disabled-bg-color);\n",
              "    fill: var(--disabled-fill-color);\n",
              "    box-shadow: none;\n",
              "  }\n",
              "\n",
              "  .colab-df-spinner {\n",
              "    border: 2px solid var(--fill-color);\n",
              "    border-color: transparent;\n",
              "    border-bottom-color: var(--fill-color);\n",
              "    animation:\n",
              "      spin 1s steps(1) infinite;\n",
              "  }\n",
              "\n",
              "  @keyframes spin {\n",
              "    0% {\n",
              "      border-color: transparent;\n",
              "      border-bottom-color: var(--fill-color);\n",
              "      border-left-color: var(--fill-color);\n",
              "    }\n",
              "    20% {\n",
              "      border-color: transparent;\n",
              "      border-left-color: var(--fill-color);\n",
              "      border-top-color: var(--fill-color);\n",
              "    }\n",
              "    30% {\n",
              "      border-color: transparent;\n",
              "      border-left-color: var(--fill-color);\n",
              "      border-top-color: var(--fill-color);\n",
              "      border-right-color: var(--fill-color);\n",
              "    }\n",
              "    40% {\n",
              "      border-color: transparent;\n",
              "      border-right-color: var(--fill-color);\n",
              "      border-top-color: var(--fill-color);\n",
              "    }\n",
              "    60% {\n",
              "      border-color: transparent;\n",
              "      border-right-color: var(--fill-color);\n",
              "    }\n",
              "    80% {\n",
              "      border-color: transparent;\n",
              "      border-right-color: var(--fill-color);\n",
              "      border-bottom-color: var(--fill-color);\n",
              "    }\n",
              "    90% {\n",
              "      border-color: transparent;\n",
              "      border-bottom-color: var(--fill-color);\n",
              "    }\n",
              "  }\n",
              "</style>\n",
              "\n",
              "  <script>\n",
              "    async function quickchart(key) {\n",
              "      const quickchartButtonEl =\n",
              "        document.querySelector('#' + key + ' button');\n",
              "      quickchartButtonEl.disabled = true;  // To prevent multiple clicks.\n",
              "      quickchartButtonEl.classList.add('colab-df-spinner');\n",
              "      try {\n",
              "        const charts = await google.colab.kernel.invokeFunction(\n",
              "            'suggestCharts', [key], {});\n",
              "      } catch (error) {\n",
              "        console.error('Error during call to suggestCharts:', error);\n",
              "      }\n",
              "      quickchartButtonEl.classList.remove('colab-df-spinner');\n",
              "      quickchartButtonEl.classList.add('colab-df-quickchart-complete');\n",
              "    }\n",
              "    (() => {\n",
              "      let quickchartButtonEl =\n",
              "        document.querySelector('#df-7819ee84-4351-4ba5-9a62-3dcf2ea3bf31 button');\n",
              "      quickchartButtonEl.style.display =\n",
              "        google.colab.kernel.accessAllowed ? 'block' : 'none';\n",
              "    })();\n",
              "  </script>\n",
              "</div>\n",
              "\n",
              "    </div>\n",
              "  </div>\n"
            ],
            "application/vnd.google.colaboratory.intrinsic+json": {
              "type": "dataframe",
              "variable_name": "mean_service_times_df",
              "summary": "{\n  \"name\": \"mean_service_times_df\",\n  \"rows\": 168,\n  \"fields\": [\n    {\n      \"column\": \"mean_service_time\",\n      \"properties\": {\n        \"dtype\": \"number\",\n        \"std\": 2.368416710509246,\n        \"min\": 1.0505549316056253,\n        \"max\": 8.504427610538151,\n        \"num_unique_values\": 48,\n        \"samples\": [\n          6.292856057967803,\n          1.3848141322619523,\n          2.000433136751173\n        ],\n        \"semantic_type\": \"\",\n        \"description\": \"\"\n      }\n    }\n  ]\n}"
            }
          },
          "metadata": {},
          "execution_count": 17
        }
      ],
      "source": [
        "# Calculate service times\n",
        "enter_service = df_tot[df_tot['event'] == 'Enter_service'].set_index('customer_id')['time_stamp']\n",
        "departure = df_tot[df_tot['event'] == 'Departure'].set_index('customer_id')['time_stamp']\n",
        "\n",
        "service_times = departure - enter_service\n",
        "\n",
        "# Group by day and hour, calculate mean service time\n",
        "mean_service_times = service_times.groupby([df_tot['day'], df_tot['hour']]).mean()\n",
        "\n",
        "# Create a DataFrame with all possible day-hour combinations in the grid\n",
        "days = range(1, 8) # days range from 1 to 7\n",
        "hours = range(0, 24) # hours range from 0 to 23\n",
        "day_hour_combinations = [(day, hour) for day in days for hour in hours]\n",
        "\n",
        "# Convert to DataFrame\n",
        "mean_service_times_df = pd.DataFrame(index=pd.MultiIndex.from_tuples(day_hour_combinations, names=['day', 'hour']))\n",
        "mean_service_times_df['mean_service_time'] = mean_service_times\n",
        "\n",
        "# Display the resulting DataFrame\n",
        "mean_service_times_df.head()"
      ]
    },
    {
      "cell_type": "code",
      "execution_count": 18,
      "id": "Z-3eM0Qfu_-M",
      "metadata": {
        "colab": {
          "base_uri": "https://localhost:8080/"
        },
        "id": "Z-3eM0Qfu_-M",
        "outputId": "fd1ac838-c86d-4745-c9d5-6665c286cc3f"
      },
      "outputs": [
        {
          "output_type": "execute_result",
          "data": {
            "text/plain": [
              "3.654658933222642"
            ]
          },
          "metadata": {},
          "execution_count": 18
        }
      ],
      "source": [
        "mean_service_times_df['mean_service_time'].mean()"
      ]
    },
    {
      "cell_type": "code",
      "execution_count": 19,
      "id": "_vm8l_1zHSPZ",
      "metadata": {
        "colab": {
          "base_uri": "https://localhost:8080/",
          "height": 542
        },
        "id": "_vm8l_1zHSPZ",
        "outputId": "b702b512-525b-4f0f-8abb-868947691fa2"
      },
      "outputs": [
        {
          "output_type": "display_data",
          "data": {
            "text/html": [
              "<html>\n",
              "<head><meta charset=\"utf-8\" /></head>\n",
              "<body>\n",
              "    <div>            <script src=\"https://cdnjs.cloudflare.com/ajax/libs/mathjax/2.7.5/MathJax.js?config=TeX-AMS-MML_SVG\"></script><script type=\"text/javascript\">if (window.MathJax && window.MathJax.Hub && window.MathJax.Hub.Config) {window.MathJax.Hub.Config({SVG: {font: \"STIX-Web\"}});}</script>                <script type=\"text/javascript\">window.PlotlyConfig = {MathJaxConfig: 'local'};</script>\n",
              "        <script charset=\"utf-8\" src=\"https://cdn.plot.ly/plotly-2.24.1.min.js\"></script>                <div id=\"fce41165-0b63-4a31-ab94-a5f99ec8a6c2\" class=\"plotly-graph-div\" style=\"height:525px; width:100%;\"></div>            <script type=\"text/javascript\">                                    window.PLOTLYENV=window.PLOTLYENV || {};                                    if (document.getElementById(\"fce41165-0b63-4a31-ab94-a5f99ec8a6c2\")) {                    Plotly.newPlot(                        \"fce41165-0b63-4a31-ab94-a5f99ec8a6c2\",                        [{\"marker\":{\"color\":[null,1.2931414616128933,null,1.89393876641112,2.9824836258965073,null,null,6.116077255877043,null,null,7.888773669857544,null,4.190137662344748,null,null,null,null,null,2.5176916815832393,1.4973770568016986,1.6044386410684988,2.9571802346803677,4.937657217607921,7.504024051296082,7.710354268513345,5.0401986290045295,null,2.374208337589932,null,null,null,1.536106878732773,null,null,2.0786629743364395,null,8.504427610538151,null,null,null,null,3.5674080736332034,2.2482266064464813,null,null,2.0899909690179275,null,1.806474569156254,null,null,null,null,null,null,6.0217717168309735,null,null,null,null,null,7.494275011849038,null,null,null,null,null,null,null,2.073204532209505,null,1.5489227752497077,2.000433136751173,null,null,null,null,null,null,null,null,null,null,6.292856057967803,8.20568341142805,4.589681915813176,2.2706141482717155,null,null,null,null,null,null,null,null,1.1857104366978612,null,null,null,null,1.221488718461736,null,2.2094611171133596,4.103847889113759,null,null,null,null,7.932705926696302,null,null,6.727842161720099,1.8434677117135532,null,1.8866601906319902,1.0505549316056253,null,1.3848141322619523,2.6587829392504965,3.189425520671562,null,7.312457956748855,null,3.2778222385961087,3.5629382184888327,null,null,1.6977041829639778,1.3415215735728814,null,null,null,null,null,null,null,null,null,null,null,null,null,null,null,null,null,null,null,null,null,null,null,null,null,null,null,null,null,null,null,null,null,null,null,null,null,null,null,null],\"colorscale\":[[0.0,\"#440154\"],[0.1111111111111111,\"#482878\"],[0.2222222222222222,\"#3e4989\"],[0.3333333333333333,\"#31688e\"],[0.4444444444444444,\"#26828e\"],[0.5555555555555556,\"#1f9e89\"],[0.6666666666666666,\"#35b779\"],[0.7777777777777778,\"#6ece58\"],[0.8888888888888888,\"#b5de2b\"],[1.0,\"#fde725\"]],\"opacity\":0.8,\"size\":5},\"mode\":\"markers\",\"x\":[1,1,1,1,1,1,1,1,1,1,1,1,1,1,1,1,1,1,1,1,1,1,1,1,2,2,2,2,2,2,2,2,2,2,2,2,2,2,2,2,2,2,2,2,2,2,2,2,3,3,3,3,3,3,3,3,3,3,3,3,3,3,3,3,3,3,3,3,3,3,3,3,4,4,4,4,4,4,4,4,4,4,4,4,4,4,4,4,4,4,4,4,4,4,4,4,5,5,5,5,5,5,5,5,5,5,5,5,5,5,5,5,5,5,5,5,5,5,5,5,6,6,6,6,6,6,6,6,6,6,6,6,6,6,6,6,6,6,6,6,6,6,6,6,7,7,7,7,7,7,7,7,7,7,7,7,7,7,7,7,7,7,7,7,7,7,7,7],\"y\":[0,1,2,3,4,5,6,7,8,9,10,11,12,13,14,15,16,17,18,19,20,21,22,23,0,1,2,3,4,5,6,7,8,9,10,11,12,13,14,15,16,17,18,19,20,21,22,23,0,1,2,3,4,5,6,7,8,9,10,11,12,13,14,15,16,17,18,19,20,21,22,23,0,1,2,3,4,5,6,7,8,9,10,11,12,13,14,15,16,17,18,19,20,21,22,23,0,1,2,3,4,5,6,7,8,9,10,11,12,13,14,15,16,17,18,19,20,21,22,23,0,1,2,3,4,5,6,7,8,9,10,11,12,13,14,15,16,17,18,19,20,21,22,23,0,1,2,3,4,5,6,7,8,9,10,11,12,13,14,15,16,17,18,19,20,21,22,23],\"z\":[null,1.2931414616128933,null,1.89393876641112,2.9824836258965073,null,null,6.116077255877043,null,null,7.888773669857544,null,4.190137662344748,null,null,null,null,null,2.5176916815832393,1.4973770568016986,1.6044386410684988,2.9571802346803677,4.937657217607921,7.504024051296082,7.710354268513345,5.0401986290045295,null,2.374208337589932,null,null,null,1.536106878732773,null,null,2.0786629743364395,null,8.504427610538151,null,null,null,null,3.5674080736332034,2.2482266064464813,null,null,2.0899909690179275,null,1.806474569156254,null,null,null,null,null,null,6.0217717168309735,null,null,null,null,null,7.494275011849038,null,null,null,null,null,null,null,2.073204532209505,null,1.5489227752497077,2.000433136751173,null,null,null,null,null,null,null,null,null,null,6.292856057967803,8.20568341142805,4.589681915813176,2.2706141482717155,null,null,null,null,null,null,null,null,1.1857104366978612,null,null,null,null,1.221488718461736,null,2.2094611171133596,4.103847889113759,null,null,null,null,7.932705926696302,null,null,6.727842161720099,1.8434677117135532,null,1.8866601906319902,1.0505549316056253,null,1.3848141322619523,2.6587829392504965,3.189425520671562,null,7.312457956748855,null,3.2778222385961087,3.5629382184888327,null,null,1.6977041829639778,1.3415215735728814,null,null,null,null,null,null,null,null,null,null,null,null,null,null,null,null,null,null,null,null,null,null,null,null,null,null,null,null,null,null,null,null,null,null,null,null,null,null,null,null],\"type\":\"scatter3d\"}],                        {\"template\":{\"data\":{\"histogram2dcontour\":[{\"type\":\"histogram2dcontour\",\"colorbar\":{\"outlinewidth\":0,\"ticks\":\"\"},\"colorscale\":[[0.0,\"#0d0887\"],[0.1111111111111111,\"#46039f\"],[0.2222222222222222,\"#7201a8\"],[0.3333333333333333,\"#9c179e\"],[0.4444444444444444,\"#bd3786\"],[0.5555555555555556,\"#d8576b\"],[0.6666666666666666,\"#ed7953\"],[0.7777777777777778,\"#fb9f3a\"],[0.8888888888888888,\"#fdca26\"],[1.0,\"#f0f921\"]]}],\"choropleth\":[{\"type\":\"choropleth\",\"colorbar\":{\"outlinewidth\":0,\"ticks\":\"\"}}],\"histogram2d\":[{\"type\":\"histogram2d\",\"colorbar\":{\"outlinewidth\":0,\"ticks\":\"\"},\"colorscale\":[[0.0,\"#0d0887\"],[0.1111111111111111,\"#46039f\"],[0.2222222222222222,\"#7201a8\"],[0.3333333333333333,\"#9c179e\"],[0.4444444444444444,\"#bd3786\"],[0.5555555555555556,\"#d8576b\"],[0.6666666666666666,\"#ed7953\"],[0.7777777777777778,\"#fb9f3a\"],[0.8888888888888888,\"#fdca26\"],[1.0,\"#f0f921\"]]}],\"heatmap\":[{\"type\":\"heatmap\",\"colorbar\":{\"outlinewidth\":0,\"ticks\":\"\"},\"colorscale\":[[0.0,\"#0d0887\"],[0.1111111111111111,\"#46039f\"],[0.2222222222222222,\"#7201a8\"],[0.3333333333333333,\"#9c179e\"],[0.4444444444444444,\"#bd3786\"],[0.5555555555555556,\"#d8576b\"],[0.6666666666666666,\"#ed7953\"],[0.7777777777777778,\"#fb9f3a\"],[0.8888888888888888,\"#fdca26\"],[1.0,\"#f0f921\"]]}],\"heatmapgl\":[{\"type\":\"heatmapgl\",\"colorbar\":{\"outlinewidth\":0,\"ticks\":\"\"},\"colorscale\":[[0.0,\"#0d0887\"],[0.1111111111111111,\"#46039f\"],[0.2222222222222222,\"#7201a8\"],[0.3333333333333333,\"#9c179e\"],[0.4444444444444444,\"#bd3786\"],[0.5555555555555556,\"#d8576b\"],[0.6666666666666666,\"#ed7953\"],[0.7777777777777778,\"#fb9f3a\"],[0.8888888888888888,\"#fdca26\"],[1.0,\"#f0f921\"]]}],\"contourcarpet\":[{\"type\":\"contourcarpet\",\"colorbar\":{\"outlinewidth\":0,\"ticks\":\"\"}}],\"contour\":[{\"type\":\"contour\",\"colorbar\":{\"outlinewidth\":0,\"ticks\":\"\"},\"colorscale\":[[0.0,\"#0d0887\"],[0.1111111111111111,\"#46039f\"],[0.2222222222222222,\"#7201a8\"],[0.3333333333333333,\"#9c179e\"],[0.4444444444444444,\"#bd3786\"],[0.5555555555555556,\"#d8576b\"],[0.6666666666666666,\"#ed7953\"],[0.7777777777777778,\"#fb9f3a\"],[0.8888888888888888,\"#fdca26\"],[1.0,\"#f0f921\"]]}],\"surface\":[{\"type\":\"surface\",\"colorbar\":{\"outlinewidth\":0,\"ticks\":\"\"},\"colorscale\":[[0.0,\"#0d0887\"],[0.1111111111111111,\"#46039f\"],[0.2222222222222222,\"#7201a8\"],[0.3333333333333333,\"#9c179e\"],[0.4444444444444444,\"#bd3786\"],[0.5555555555555556,\"#d8576b\"],[0.6666666666666666,\"#ed7953\"],[0.7777777777777778,\"#fb9f3a\"],[0.8888888888888888,\"#fdca26\"],[1.0,\"#f0f921\"]]}],\"mesh3d\":[{\"type\":\"mesh3d\",\"colorbar\":{\"outlinewidth\":0,\"ticks\":\"\"}}],\"scatter\":[{\"fillpattern\":{\"fillmode\":\"overlay\",\"size\":10,\"solidity\":0.2},\"type\":\"scatter\"}],\"parcoords\":[{\"type\":\"parcoords\",\"line\":{\"colorbar\":{\"outlinewidth\":0,\"ticks\":\"\"}}}],\"scatterpolargl\":[{\"type\":\"scatterpolargl\",\"marker\":{\"colorbar\":{\"outlinewidth\":0,\"ticks\":\"\"}}}],\"bar\":[{\"error_x\":{\"color\":\"#2a3f5f\"},\"error_y\":{\"color\":\"#2a3f5f\"},\"marker\":{\"line\":{\"color\":\"#E5ECF6\",\"width\":0.5},\"pattern\":{\"fillmode\":\"overlay\",\"size\":10,\"solidity\":0.2}},\"type\":\"bar\"}],\"scattergeo\":[{\"type\":\"scattergeo\",\"marker\":{\"colorbar\":{\"outlinewidth\":0,\"ticks\":\"\"}}}],\"scatterpolar\":[{\"type\":\"scatterpolar\",\"marker\":{\"colorbar\":{\"outlinewidth\":0,\"ticks\":\"\"}}}],\"histogram\":[{\"marker\":{\"pattern\":{\"fillmode\":\"overlay\",\"size\":10,\"solidity\":0.2}},\"type\":\"histogram\"}],\"scattergl\":[{\"type\":\"scattergl\",\"marker\":{\"colorbar\":{\"outlinewidth\":0,\"ticks\":\"\"}}}],\"scatter3d\":[{\"type\":\"scatter3d\",\"line\":{\"colorbar\":{\"outlinewidth\":0,\"ticks\":\"\"}},\"marker\":{\"colorbar\":{\"outlinewidth\":0,\"ticks\":\"\"}}}],\"scattermapbox\":[{\"type\":\"scattermapbox\",\"marker\":{\"colorbar\":{\"outlinewidth\":0,\"ticks\":\"\"}}}],\"scatterternary\":[{\"type\":\"scatterternary\",\"marker\":{\"colorbar\":{\"outlinewidth\":0,\"ticks\":\"\"}}}],\"scattercarpet\":[{\"type\":\"scattercarpet\",\"marker\":{\"colorbar\":{\"outlinewidth\":0,\"ticks\":\"\"}}}],\"carpet\":[{\"aaxis\":{\"endlinecolor\":\"#2a3f5f\",\"gridcolor\":\"white\",\"linecolor\":\"white\",\"minorgridcolor\":\"white\",\"startlinecolor\":\"#2a3f5f\"},\"baxis\":{\"endlinecolor\":\"#2a3f5f\",\"gridcolor\":\"white\",\"linecolor\":\"white\",\"minorgridcolor\":\"white\",\"startlinecolor\":\"#2a3f5f\"},\"type\":\"carpet\"}],\"table\":[{\"cells\":{\"fill\":{\"color\":\"#EBF0F8\"},\"line\":{\"color\":\"white\"}},\"header\":{\"fill\":{\"color\":\"#C8D4E3\"},\"line\":{\"color\":\"white\"}},\"type\":\"table\"}],\"barpolar\":[{\"marker\":{\"line\":{\"color\":\"#E5ECF6\",\"width\":0.5},\"pattern\":{\"fillmode\":\"overlay\",\"size\":10,\"solidity\":0.2}},\"type\":\"barpolar\"}],\"pie\":[{\"automargin\":true,\"type\":\"pie\"}]},\"layout\":{\"autotypenumbers\":\"strict\",\"colorway\":[\"#636efa\",\"#EF553B\",\"#00cc96\",\"#ab63fa\",\"#FFA15A\",\"#19d3f3\",\"#FF6692\",\"#B6E880\",\"#FF97FF\",\"#FECB52\"],\"font\":{\"color\":\"#2a3f5f\"},\"hovermode\":\"closest\",\"hoverlabel\":{\"align\":\"left\"},\"paper_bgcolor\":\"white\",\"plot_bgcolor\":\"#E5ECF6\",\"polar\":{\"bgcolor\":\"#E5ECF6\",\"angularaxis\":{\"gridcolor\":\"white\",\"linecolor\":\"white\",\"ticks\":\"\"},\"radialaxis\":{\"gridcolor\":\"white\",\"linecolor\":\"white\",\"ticks\":\"\"}},\"ternary\":{\"bgcolor\":\"#E5ECF6\",\"aaxis\":{\"gridcolor\":\"white\",\"linecolor\":\"white\",\"ticks\":\"\"},\"baxis\":{\"gridcolor\":\"white\",\"linecolor\":\"white\",\"ticks\":\"\"},\"caxis\":{\"gridcolor\":\"white\",\"linecolor\":\"white\",\"ticks\":\"\"}},\"coloraxis\":{\"colorbar\":{\"outlinewidth\":0,\"ticks\":\"\"}},\"colorscale\":{\"sequential\":[[0.0,\"#0d0887\"],[0.1111111111111111,\"#46039f\"],[0.2222222222222222,\"#7201a8\"],[0.3333333333333333,\"#9c179e\"],[0.4444444444444444,\"#bd3786\"],[0.5555555555555556,\"#d8576b\"],[0.6666666666666666,\"#ed7953\"],[0.7777777777777778,\"#fb9f3a\"],[0.8888888888888888,\"#fdca26\"],[1.0,\"#f0f921\"]],\"sequentialminus\":[[0.0,\"#0d0887\"],[0.1111111111111111,\"#46039f\"],[0.2222222222222222,\"#7201a8\"],[0.3333333333333333,\"#9c179e\"],[0.4444444444444444,\"#bd3786\"],[0.5555555555555556,\"#d8576b\"],[0.6666666666666666,\"#ed7953\"],[0.7777777777777778,\"#fb9f3a\"],[0.8888888888888888,\"#fdca26\"],[1.0,\"#f0f921\"]],\"diverging\":[[0,\"#8e0152\"],[0.1,\"#c51b7d\"],[0.2,\"#de77ae\"],[0.3,\"#f1b6da\"],[0.4,\"#fde0ef\"],[0.5,\"#f7f7f7\"],[0.6,\"#e6f5d0\"],[0.7,\"#b8e186\"],[0.8,\"#7fbc41\"],[0.9,\"#4d9221\"],[1,\"#276419\"]]},\"xaxis\":{\"gridcolor\":\"white\",\"linecolor\":\"white\",\"ticks\":\"\",\"title\":{\"standoff\":15},\"zerolinecolor\":\"white\",\"automargin\":true,\"zerolinewidth\":2},\"yaxis\":{\"gridcolor\":\"white\",\"linecolor\":\"white\",\"ticks\":\"\",\"title\":{\"standoff\":15},\"zerolinecolor\":\"white\",\"automargin\":true,\"zerolinewidth\":2},\"scene\":{\"xaxis\":{\"backgroundcolor\":\"#E5ECF6\",\"gridcolor\":\"white\",\"linecolor\":\"white\",\"showbackground\":true,\"ticks\":\"\",\"zerolinecolor\":\"white\",\"gridwidth\":2},\"yaxis\":{\"backgroundcolor\":\"#E5ECF6\",\"gridcolor\":\"white\",\"linecolor\":\"white\",\"showbackground\":true,\"ticks\":\"\",\"zerolinecolor\":\"white\",\"gridwidth\":2},\"zaxis\":{\"backgroundcolor\":\"#E5ECF6\",\"gridcolor\":\"white\",\"linecolor\":\"white\",\"showbackground\":true,\"ticks\":\"\",\"zerolinecolor\":\"white\",\"gridwidth\":2}},\"shapedefaults\":{\"line\":{\"color\":\"#2a3f5f\"}},\"annotationdefaults\":{\"arrowcolor\":\"#2a3f5f\",\"arrowhead\":0,\"arrowwidth\":1},\"geo\":{\"bgcolor\":\"white\",\"landcolor\":\"#E5ECF6\",\"subunitcolor\":\"white\",\"showland\":true,\"showlakes\":true,\"lakecolor\":\"white\"},\"title\":{\"x\":0.05},\"mapbox\":{\"style\":\"light\"}}},\"scene\":{\"xaxis\":{\"title\":{\"text\":\"Day\"}},\"yaxis\":{\"title\":{\"text\":\"Hour\"}},\"zaxis\":{\"title\":{\"text\":\"Mean Service Time\"}}},\"title\":{\"text\":\"Interactive 3D Scatter Plot of Mean Service Times\"}},                        {\"responsive\": true}                    ).then(function(){\n",
              "                            \n",
              "var gd = document.getElementById('fce41165-0b63-4a31-ab94-a5f99ec8a6c2');\n",
              "var x = new MutationObserver(function (mutations, observer) {{\n",
              "        var display = window.getComputedStyle(gd).display;\n",
              "        if (!display || display === 'none') {{\n",
              "            console.log([gd, 'removed!']);\n",
              "            Plotly.purge(gd);\n",
              "            observer.disconnect();\n",
              "        }}\n",
              "}});\n",
              "\n",
              "// Listen for the removal of the full notebook cells\n",
              "var notebookContainer = gd.closest('#notebook-container');\n",
              "if (notebookContainer) {{\n",
              "    x.observe(notebookContainer, {childList: true});\n",
              "}}\n",
              "\n",
              "// Listen for the clearing of the current output cell\n",
              "var outputEl = gd.closest('.output');\n",
              "if (outputEl) {{\n",
              "    x.observe(outputEl, {childList: true});\n",
              "}}\n",
              "\n",
              "                        })                };                            </script>        </div>\n",
              "</body>\n",
              "</html>"
            ]
          },
          "metadata": {}
        }
      ],
      "source": [
        "import plotly.graph_objects as go\n",
        "import numpy as np\n",
        "import pandas as pd\n",
        "\n",
        "# Reset index to access day and hour as columns\n",
        "mean_service_times_df = mean_service_times_df.reset_index()\n",
        "\n",
        "# Extract data for plotting\n",
        "days = mean_service_times_df['day']\n",
        "hours = mean_service_times_df['hour']\n",
        "mean_service_times = mean_service_times_df['mean_service_time']\n",
        "\n",
        "# Create a 3D scatter plot\n",
        "fig = go.Figure(data=[go.Scatter3d(\n",
        "    x=days,\n",
        "    y=hours,\n",
        "    z=mean_service_times,\n",
        "    mode='markers',\n",
        "    marker=dict(\n",
        "        size=5,\n",
        "        color=mean_service_times,  # Set color to the mean service times\n",
        "        colorscale='Viridis',  # Choose a colorscale\n",
        "        opacity=0.8\n",
        "    )\n",
        ")])\n",
        "\n",
        "# Set labels for axes\n",
        "fig.update_layout(\n",
        "    scene=dict(\n",
        "        xaxis_title='Day',\n",
        "        yaxis_title='Hour',\n",
        "        zaxis_title='Mean Service Time'\n",
        "    ),\n",
        "    title='Interactive 3D Scatter Plot of Mean Service Times'\n",
        ")\n",
        "\n",
        "# Show the plot\n",
        "fig.show()\n"
      ]
    },
    {
      "cell_type": "markdown",
      "id": "sGsDVQrho3re",
      "metadata": {
        "id": "sGsDVQrho3re"
      },
      "source": [
        "**2. Using two regression methods for completing the average service time for the rest of the grid:**"
      ]
    },
    {
      "cell_type": "markdown",
      "id": "EN6Pgi0oo-Hc",
      "metadata": {
        "id": "EN6Pgi0oo-Hc"
      },
      "source": [
        "**Division into training and test** (when there is no Y test). <br>\n",
        "Training - the full cells. <br>\n",
        "Test - the empty cells."
      ]
    },
    {
      "cell_type": "code",
      "execution_count": 20,
      "id": "e3zTLaF7odR7",
      "metadata": {
        "colab": {
          "base_uri": "https://localhost:8080/"
        },
        "id": "e3zTLaF7odR7",
        "outputId": "8c9edb9c-a6e8-4b04-9c9b-6bc8fe9c53e6"
      },
      "outputs": [
        {
          "output_type": "stream",
          "name": "stdout",
          "text": [
            "Training Set (Filled Cells):\n",
            "    day  hour\n",
            "1     1     1\n",
            "3     1     3\n",
            "4     1     4\n",
            "7     1     7\n",
            "10    1    10\n",
            "1     1.293141\n",
            "3     1.729359\n",
            "4     2.063790\n",
            "7     2.982484\n",
            "10    5.594943\n",
            "Name: service_time, dtype: float64\n",
            "Test Set (Empty Cells):\n",
            "   day  hour\n",
            "0    1     0\n",
            "2    1     2\n",
            "5    1     5\n",
            "6    1     6\n",
            "8    1     8\n"
          ]
        }
      ],
      "source": [
        "import pandas as pd\n",
        "\n",
        "# Calculate service times\n",
        "df_tot = df_tot.copy()\n",
        "\n",
        "# Create a dictionary to store service times for each customer\n",
        "service_times = {}\n",
        "\n",
        "# Iterate over each row in the DataFrame\n",
        "for _, row in df_tot.iterrows():\n",
        "    customer_id = row['customer_id']\n",
        "    event = row['event']\n",
        "    time_stamp = row['time_stamp']\n",
        "\n",
        "    if event == 'Enter_service':\n",
        "        if customer_id not in service_times:\n",
        "            service_times[customer_id] = {}\n",
        "        service_times[customer_id]['enter_service'] = time_stamp\n",
        "    elif event == 'Departure':\n",
        "        if customer_id in service_times:\n",
        "            service_times[customer_id]['departure'] = time_stamp\n",
        "\n",
        "# Calculate service times and add them to the DataFrame\n",
        "service_times_list = []\n",
        "for customer_id, times in service_times.items():\n",
        "    if 'enter_service' in times and 'departure' in times:\n",
        "        service_time = times['departure'] - times['enter_service']\n",
        "        service_times_list.append({\n",
        "            'customer_id': customer_id,\n",
        "            'service_time': service_time,\n",
        "            'day': df_tot[df_tot['customer_id'] == customer_id]['day'].values[0],\n",
        "            'hour': df_tot[df_tot['customer_id'] == customer_id]['hour'].values[0]\n",
        "        })\n",
        "\n",
        "service_times_df = pd.DataFrame(service_times_list)\n",
        "\n",
        "# Aggregate service times by day and hour\n",
        "mean_service_times_df = service_times_df.groupby(['day', 'hour'])['service_time'].mean().reset_index()\n",
        "\n",
        "# Identify empty and filled cells\n",
        "days = range(1, 8)  # days range from 1 to 7\n",
        "hours = range(0, 24)  # hours range from 0 to 23\n",
        "day_hour_combinations = pd.DataFrame([(day, hour) for day in days for hour in hours], columns=['day', 'hour'])\n",
        "\n",
        "# Merge to find empty cells\n",
        "merged_df = pd.merge(day_hour_combinations, mean_service_times_df, on=['day', 'hour'], how='left')\n",
        "\n",
        "# Identify empty and filled cells\n",
        "empty_cells = merged_df[merged_df['service_time'].isna()]\n",
        "filled_cells = merged_df[~merged_df['service_time'].isna()]\n",
        "\n",
        "# Prepare training and test sets\n",
        "X_train = filled_cells[['day', 'hour']]\n",
        "y_train = filled_cells['service_time']\n",
        "X_test = empty_cells[['day', 'hour']]\n",
        "\n",
        "print(\"Training Set (Filled Cells):\")\n",
        "print(X_train.head())\n",
        "print(y_train.head())\n",
        "\n",
        "print(\"Test Set (Empty Cells):\")\n",
        "print(X_test.head())"
      ]
    },
    {
      "cell_type": "markdown",
      "id": "ii4vSsS42EmK",
      "metadata": {
        "id": "ii4vSsS42EmK"
      },
      "source": [
        "**linear regression:**"
      ]
    },
    {
      "cell_type": "code",
      "execution_count": 21,
      "id": "KJySmr9ePcKo",
      "metadata": {
        "colab": {
          "base_uri": "https://localhost:8080/",
          "height": 57
        },
        "id": "KJySmr9ePcKo",
        "outputId": "3c37d5a1-d3e5-496b-8086-6c78cfba0437"
      },
      "outputs": [
        {
          "output_type": "display_data",
          "data": {
            "text/plain": [
              "<IPython.core.display.HTML object>"
            ],
            "text/html": [
              "\n",
              "<style>\n",
              "    /* Turns off some styling */\n",
              "    progress {\n",
              "        /* gets rid of default border in Firefox and Opera. */\n",
              "        border: none;\n",
              "        /* Needs to be in here for Safari polyfill so background images work as expected. */\n",
              "        background-size: auto;\n",
              "    }\n",
              "    progress:not([value]), progress:not([value])::-webkit-progress-bar {\n",
              "        background: repeating-linear-gradient(45deg, #7e7e7e, #7e7e7e 10px, #5c5c5c 10px, #5c5c5c 20px);\n",
              "    }\n",
              "    .progress-bar-interrupted, .progress-bar-interrupted::-webkit-progress-bar {\n",
              "        background: #F44336;\n",
              "    }\n",
              "</style>\n"
            ]
          },
          "metadata": {}
        },
        {
          "output_type": "display_data",
          "data": {
            "text/plain": [
              "<IPython.core.display.HTML object>"
            ],
            "text/html": [
              "\n",
              "    <div>\n",
              "      <progress value='3000' class='' max='3000' style='width:300px; height:20px; vertical-align: middle;'></progress>\n",
              "      100.00% [3000/3000 00:02&lt;00:00 Sampling chain 0, 0 divergences]\n",
              "    </div>\n",
              "    "
            ]
          },
          "metadata": {}
        },
        {
          "output_type": "display_data",
          "data": {
            "text/plain": [
              "<IPython.core.display.HTML object>"
            ],
            "text/html": [
              "\n",
              "<style>\n",
              "    /* Turns off some styling */\n",
              "    progress {\n",
              "        /* gets rid of default border in Firefox and Opera. */\n",
              "        border: none;\n",
              "        /* Needs to be in here for Safari polyfill so background images work as expected. */\n",
              "        background-size: auto;\n",
              "    }\n",
              "    progress:not([value]), progress:not([value])::-webkit-progress-bar {\n",
              "        background: repeating-linear-gradient(45deg, #7e7e7e, #7e7e7e 10px, #5c5c5c 10px, #5c5c5c 20px);\n",
              "    }\n",
              "    .progress-bar-interrupted, .progress-bar-interrupted::-webkit-progress-bar {\n",
              "        background: #F44336;\n",
              "    }\n",
              "</style>\n"
            ]
          },
          "metadata": {}
        },
        {
          "output_type": "display_data",
          "data": {
            "text/plain": [
              "<IPython.core.display.HTML object>"
            ],
            "text/html": [
              "\n",
              "    <div>\n",
              "      <progress value='3000' class='' max='3000' style='width:300px; height:20px; vertical-align: middle;'></progress>\n",
              "      100.00% [3000/3000 00:03&lt;00:00 Sampling chain 1, 0 divergences]\n",
              "    </div>\n",
              "    "
            ]
          },
          "metadata": {}
        }
      ],
      "source": [
        "# Standardize the data\n",
        "from sklearn.preprocessing import StandardScaler\n",
        "scaler = StandardScaler()\n",
        "X_train_scaled = scaler.fit_transform(X_train)\n",
        "X_test_scaled = scaler.transform(X_test)\n",
        "\n",
        "with pm.Model() as linear_model:\n",
        "    # Priors for unknown model parameters\n",
        "    β = pm.Normal('β', mu=0, sigma=50, shape=2)\n",
        "    σ = pm.HalfNormal('σ', sigma=10)\n",
        "\n",
        "    # Linear function\n",
        "    μ = β[0] + β[1] * X_train_scaled[:, 1]\n",
        "\n",
        "    # Likelihood (sampling distribution) of observations\n",
        "    y_obs = pm.Normal('y_obs', mu=μ, sigma=σ, observed=y_train)\n",
        "\n",
        "    # Sample from the posterior\n",
        "    trace_linear = pm.sample(2000, tune=1000, chains=2, cores=1)"
      ]
    },
    {
      "cell_type": "code",
      "execution_count": 22,
      "id": "VsHDYrdhJEdG",
      "metadata": {
        "colab": {
          "base_uri": "https://localhost:8080/",
          "height": 368
        },
        "id": "VsHDYrdhJEdG",
        "outputId": "2617f5e8-a726-4887-b475-f582c59ca53b"
      },
      "outputs": [
        {
          "output_type": "execute_result",
          "data": {
            "image/svg+xml": "<?xml version=\"1.0\" encoding=\"UTF-8\" standalone=\"no\"?>\n<!DOCTYPE svg PUBLIC \"-//W3C//DTD SVG 1.1//EN\"\n \"http://www.w3.org/Graphics/SVG/1.1/DTD/svg11.dtd\">\n<!-- Generated by graphviz version 2.43.0 (0)\n -->\n<!-- Title: %3 Pages: 1 -->\n<svg width=\"243pt\" height=\"260pt\"\n viewBox=\"0.00 0.00 242.69 259.91\" xmlns=\"http://www.w3.org/2000/svg\" xmlns:xlink=\"http://www.w3.org/1999/xlink\">\n<g id=\"graph0\" class=\"graph\" transform=\"scale(1 1) rotate(0) translate(4 255.91)\">\n<title>%3</title>\n<polygon fill=\"white\" stroke=\"transparent\" points=\"-4,4 -4,-255.91 238.69,-255.91 238.69,4 -4,4\"/>\n<g id=\"clust1\" class=\"cluster\">\n<title>cluster2</title>\n<path fill=\"none\" stroke=\"black\" d=\"M20,-129.95C20,-129.95 96,-129.95 96,-129.95 102,-129.95 108,-135.95 108,-141.95 108,-141.95 108,-231.91 108,-231.91 108,-237.91 102,-243.91 96,-243.91 96,-243.91 20,-243.91 20,-243.91 14,-243.91 8,-237.91 8,-231.91 8,-231.91 8,-141.95 8,-141.95 8,-135.95 14,-129.95 20,-129.95\"/>\n<text text-anchor=\"middle\" x=\"96.5\" y=\"-137.75\" font-family=\"Times,serif\" font-size=\"14.00\">2</text>\n</g>\n<g id=\"clust2\" class=\"cluster\">\n<title>cluster78</title>\n<path fill=\"none\" stroke=\"black\" d=\"M20,-8C20,-8 96,-8 96,-8 102,-8 108,-14 108,-20 108,-20 108,-109.95 108,-109.95 108,-115.95 102,-121.95 96,-121.95 96,-121.95 20,-121.95 20,-121.95 14,-121.95 8,-115.95 8,-109.95 8,-109.95 8,-20 8,-20 8,-14 14,-8 20,-8\"/>\n<text text-anchor=\"middle\" x=\"93\" y=\"-15.8\" font-family=\"Times,serif\" font-size=\"14.00\">78</text>\n</g>\n<!-- β -->\n<g id=\"node1\" class=\"node\">\n<title>β</title>\n<ellipse fill=\"none\" stroke=\"black\" cx=\"58\" cy=\"-198.43\" rx=\"41.94\" ry=\"37.45\"/>\n<text text-anchor=\"middle\" x=\"58\" y=\"-209.73\" font-family=\"Times,serif\" font-size=\"14.00\">β</text>\n<text text-anchor=\"middle\" x=\"58\" y=\"-194.73\" font-family=\"Times,serif\" font-size=\"14.00\">~</text>\n<text text-anchor=\"middle\" x=\"58\" y=\"-179.73\" font-family=\"Times,serif\" font-size=\"14.00\">Normal</text>\n</g>\n<!-- y_obs -->\n<g id=\"node3\" class=\"node\">\n<title>y_obs</title>\n<ellipse fill=\"lightgrey\" stroke=\"black\" cx=\"58\" cy=\"-76.48\" rx=\"41.94\" ry=\"37.45\"/>\n<text text-anchor=\"middle\" x=\"58\" y=\"-87.78\" font-family=\"Times,serif\" font-size=\"14.00\">y_obs</text>\n<text text-anchor=\"middle\" x=\"58\" y=\"-72.78\" font-family=\"Times,serif\" font-size=\"14.00\">~</text>\n<text text-anchor=\"middle\" x=\"58\" y=\"-57.78\" font-family=\"Times,serif\" font-size=\"14.00\">Normal</text>\n</g>\n<!-- β&#45;&gt;y_obs -->\n<g id=\"edge2\" class=\"edge\">\n<title>β&#45;&gt;y_obs</title>\n<path fill=\"none\" stroke=\"black\" d=\"M58,-160.79C58,-149.38 58,-136.65 58,-124.63\"/>\n<polygon fill=\"black\" stroke=\"black\" points=\"61.5,-124.31 58,-114.31 54.5,-124.31 61.5,-124.31\"/>\n</g>\n<!-- σ -->\n<g id=\"node2\" class=\"node\">\n<title>σ</title>\n<ellipse fill=\"none\" stroke=\"black\" cx=\"176\" cy=\"-198.43\" rx=\"58.88\" ry=\"37.45\"/>\n<text text-anchor=\"middle\" x=\"176\" y=\"-209.73\" font-family=\"Times,serif\" font-size=\"14.00\">σ</text>\n<text text-anchor=\"middle\" x=\"176\" y=\"-194.73\" font-family=\"Times,serif\" font-size=\"14.00\">~</text>\n<text text-anchor=\"middle\" x=\"176\" y=\"-179.73\" font-family=\"Times,serif\" font-size=\"14.00\">HalfNormal</text>\n</g>\n<!-- σ&#45;&gt;y_obs -->\n<g id=\"edge1\" class=\"edge\">\n<title>σ&#45;&gt;y_obs</title>\n<path fill=\"none\" stroke=\"black\" d=\"M146.63,-165.93C135.84,-154.5 123.46,-141.55 112,-129.95 106.06,-123.94 99.67,-117.61 93.44,-111.52\"/>\n<polygon fill=\"black\" stroke=\"black\" points=\"95.84,-108.97 86.24,-104.5 90.96,-113.98 95.84,-108.97\"/>\n</g>\n</g>\n</svg>\n",
            "text/plain": [
              "<graphviz.graphs.Digraph at 0x7dabc581ab00>"
            ]
          },
          "metadata": {},
          "execution_count": 22
        }
      ],
      "source": [
        "pm.model_to_graphviz(linear_model)"
      ]
    },
    {
      "cell_type": "code",
      "execution_count": 23,
      "id": "cgIRSurt7Qzo",
      "metadata": {
        "colab": {
          "base_uri": "https://localhost:8080/",
          "height": 37
        },
        "id": "cgIRSurt7Qzo",
        "outputId": "3d560c4c-9d12-449b-fd5f-f778f32ce41c"
      },
      "outputs": [
        {
          "output_type": "display_data",
          "data": {
            "text/plain": [
              "<IPython.core.display.HTML object>"
            ],
            "text/html": [
              "\n",
              "<style>\n",
              "    /* Turns off some styling */\n",
              "    progress {\n",
              "        /* gets rid of default border in Firefox and Opera. */\n",
              "        border: none;\n",
              "        /* Needs to be in here for Safari polyfill so background images work as expected. */\n",
              "        background-size: auto;\n",
              "    }\n",
              "    progress:not([value]), progress:not([value])::-webkit-progress-bar {\n",
              "        background: repeating-linear-gradient(45deg, #7e7e7e, #7e7e7e 10px, #5c5c5c 10px, #5c5c5c 20px);\n",
              "    }\n",
              "    .progress-bar-interrupted, .progress-bar-interrupted::-webkit-progress-bar {\n",
              "        background: #F44336;\n",
              "    }\n",
              "</style>\n"
            ]
          },
          "metadata": {}
        },
        {
          "output_type": "display_data",
          "data": {
            "text/plain": [
              "<IPython.core.display.HTML object>"
            ],
            "text/html": [
              "\n",
              "    <div>\n",
              "      <progress value='4000' class='' max='4000' style='width:300px; height:20px; vertical-align: middle;'></progress>\n",
              "      100.00% [4000/4000 00:00&lt;00:00]\n",
              "    </div>\n",
              "    "
            ]
          },
          "metadata": {}
        }
      ],
      "source": [
        "# Posterior predictive check\n",
        "with linear_model:\n",
        "    linear_pred = pm.sample_posterior_predictive(trace_linear, var_names=['β'])"
      ]
    },
    {
      "cell_type": "code",
      "execution_count": 24,
      "id": "26BMzn2jILng",
      "metadata": {
        "id": "26BMzn2jILng"
      },
      "outputs": [],
      "source": [
        "# Extract the predictions\n",
        "β_samples = linear_pred.posterior_predictive['β'].values\n",
        "pred_mean_linear = np.mean(β_samples[:, 0].reshape(-1, 1) + β_samples[:, 1].reshape(-1, 1) * X_test_scaled[:, 1], axis=0)"
      ]
    },
    {
      "cell_type": "code",
      "execution_count": 25,
      "id": "oSXMC4ARTJ53",
      "metadata": {
        "colab": {
          "base_uri": "https://localhost:8080/",
          "height": 206
        },
        "id": "oSXMC4ARTJ53",
        "outputId": "4918244d-559a-43e0-d819-5e48f8f697f6"
      },
      "outputs": [
        {
          "output_type": "execute_result",
          "data": {
            "text/plain": [
              "   day  hour  service_time\n",
              "0    1     1      1.293141\n",
              "1    1     3      1.729359\n",
              "2    1     4      2.063790\n",
              "3    1     7      2.982484\n",
              "4    1    10      5.594943"
            ],
            "text/html": [
              "\n",
              "  <div id=\"df-f1c78c2e-f5ac-4e75-b95a-bd00b13e7125\" class=\"colab-df-container\">\n",
              "    <div>\n",
              "<style scoped>\n",
              "    .dataframe tbody tr th:only-of-type {\n",
              "        vertical-align: middle;\n",
              "    }\n",
              "\n",
              "    .dataframe tbody tr th {\n",
              "        vertical-align: top;\n",
              "    }\n",
              "\n",
              "    .dataframe thead th {\n",
              "        text-align: right;\n",
              "    }\n",
              "</style>\n",
              "<table border=\"1\" class=\"dataframe\">\n",
              "  <thead>\n",
              "    <tr style=\"text-align: right;\">\n",
              "      <th></th>\n",
              "      <th>day</th>\n",
              "      <th>hour</th>\n",
              "      <th>service_time</th>\n",
              "    </tr>\n",
              "  </thead>\n",
              "  <tbody>\n",
              "    <tr>\n",
              "      <th>0</th>\n",
              "      <td>1</td>\n",
              "      <td>1</td>\n",
              "      <td>1.293141</td>\n",
              "    </tr>\n",
              "    <tr>\n",
              "      <th>1</th>\n",
              "      <td>1</td>\n",
              "      <td>3</td>\n",
              "      <td>1.729359</td>\n",
              "    </tr>\n",
              "    <tr>\n",
              "      <th>2</th>\n",
              "      <td>1</td>\n",
              "      <td>4</td>\n",
              "      <td>2.063790</td>\n",
              "    </tr>\n",
              "    <tr>\n",
              "      <th>3</th>\n",
              "      <td>1</td>\n",
              "      <td>7</td>\n",
              "      <td>2.982484</td>\n",
              "    </tr>\n",
              "    <tr>\n",
              "      <th>4</th>\n",
              "      <td>1</td>\n",
              "      <td>10</td>\n",
              "      <td>5.594943</td>\n",
              "    </tr>\n",
              "  </tbody>\n",
              "</table>\n",
              "</div>\n",
              "    <div class=\"colab-df-buttons\">\n",
              "\n",
              "  <div class=\"colab-df-container\">\n",
              "    <button class=\"colab-df-convert\" onclick=\"convertToInteractive('df-f1c78c2e-f5ac-4e75-b95a-bd00b13e7125')\"\n",
              "            title=\"Convert this dataframe to an interactive table.\"\n",
              "            style=\"display:none;\">\n",
              "\n",
              "  <svg xmlns=\"http://www.w3.org/2000/svg\" height=\"24px\" viewBox=\"0 -960 960 960\">\n",
              "    <path d=\"M120-120v-720h720v720H120Zm60-500h600v-160H180v160Zm220 220h160v-160H400v160Zm0 220h160v-160H400v160ZM180-400h160v-160H180v160Zm440 0h160v-160H620v160ZM180-180h160v-160H180v160Zm440 0h160v-160H620v160Z\"/>\n",
              "  </svg>\n",
              "    </button>\n",
              "\n",
              "  <style>\n",
              "    .colab-df-container {\n",
              "      display:flex;\n",
              "      gap: 12px;\n",
              "    }\n",
              "\n",
              "    .colab-df-convert {\n",
              "      background-color: #E8F0FE;\n",
              "      border: none;\n",
              "      border-radius: 50%;\n",
              "      cursor: pointer;\n",
              "      display: none;\n",
              "      fill: #1967D2;\n",
              "      height: 32px;\n",
              "      padding: 0 0 0 0;\n",
              "      width: 32px;\n",
              "    }\n",
              "\n",
              "    .colab-df-convert:hover {\n",
              "      background-color: #E2EBFA;\n",
              "      box-shadow: 0px 1px 2px rgba(60, 64, 67, 0.3), 0px 1px 3px 1px rgba(60, 64, 67, 0.15);\n",
              "      fill: #174EA6;\n",
              "    }\n",
              "\n",
              "    .colab-df-buttons div {\n",
              "      margin-bottom: 4px;\n",
              "    }\n",
              "\n",
              "    [theme=dark] .colab-df-convert {\n",
              "      background-color: #3B4455;\n",
              "      fill: #D2E3FC;\n",
              "    }\n",
              "\n",
              "    [theme=dark] .colab-df-convert:hover {\n",
              "      background-color: #434B5C;\n",
              "      box-shadow: 0px 1px 3px 1px rgba(0, 0, 0, 0.15);\n",
              "      filter: drop-shadow(0px 1px 2px rgba(0, 0, 0, 0.3));\n",
              "      fill: #FFFFFF;\n",
              "    }\n",
              "  </style>\n",
              "\n",
              "    <script>\n",
              "      const buttonEl =\n",
              "        document.querySelector('#df-f1c78c2e-f5ac-4e75-b95a-bd00b13e7125 button.colab-df-convert');\n",
              "      buttonEl.style.display =\n",
              "        google.colab.kernel.accessAllowed ? 'block' : 'none';\n",
              "\n",
              "      async function convertToInteractive(key) {\n",
              "        const element = document.querySelector('#df-f1c78c2e-f5ac-4e75-b95a-bd00b13e7125');\n",
              "        const dataTable =\n",
              "          await google.colab.kernel.invokeFunction('convertToInteractive',\n",
              "                                                    [key], {});\n",
              "        if (!dataTable) return;\n",
              "\n",
              "        const docLinkHtml = 'Like what you see? Visit the ' +\n",
              "          '<a target=\"_blank\" href=https://colab.research.google.com/notebooks/data_table.ipynb>data table notebook</a>'\n",
              "          + ' to learn more about interactive tables.';\n",
              "        element.innerHTML = '';\n",
              "        dataTable['output_type'] = 'display_data';\n",
              "        await google.colab.output.renderOutput(dataTable, element);\n",
              "        const docLink = document.createElement('div');\n",
              "        docLink.innerHTML = docLinkHtml;\n",
              "        element.appendChild(docLink);\n",
              "      }\n",
              "    </script>\n",
              "  </div>\n",
              "\n",
              "\n",
              "<div id=\"df-95ef6770-f0e6-4b0a-8654-b9db8afb24df\">\n",
              "  <button class=\"colab-df-quickchart\" onclick=\"quickchart('df-95ef6770-f0e6-4b0a-8654-b9db8afb24df')\"\n",
              "            title=\"Suggest charts\"\n",
              "            style=\"display:none;\">\n",
              "\n",
              "<svg xmlns=\"http://www.w3.org/2000/svg\" height=\"24px\"viewBox=\"0 0 24 24\"\n",
              "     width=\"24px\">\n",
              "    <g>\n",
              "        <path d=\"M19 3H5c-1.1 0-2 .9-2 2v14c0 1.1.9 2 2 2h14c1.1 0 2-.9 2-2V5c0-1.1-.9-2-2-2zM9 17H7v-7h2v7zm4 0h-2V7h2v10zm4 0h-2v-4h2v4z\"/>\n",
              "    </g>\n",
              "</svg>\n",
              "  </button>\n",
              "\n",
              "<style>\n",
              "  .colab-df-quickchart {\n",
              "      --bg-color: #E8F0FE;\n",
              "      --fill-color: #1967D2;\n",
              "      --hover-bg-color: #E2EBFA;\n",
              "      --hover-fill-color: #174EA6;\n",
              "      --disabled-fill-color: #AAA;\n",
              "      --disabled-bg-color: #DDD;\n",
              "  }\n",
              "\n",
              "  [theme=dark] .colab-df-quickchart {\n",
              "      --bg-color: #3B4455;\n",
              "      --fill-color: #D2E3FC;\n",
              "      --hover-bg-color: #434B5C;\n",
              "      --hover-fill-color: #FFFFFF;\n",
              "      --disabled-bg-color: #3B4455;\n",
              "      --disabled-fill-color: #666;\n",
              "  }\n",
              "\n",
              "  .colab-df-quickchart {\n",
              "    background-color: var(--bg-color);\n",
              "    border: none;\n",
              "    border-radius: 50%;\n",
              "    cursor: pointer;\n",
              "    display: none;\n",
              "    fill: var(--fill-color);\n",
              "    height: 32px;\n",
              "    padding: 0;\n",
              "    width: 32px;\n",
              "  }\n",
              "\n",
              "  .colab-df-quickchart:hover {\n",
              "    background-color: var(--hover-bg-color);\n",
              "    box-shadow: 0 1px 2px rgba(60, 64, 67, 0.3), 0 1px 3px 1px rgba(60, 64, 67, 0.15);\n",
              "    fill: var(--button-hover-fill-color);\n",
              "  }\n",
              "\n",
              "  .colab-df-quickchart-complete:disabled,\n",
              "  .colab-df-quickchart-complete:disabled:hover {\n",
              "    background-color: var(--disabled-bg-color);\n",
              "    fill: var(--disabled-fill-color);\n",
              "    box-shadow: none;\n",
              "  }\n",
              "\n",
              "  .colab-df-spinner {\n",
              "    border: 2px solid var(--fill-color);\n",
              "    border-color: transparent;\n",
              "    border-bottom-color: var(--fill-color);\n",
              "    animation:\n",
              "      spin 1s steps(1) infinite;\n",
              "  }\n",
              "\n",
              "  @keyframes spin {\n",
              "    0% {\n",
              "      border-color: transparent;\n",
              "      border-bottom-color: var(--fill-color);\n",
              "      border-left-color: var(--fill-color);\n",
              "    }\n",
              "    20% {\n",
              "      border-color: transparent;\n",
              "      border-left-color: var(--fill-color);\n",
              "      border-top-color: var(--fill-color);\n",
              "    }\n",
              "    30% {\n",
              "      border-color: transparent;\n",
              "      border-left-color: var(--fill-color);\n",
              "      border-top-color: var(--fill-color);\n",
              "      border-right-color: var(--fill-color);\n",
              "    }\n",
              "    40% {\n",
              "      border-color: transparent;\n",
              "      border-right-color: var(--fill-color);\n",
              "      border-top-color: var(--fill-color);\n",
              "    }\n",
              "    60% {\n",
              "      border-color: transparent;\n",
              "      border-right-color: var(--fill-color);\n",
              "    }\n",
              "    80% {\n",
              "      border-color: transparent;\n",
              "      border-right-color: var(--fill-color);\n",
              "      border-bottom-color: var(--fill-color);\n",
              "    }\n",
              "    90% {\n",
              "      border-color: transparent;\n",
              "      border-bottom-color: var(--fill-color);\n",
              "    }\n",
              "  }\n",
              "</style>\n",
              "\n",
              "  <script>\n",
              "    async function quickchart(key) {\n",
              "      const quickchartButtonEl =\n",
              "        document.querySelector('#' + key + ' button');\n",
              "      quickchartButtonEl.disabled = true;  // To prevent multiple clicks.\n",
              "      quickchartButtonEl.classList.add('colab-df-spinner');\n",
              "      try {\n",
              "        const charts = await google.colab.kernel.invokeFunction(\n",
              "            'suggestCharts', [key], {});\n",
              "      } catch (error) {\n",
              "        console.error('Error during call to suggestCharts:', error);\n",
              "      }\n",
              "      quickchartButtonEl.classList.remove('colab-df-spinner');\n",
              "      quickchartButtonEl.classList.add('colab-df-quickchart-complete');\n",
              "    }\n",
              "    (() => {\n",
              "      let quickchartButtonEl =\n",
              "        document.querySelector('#df-95ef6770-f0e6-4b0a-8654-b9db8afb24df button');\n",
              "      quickchartButtonEl.style.display =\n",
              "        google.colab.kernel.accessAllowed ? 'block' : 'none';\n",
              "    })();\n",
              "  </script>\n",
              "</div>\n",
              "\n",
              "    </div>\n",
              "  </div>\n"
            ],
            "application/vnd.google.colaboratory.intrinsic+json": {
              "type": "dataframe",
              "variable_name": "filled_grid_linear",
              "summary": "{\n  \"name\": \"filled_grid_linear\",\n  \"rows\": 168,\n  \"fields\": [\n    {\n      \"column\": \"day\",\n      \"properties\": {\n        \"dtype\": \"number\",\n        \"std\": 2,\n        \"min\": 1,\n        \"max\": 7,\n        \"num_unique_values\": 7,\n        \"samples\": [\n          1,\n          2,\n          6\n        ],\n        \"semantic_type\": \"\",\n        \"description\": \"\"\n      }\n    },\n    {\n      \"column\": \"hour\",\n      \"properties\": {\n        \"dtype\": \"number\",\n        \"std\": 6,\n        \"min\": 0,\n        \"max\": 23,\n        \"num_unique_values\": 24,\n        \"samples\": [\n          19,\n          17,\n          1\n        ],\n        \"semantic_type\": \"\",\n        \"description\": \"\"\n      }\n    },\n    {\n      \"column\": \"service_time\",\n      \"properties\": {\n        \"dtype\": \"number\",\n        \"std\": 15.572013830036063,\n        \"min\": -27.434023668466487,\n        \"max\": 45.70711569163814,\n        \"num_unique_values\": 102,\n        \"samples\": [\n          4.126693089490942,\n          1.1750048556991866,\n          8.362015107588377\n        ],\n        \"semantic_type\": \"\",\n        \"description\": \"\"\n      }\n    }\n  ]\n}"
            }
          },
          "metadata": {},
          "execution_count": 25
        }
      ],
      "source": [
        "# Fill the empty cells with the Linear Regression predictions\n",
        "empty_cells.loc[:, 'service_time'] = pred_mean_linear\n",
        "\n",
        "# Combine filled and empty cells\n",
        "filled_grid_linear = pd.concat([filled_cells, empty_cells], ignore_index=True)\n",
        "filled_grid_linear.head()"
      ]
    },
    {
      "cell_type": "markdown",
      "id": "fRkmafmcJVDR",
      "metadata": {
        "id": "fRkmafmcJVDR"
      },
      "source": [
        "**Gaussian process (GP)**"
      ]
    },
    {
      "cell_type": "markdown",
      "id": "_sSInLwYKUsS",
      "metadata": {
        "id": "_sSInLwYKUsS"
      },
      "source": [
        "According to the three-dimensional graph we made in part 2, section 1, it seems that the information can have certain fluctuations, so we chose the Matern32 kernel."
      ]
    },
    {
      "cell_type": "code",
      "execution_count": 26,
      "id": "Ka_BbA7tOEgp",
      "metadata": {
        "id": "Ka_BbA7tOEgp"
      },
      "outputs": [],
      "source": [
        "# Standardize the data\n",
        "scaler = StandardScaler()\n",
        "X_train_scaled = scaler.fit_transform(X_train)\n",
        "X_train_scaled = np.asarray(X_train_scaled)\n",
        "y_train = np.asarray(y_train)\n",
        "X_test_scaled = scaler.transform(X_test)\n",
        "X_test_scaled = np.asarray(X_test_scaled)"
      ]
    },
    {
      "cell_type": "code",
      "execution_count": 27,
      "id": "L3vk__DJQJtS",
      "metadata": {
        "colab": {
          "base_uri": "https://localhost:8080/",
          "height": 130
        },
        "id": "L3vk__DJQJtS",
        "outputId": "cc9efff1-ea15-4076-f9d8-4c6ab42be8a6"
      },
      "outputs": [
        {
          "output_type": "stream",
          "name": "stderr",
          "text": [
            "/usr/local/lib/python3.10/dist-packages/pymc/gp/gp.py:56: FutureWarning:\n",
            "\n",
            "The 'noise' parameter has been been changed to 'sigma' in order to standardize the GP API and will be deprecated in future releases.\n",
            "\n"
          ]
        },
        {
          "output_type": "display_data",
          "data": {
            "text/plain": [
              "<IPython.core.display.HTML object>"
            ],
            "text/html": [
              "\n",
              "<style>\n",
              "    /* Turns off some styling */\n",
              "    progress {\n",
              "        /* gets rid of default border in Firefox and Opera. */\n",
              "        border: none;\n",
              "        /* Needs to be in here for Safari polyfill so background images work as expected. */\n",
              "        background-size: auto;\n",
              "    }\n",
              "    progress:not([value]), progress:not([value])::-webkit-progress-bar {\n",
              "        background: repeating-linear-gradient(45deg, #7e7e7e, #7e7e7e 10px, #5c5c5c 10px, #5c5c5c 20px);\n",
              "    }\n",
              "    .progress-bar-interrupted, .progress-bar-interrupted::-webkit-progress-bar {\n",
              "        background: #F44336;\n",
              "    }\n",
              "</style>\n"
            ]
          },
          "metadata": {}
        },
        {
          "output_type": "display_data",
          "data": {
            "text/plain": [
              "<IPython.core.display.HTML object>"
            ],
            "text/html": [
              "\n",
              "    <div>\n",
              "      <progress value='2000' class='' max='2000' style='width:300px; height:20px; vertical-align: middle;'></progress>\n",
              "      100.00% [2000/2000 01:30&lt;00:00 Sampling chain 0, 0 divergences]\n",
              "    </div>\n",
              "    "
            ]
          },
          "metadata": {}
        },
        {
          "output_type": "display_data",
          "data": {
            "text/plain": [
              "<IPython.core.display.HTML object>"
            ],
            "text/html": [
              "\n",
              "<style>\n",
              "    /* Turns off some styling */\n",
              "    progress {\n",
              "        /* gets rid of default border in Firefox and Opera. */\n",
              "        border: none;\n",
              "        /* Needs to be in here for Safari polyfill so background images work as expected. */\n",
              "        background-size: auto;\n",
              "    }\n",
              "    progress:not([value]), progress:not([value])::-webkit-progress-bar {\n",
              "        background: repeating-linear-gradient(45deg, #7e7e7e, #7e7e7e 10px, #5c5c5c 10px, #5c5c5c 20px);\n",
              "    }\n",
              "    .progress-bar-interrupted, .progress-bar-interrupted::-webkit-progress-bar {\n",
              "        background: #F44336;\n",
              "    }\n",
              "</style>\n"
            ]
          },
          "metadata": {}
        },
        {
          "output_type": "display_data",
          "data": {
            "text/plain": [
              "<IPython.core.display.HTML object>"
            ],
            "text/html": [
              "\n",
              "    <div>\n",
              "      <progress value='2000' class='' max='2000' style='width:300px; height:20px; vertical-align: middle;'></progress>\n",
              "      100.00% [2000/2000 01:18&lt;00:00 Sampling chain 1, 0 divergences]\n",
              "    </div>\n",
              "    "
            ]
          },
          "metadata": {}
        }
      ],
      "source": [
        "with pm.Model() as gp_model:\n",
        "\n",
        "    ## Defining the priors\n",
        "    l = pm.HalfCauchy(\"l\", beta=3, shape=(2,))\n",
        "    sf2 = pm.HalfCauchy(\"sf2\", beta=3)\n",
        "\n",
        "    ## 6. Defining the kernel\n",
        "    kenral_option = 2 # The information can have certain fluctuations\n",
        "    # option 1: expquad\n",
        "    if kenral_option == 1:\n",
        "      K = pm.gp.cov.ExpQuad(2, l) * sf2**2\n",
        "    elif kenral_option == 2:\n",
        "      # option 2: Matern32\n",
        "      K = pm.gp.cov.Matern32(2, l) * sf2**2\n",
        "    elif kenral_option == 3:\n",
        "      # option 3: Matern 52\n",
        "      K = pm.gp.cov.Matern52(2, l) * sf2**2\n",
        "\n",
        "    # 5. Mean functions\n",
        "    mean_func = pm.gp.mean.Linear(coeffs=[1, 1])\n",
        "\n",
        "    ## 4. Defining the GP process\n",
        "    gp_priors = pm.gp.Marginal(mean_func=mean_func, cov_func=K)\n",
        "\n",
        "    ## 3. Prior of the noise\n",
        "    sigma = pm.HalfCauchy('sigma', beta=5)\n",
        "\n",
        "    ## 2. Defining the likelihood\n",
        "    y_obs = gp_priors.marginal_likelihood('y_obs', X=X_train_scaled, y=y_train, noise=sigma)\n",
        "\n",
        "    ## 1. sampling mcmc\n",
        "    trace_gp = pm.sample(1000, tune=1000, chains=2, cores=1)"
      ]
    },
    {
      "cell_type": "code",
      "execution_count": 28,
      "id": "Pj9FE8XgjTKU",
      "metadata": {
        "colab": {
          "base_uri": "https://localhost:8080/",
          "height": 368
        },
        "id": "Pj9FE8XgjTKU",
        "outputId": "a734cc62-90c4-4629-af66-73399a9fdfe9"
      },
      "outputs": [
        {
          "output_type": "execute_result",
          "data": {
            "image/svg+xml": "<?xml version=\"1.0\" encoding=\"UTF-8\" standalone=\"no\"?>\n<!DOCTYPE svg PUBLIC \"-//W3C//DTD SVG 1.1//EN\"\n \"http://www.w3.org/Graphics/SVG/1.1/DTD/svg11.dtd\">\n<!-- Generated by graphviz version 2.43.0 (0)\n -->\n<!-- Title: %3 Pages: 1 -->\n<svg width=\"408pt\" height=\"260pt\"\n viewBox=\"0.00 0.00 407.98 259.91\" xmlns=\"http://www.w3.org/2000/svg\" xmlns:xlink=\"http://www.w3.org/1999/xlink\">\n<g id=\"graph0\" class=\"graph\" transform=\"scale(1 1) rotate(0) translate(4 255.91)\">\n<title>%3</title>\n<polygon fill=\"white\" stroke=\"transparent\" points=\"-4,4 -4,-255.91 403.98,-255.91 403.98,4 -4,4\"/>\n<g id=\"clust1\" class=\"cluster\">\n<title>cluster2</title>\n<path fill=\"none\" stroke=\"black\" d=\"M20,-129.95C20,-129.95 128,-129.95 128,-129.95 134,-129.95 140,-135.95 140,-141.95 140,-141.95 140,-231.91 140,-231.91 140,-237.91 134,-243.91 128,-243.91 128,-243.91 20,-243.91 20,-243.91 14,-243.91 8,-237.91 8,-231.91 8,-231.91 8,-141.95 8,-141.95 8,-135.95 14,-129.95 20,-129.95\"/>\n<text text-anchor=\"middle\" x=\"128.5\" y=\"-137.75\" font-family=\"Times,serif\" font-size=\"14.00\">2</text>\n</g>\n<g id=\"clust2\" class=\"cluster\">\n<title>cluster78</title>\n<path fill=\"none\" stroke=\"black\" d=\"M157,-8C157,-8 259,-8 259,-8 265,-8 271,-14 271,-20 271,-20 271,-109.95 271,-109.95 271,-115.95 265,-121.95 259,-121.95 259,-121.95 157,-121.95 157,-121.95 151,-121.95 145,-115.95 145,-109.95 145,-109.95 145,-20 145,-20 145,-14 151,-8 157,-8\"/>\n<text text-anchor=\"middle\" x=\"256\" y=\"-15.8\" font-family=\"Times,serif\" font-size=\"14.00\">78</text>\n</g>\n<!-- l -->\n<g id=\"node1\" class=\"node\">\n<title>l</title>\n<ellipse fill=\"none\" stroke=\"black\" cx=\"74\" cy=\"-198.43\" rx=\"57.97\" ry=\"37.45\"/>\n<text text-anchor=\"middle\" x=\"74\" y=\"-209.73\" font-family=\"Times,serif\" font-size=\"14.00\">l</text>\n<text text-anchor=\"middle\" x=\"74\" y=\"-194.73\" font-family=\"Times,serif\" font-size=\"14.00\">~</text>\n<text text-anchor=\"middle\" x=\"74\" y=\"-179.73\" font-family=\"Times,serif\" font-size=\"14.00\">HalfCauchy</text>\n</g>\n<!-- y_obs -->\n<g id=\"node4\" class=\"node\">\n<title>y_obs</title>\n<ellipse fill=\"lightgrey\" stroke=\"black\" cx=\"208\" cy=\"-76.48\" rx=\"55.31\" ry=\"37.45\"/>\n<text text-anchor=\"middle\" x=\"208\" y=\"-87.78\" font-family=\"Times,serif\" font-size=\"14.00\">y_obs</text>\n<text text-anchor=\"middle\" x=\"208\" y=\"-72.78\" font-family=\"Times,serif\" font-size=\"14.00\">~</text>\n<text text-anchor=\"middle\" x=\"208\" y=\"-57.78\" font-family=\"Times,serif\" font-size=\"14.00\">MvNormal</text>\n</g>\n<!-- l&#45;&gt;y_obs -->\n<g id=\"edge3\" class=\"edge\">\n<title>l&#45;&gt;y_obs</title>\n<path fill=\"none\" stroke=\"black\" d=\"M103.57,-166.04C114.96,-154.38 128.29,-141.25 141,-129.95 148.06,-123.68 155.76,-117.27 163.36,-111.18\"/>\n<polygon fill=\"black\" stroke=\"black\" points=\"165.85,-113.68 171.52,-104.72 161.5,-108.19 165.85,-113.68\"/>\n</g>\n<!-- sf2 -->\n<g id=\"node2\" class=\"node\">\n<title>sf2</title>\n<ellipse fill=\"none\" stroke=\"black\" cx=\"208\" cy=\"-198.43\" rx=\"57.97\" ry=\"37.45\"/>\n<text text-anchor=\"middle\" x=\"208\" y=\"-209.73\" font-family=\"Times,serif\" font-size=\"14.00\">sf2</text>\n<text text-anchor=\"middle\" x=\"208\" y=\"-194.73\" font-family=\"Times,serif\" font-size=\"14.00\">~</text>\n<text text-anchor=\"middle\" x=\"208\" y=\"-179.73\" font-family=\"Times,serif\" font-size=\"14.00\">HalfCauchy</text>\n</g>\n<!-- sf2&#45;&gt;y_obs -->\n<g id=\"edge1\" class=\"edge\">\n<title>sf2&#45;&gt;y_obs</title>\n<path fill=\"none\" stroke=\"black\" d=\"M208,-160.79C208,-149.38 208,-136.65 208,-124.63\"/>\n<polygon fill=\"black\" stroke=\"black\" points=\"211.5,-124.31 208,-114.31 204.5,-124.31 211.5,-124.31\"/>\n</g>\n<!-- sigma -->\n<g id=\"node3\" class=\"node\">\n<title>sigma</title>\n<ellipse fill=\"none\" stroke=\"black\" cx=\"342\" cy=\"-198.43\" rx=\"57.97\" ry=\"37.45\"/>\n<text text-anchor=\"middle\" x=\"342\" y=\"-209.73\" font-family=\"Times,serif\" font-size=\"14.00\">sigma</text>\n<text text-anchor=\"middle\" x=\"342\" y=\"-194.73\" font-family=\"Times,serif\" font-size=\"14.00\">~</text>\n<text text-anchor=\"middle\" x=\"342\" y=\"-179.73\" font-family=\"Times,serif\" font-size=\"14.00\">HalfCauchy</text>\n</g>\n<!-- sigma&#45;&gt;y_obs -->\n<g id=\"edge2\" class=\"edge\">\n<title>sigma&#45;&gt;y_obs</title>\n<path fill=\"none\" stroke=\"black\" d=\"M312.43,-166.04C301.04,-154.38 287.71,-141.25 275,-129.95 267.94,-123.68 260.24,-117.27 252.64,-111.18\"/>\n<polygon fill=\"black\" stroke=\"black\" points=\"254.5,-108.19 244.48,-104.72 250.15,-113.68 254.5,-108.19\"/>\n</g>\n</g>\n</svg>\n",
            "text/plain": [
              "<graphviz.graphs.Digraph at 0x7dabc5595000>"
            ]
          },
          "metadata": {},
          "execution_count": 28
        }
      ],
      "source": [
        "pm.model_to_graphviz(gp_model)"
      ]
    },
    {
      "cell_type": "code",
      "execution_count": 29,
      "id": "UWvApAM43QE9",
      "metadata": {
        "colab": {
          "base_uri": "https://localhost:8080/",
          "height": 37
        },
        "id": "UWvApAM43QE9",
        "outputId": "75ff87d0-430d-47ff-f326-73698d396533"
      },
      "outputs": [
        {
          "output_type": "display_data",
          "data": {
            "text/plain": [
              "<IPython.core.display.HTML object>"
            ],
            "text/html": [
              "\n",
              "<style>\n",
              "    /* Turns off some styling */\n",
              "    progress {\n",
              "        /* gets rid of default border in Firefox and Opera. */\n",
              "        border: none;\n",
              "        /* Needs to be in here for Safari polyfill so background images work as expected. */\n",
              "        background-size: auto;\n",
              "    }\n",
              "    progress:not([value]), progress:not([value])::-webkit-progress-bar {\n",
              "        background: repeating-linear-gradient(45deg, #7e7e7e, #7e7e7e 10px, #5c5c5c 10px, #5c5c5c 20px);\n",
              "    }\n",
              "    .progress-bar-interrupted, .progress-bar-interrupted::-webkit-progress-bar {\n",
              "        background: #F44336;\n",
              "    }\n",
              "</style>\n"
            ]
          },
          "metadata": {}
        },
        {
          "output_type": "display_data",
          "data": {
            "text/plain": [
              "<IPython.core.display.HTML object>"
            ],
            "text/html": [
              "\n",
              "    <div>\n",
              "      <progress value='2000' class='' max='2000' style='width:300px; height:20px; vertical-align: middle;'></progress>\n",
              "      100.00% [2000/2000 00:32&lt;00:00]\n",
              "    </div>\n",
              "    "
            ]
          },
          "metadata": {}
        }
      ],
      "source": [
        "# Posterior predictive check\n",
        "with gp_model:\n",
        "    f_pred = gp_priors.conditional('f_pred', X_test_scaled)\n",
        "    pred_samples = pm.sample_posterior_predictive(trace_gp, var_names=['f_pred'])"
      ]
    },
    {
      "cell_type": "code",
      "execution_count": 30,
      "id": "uEnmchbe30gP",
      "metadata": {
        "id": "uEnmchbe30gP"
      },
      "outputs": [],
      "source": [
        "# Extract the predictions\n",
        "pred_mean_gp = np.mean(pred_samples.posterior_predictive['f_pred'], axis=(0, 1))"
      ]
    },
    {
      "cell_type": "code",
      "execution_count": 31,
      "id": "VP8-4w9a48-F",
      "metadata": {
        "colab": {
          "base_uri": "https://localhost:8080/",
          "height": 206
        },
        "id": "VP8-4w9a48-F",
        "outputId": "d98db95e-c8e9-4b60-c290-9fe3e493b135"
      },
      "outputs": [
        {
          "output_type": "execute_result",
          "data": {
            "text/plain": [
              "     day  hour  service_time\n",
              "163    7    14      7.983439\n",
              "164    7    15      7.469534\n",
              "165    7    16      6.428806\n",
              "166    7    17      5.175490\n",
              "167    7    20      2.431501"
            ],
            "text/html": [
              "\n",
              "  <div id=\"df-84a75a27-ab2d-4342-a185-a6324c6c7123\" class=\"colab-df-container\">\n",
              "    <div>\n",
              "<style scoped>\n",
              "    .dataframe tbody tr th:only-of-type {\n",
              "        vertical-align: middle;\n",
              "    }\n",
              "\n",
              "    .dataframe tbody tr th {\n",
              "        vertical-align: top;\n",
              "    }\n",
              "\n",
              "    .dataframe thead th {\n",
              "        text-align: right;\n",
              "    }\n",
              "</style>\n",
              "<table border=\"1\" class=\"dataframe\">\n",
              "  <thead>\n",
              "    <tr style=\"text-align: right;\">\n",
              "      <th></th>\n",
              "      <th>day</th>\n",
              "      <th>hour</th>\n",
              "      <th>service_time</th>\n",
              "    </tr>\n",
              "  </thead>\n",
              "  <tbody>\n",
              "    <tr>\n",
              "      <th>163</th>\n",
              "      <td>7</td>\n",
              "      <td>14</td>\n",
              "      <td>7.983439</td>\n",
              "    </tr>\n",
              "    <tr>\n",
              "      <th>164</th>\n",
              "      <td>7</td>\n",
              "      <td>15</td>\n",
              "      <td>7.469534</td>\n",
              "    </tr>\n",
              "    <tr>\n",
              "      <th>165</th>\n",
              "      <td>7</td>\n",
              "      <td>16</td>\n",
              "      <td>6.428806</td>\n",
              "    </tr>\n",
              "    <tr>\n",
              "      <th>166</th>\n",
              "      <td>7</td>\n",
              "      <td>17</td>\n",
              "      <td>5.175490</td>\n",
              "    </tr>\n",
              "    <tr>\n",
              "      <th>167</th>\n",
              "      <td>7</td>\n",
              "      <td>20</td>\n",
              "      <td>2.431501</td>\n",
              "    </tr>\n",
              "  </tbody>\n",
              "</table>\n",
              "</div>\n",
              "    <div class=\"colab-df-buttons\">\n",
              "\n",
              "  <div class=\"colab-df-container\">\n",
              "    <button class=\"colab-df-convert\" onclick=\"convertToInteractive('df-84a75a27-ab2d-4342-a185-a6324c6c7123')\"\n",
              "            title=\"Convert this dataframe to an interactive table.\"\n",
              "            style=\"display:none;\">\n",
              "\n",
              "  <svg xmlns=\"http://www.w3.org/2000/svg\" height=\"24px\" viewBox=\"0 -960 960 960\">\n",
              "    <path d=\"M120-120v-720h720v720H120Zm60-500h600v-160H180v160Zm220 220h160v-160H400v160Zm0 220h160v-160H400v160ZM180-400h160v-160H180v160Zm440 0h160v-160H620v160ZM180-180h160v-160H180v160Zm440 0h160v-160H620v160Z\"/>\n",
              "  </svg>\n",
              "    </button>\n",
              "\n",
              "  <style>\n",
              "    .colab-df-container {\n",
              "      display:flex;\n",
              "      gap: 12px;\n",
              "    }\n",
              "\n",
              "    .colab-df-convert {\n",
              "      background-color: #E8F0FE;\n",
              "      border: none;\n",
              "      border-radius: 50%;\n",
              "      cursor: pointer;\n",
              "      display: none;\n",
              "      fill: #1967D2;\n",
              "      height: 32px;\n",
              "      padding: 0 0 0 0;\n",
              "      width: 32px;\n",
              "    }\n",
              "\n",
              "    .colab-df-convert:hover {\n",
              "      background-color: #E2EBFA;\n",
              "      box-shadow: 0px 1px 2px rgba(60, 64, 67, 0.3), 0px 1px 3px 1px rgba(60, 64, 67, 0.15);\n",
              "      fill: #174EA6;\n",
              "    }\n",
              "\n",
              "    .colab-df-buttons div {\n",
              "      margin-bottom: 4px;\n",
              "    }\n",
              "\n",
              "    [theme=dark] .colab-df-convert {\n",
              "      background-color: #3B4455;\n",
              "      fill: #D2E3FC;\n",
              "    }\n",
              "\n",
              "    [theme=dark] .colab-df-convert:hover {\n",
              "      background-color: #434B5C;\n",
              "      box-shadow: 0px 1px 3px 1px rgba(0, 0, 0, 0.15);\n",
              "      filter: drop-shadow(0px 1px 2px rgba(0, 0, 0, 0.3));\n",
              "      fill: #FFFFFF;\n",
              "    }\n",
              "  </style>\n",
              "\n",
              "    <script>\n",
              "      const buttonEl =\n",
              "        document.querySelector('#df-84a75a27-ab2d-4342-a185-a6324c6c7123 button.colab-df-convert');\n",
              "      buttonEl.style.display =\n",
              "        google.colab.kernel.accessAllowed ? 'block' : 'none';\n",
              "\n",
              "      async function convertToInteractive(key) {\n",
              "        const element = document.querySelector('#df-84a75a27-ab2d-4342-a185-a6324c6c7123');\n",
              "        const dataTable =\n",
              "          await google.colab.kernel.invokeFunction('convertToInteractive',\n",
              "                                                    [key], {});\n",
              "        if (!dataTable) return;\n",
              "\n",
              "        const docLinkHtml = 'Like what you see? Visit the ' +\n",
              "          '<a target=\"_blank\" href=https://colab.research.google.com/notebooks/data_table.ipynb>data table notebook</a>'\n",
              "          + ' to learn more about interactive tables.';\n",
              "        element.innerHTML = '';\n",
              "        dataTable['output_type'] = 'display_data';\n",
              "        await google.colab.output.renderOutput(dataTable, element);\n",
              "        const docLink = document.createElement('div');\n",
              "        docLink.innerHTML = docLinkHtml;\n",
              "        element.appendChild(docLink);\n",
              "      }\n",
              "    </script>\n",
              "  </div>\n",
              "\n",
              "\n",
              "<div id=\"df-d727149f-70fc-4d72-ade0-370b0a334366\">\n",
              "  <button class=\"colab-df-quickchart\" onclick=\"quickchart('df-d727149f-70fc-4d72-ade0-370b0a334366')\"\n",
              "            title=\"Suggest charts\"\n",
              "            style=\"display:none;\">\n",
              "\n",
              "<svg xmlns=\"http://www.w3.org/2000/svg\" height=\"24px\"viewBox=\"0 0 24 24\"\n",
              "     width=\"24px\">\n",
              "    <g>\n",
              "        <path d=\"M19 3H5c-1.1 0-2 .9-2 2v14c0 1.1.9 2 2 2h14c1.1 0 2-.9 2-2V5c0-1.1-.9-2-2-2zM9 17H7v-7h2v7zm4 0h-2V7h2v10zm4 0h-2v-4h2v4z\"/>\n",
              "    </g>\n",
              "</svg>\n",
              "  </button>\n",
              "\n",
              "<style>\n",
              "  .colab-df-quickchart {\n",
              "      --bg-color: #E8F0FE;\n",
              "      --fill-color: #1967D2;\n",
              "      --hover-bg-color: #E2EBFA;\n",
              "      --hover-fill-color: #174EA6;\n",
              "      --disabled-fill-color: #AAA;\n",
              "      --disabled-bg-color: #DDD;\n",
              "  }\n",
              "\n",
              "  [theme=dark] .colab-df-quickchart {\n",
              "      --bg-color: #3B4455;\n",
              "      --fill-color: #D2E3FC;\n",
              "      --hover-bg-color: #434B5C;\n",
              "      --hover-fill-color: #FFFFFF;\n",
              "      --disabled-bg-color: #3B4455;\n",
              "      --disabled-fill-color: #666;\n",
              "  }\n",
              "\n",
              "  .colab-df-quickchart {\n",
              "    background-color: var(--bg-color);\n",
              "    border: none;\n",
              "    border-radius: 50%;\n",
              "    cursor: pointer;\n",
              "    display: none;\n",
              "    fill: var(--fill-color);\n",
              "    height: 32px;\n",
              "    padding: 0;\n",
              "    width: 32px;\n",
              "  }\n",
              "\n",
              "  .colab-df-quickchart:hover {\n",
              "    background-color: var(--hover-bg-color);\n",
              "    box-shadow: 0 1px 2px rgba(60, 64, 67, 0.3), 0 1px 3px 1px rgba(60, 64, 67, 0.15);\n",
              "    fill: var(--button-hover-fill-color);\n",
              "  }\n",
              "\n",
              "  .colab-df-quickchart-complete:disabled,\n",
              "  .colab-df-quickchart-complete:disabled:hover {\n",
              "    background-color: var(--disabled-bg-color);\n",
              "    fill: var(--disabled-fill-color);\n",
              "    box-shadow: none;\n",
              "  }\n",
              "\n",
              "  .colab-df-spinner {\n",
              "    border: 2px solid var(--fill-color);\n",
              "    border-color: transparent;\n",
              "    border-bottom-color: var(--fill-color);\n",
              "    animation:\n",
              "      spin 1s steps(1) infinite;\n",
              "  }\n",
              "\n",
              "  @keyframes spin {\n",
              "    0% {\n",
              "      border-color: transparent;\n",
              "      border-bottom-color: var(--fill-color);\n",
              "      border-left-color: var(--fill-color);\n",
              "    }\n",
              "    20% {\n",
              "      border-color: transparent;\n",
              "      border-left-color: var(--fill-color);\n",
              "      border-top-color: var(--fill-color);\n",
              "    }\n",
              "    30% {\n",
              "      border-color: transparent;\n",
              "      border-left-color: var(--fill-color);\n",
              "      border-top-color: var(--fill-color);\n",
              "      border-right-color: var(--fill-color);\n",
              "    }\n",
              "    40% {\n",
              "      border-color: transparent;\n",
              "      border-right-color: var(--fill-color);\n",
              "      border-top-color: var(--fill-color);\n",
              "    }\n",
              "    60% {\n",
              "      border-color: transparent;\n",
              "      border-right-color: var(--fill-color);\n",
              "    }\n",
              "    80% {\n",
              "      border-color: transparent;\n",
              "      border-right-color: var(--fill-color);\n",
              "      border-bottom-color: var(--fill-color);\n",
              "    }\n",
              "    90% {\n",
              "      border-color: transparent;\n",
              "      border-bottom-color: var(--fill-color);\n",
              "    }\n",
              "  }\n",
              "</style>\n",
              "\n",
              "  <script>\n",
              "    async function quickchart(key) {\n",
              "      const quickchartButtonEl =\n",
              "        document.querySelector('#' + key + ' button');\n",
              "      quickchartButtonEl.disabled = true;  // To prevent multiple clicks.\n",
              "      quickchartButtonEl.classList.add('colab-df-spinner');\n",
              "      try {\n",
              "        const charts = await google.colab.kernel.invokeFunction(\n",
              "            'suggestCharts', [key], {});\n",
              "      } catch (error) {\n",
              "        console.error('Error during call to suggestCharts:', error);\n",
              "      }\n",
              "      quickchartButtonEl.classList.remove('colab-df-spinner');\n",
              "      quickchartButtonEl.classList.add('colab-df-quickchart-complete');\n",
              "    }\n",
              "    (() => {\n",
              "      let quickchartButtonEl =\n",
              "        document.querySelector('#df-d727149f-70fc-4d72-ade0-370b0a334366 button');\n",
              "      quickchartButtonEl.style.display =\n",
              "        google.colab.kernel.accessAllowed ? 'block' : 'none';\n",
              "    })();\n",
              "  </script>\n",
              "</div>\n",
              "\n",
              "    </div>\n",
              "  </div>\n"
            ],
            "application/vnd.google.colaboratory.intrinsic+json": {
              "type": "dataframe",
              "summary": "{\n  \"name\": \"filled_grid_gp\",\n  \"rows\": 5,\n  \"fields\": [\n    {\n      \"column\": \"day\",\n      \"properties\": {\n        \"dtype\": \"number\",\n        \"std\": 0,\n        \"min\": 7,\n        \"max\": 7,\n        \"num_unique_values\": 1,\n        \"samples\": [\n          7\n        ],\n        \"semantic_type\": \"\",\n        \"description\": \"\"\n      }\n    },\n    {\n      \"column\": \"hour\",\n      \"properties\": {\n        \"dtype\": \"number\",\n        \"std\": 2,\n        \"min\": 14,\n        \"max\": 20,\n        \"num_unique_values\": 5,\n        \"samples\": [\n          15\n        ],\n        \"semantic_type\": \"\",\n        \"description\": \"\"\n      }\n    },\n    {\n      \"column\": \"service_time\",\n      \"properties\": {\n        \"dtype\": \"number\",\n        \"std\": 2.215804940162098,\n        \"min\": 2.43150086762176,\n        \"max\": 7.98343873225976,\n        \"num_unique_values\": 5,\n        \"samples\": [\n          7.469534379424041\n        ],\n        \"semantic_type\": \"\",\n        \"description\": \"\"\n      }\n    }\n  ]\n}"
            }
          },
          "metadata": {},
          "execution_count": 31
        }
      ],
      "source": [
        "# Fill the empty cells with the GP predictions\n",
        "empty_cells.loc[:, 'service_time'] = pred_mean_gp\n",
        "\n",
        "# Combine filled and empty cells\n",
        "filled_grid_gp = pd.concat([filled_cells, empty_cells], ignore_index=True)\n",
        "\n",
        "filled_grid_gp.tail()"
      ]
    },
    {
      "cell_type": "markdown",
      "id": "vBoQfZ2_JrtW",
      "metadata": {
        "id": "vBoQfZ2_JrtW"
      },
      "source": [
        "**3. A 3D plot which contains the data, and the surface of the two regression methods:**"
      ]
    },
    {
      "cell_type": "code",
      "execution_count": 32,
      "id": "RLcYkkxr_Mqu",
      "metadata": {
        "colab": {
          "base_uri": "https://localhost:8080/",
          "height": 772
        },
        "id": "RLcYkkxr_Mqu",
        "outputId": "1cf24bcf-a535-45f0-a5eb-e92eb9524629"
      },
      "outputs": [
        {
          "output_type": "stream",
          "name": "stdout",
          "text": [
            "filled_grid_linear_np shape before reshape: (168,)\n",
            "filled_grid_gp_np shape before reshape: (168,)\n",
            "Expected size: 168\n"
          ]
        },
        {
          "output_type": "display_data",
          "data": {
            "text/html": [
              "<html>\n",
              "<head><meta charset=\"utf-8\" /></head>\n",
              "<body>\n",
              "    <div>            <script src=\"https://cdnjs.cloudflare.com/ajax/libs/mathjax/2.7.5/MathJax.js?config=TeX-AMS-MML_SVG\"></script><script type=\"text/javascript\">if (window.MathJax && window.MathJax.Hub && window.MathJax.Hub.Config) {window.MathJax.Hub.Config({SVG: {font: \"STIX-Web\"}});}</script>                <script type=\"text/javascript\">window.PlotlyConfig = {MathJaxConfig: 'local'};</script>\n",
              "        <script charset=\"utf-8\" src=\"https://cdn.plot.ly/plotly-2.24.1.min.js\"></script>                <div id=\"bdc6c025-caa9-4918-b3f1-7c12bb9d0388\" class=\"plotly-graph-div\" style=\"height:700px; width:700px;\"></div>            <script type=\"text/javascript\">                                    window.PLOTLYENV=window.PLOTLYENV || {};                                    if (document.getElementById(\"bdc6c025-caa9-4918-b3f1-7c12bb9d0388\")) {                    Plotly.newPlot(                        \"bdc6c025-caa9-4918-b3f1-7c12bb9d0388\",                        [{\"marker\":{\"color\":[1.2931414616128933,1.7293588310043686,2.06378994530065,2.9824836258965073,5.5949430818868375,7.481522019165344,8.313547277306597,5.314107783986937,3.1811709143763007,2.6866890696524224,2.8610769071963977,2.2040050095698915,2.125572104800463,1.1815532636610442,1.3072830206543293,1.6044386410684988,2.784073846179616,3.4769213290538254,5.23471424566046,6.823776520585385,8.119235838320629,8.45535068236714,5.820205203321632,4.767467367072306,2.5361779077123114,2.155502504968767,1.2631159042993132,2.0786629743364395,7.824213499132631,9.33376558482873,4.126693089490942,2.8469821643759947,2.3768233149467846,2.3111956074514115,1.928583579482913,1.806474569156254,5.365500933215035,6.6242651096235505,7.6141737864706265,7.379681550658398,2.073204532209505,1.3734558201535476,1.925818938728026,2.122537927762224,6.292856057967803,8.689039032007432,7.719209367490088,5.530410122088102,3.7302332866999963,2.7404249159420733,2.128549832735189,2.0066990073720956,1.1142600560244893,1.194473741762996,1.3152273653978952,1.909138797106692,2.1130722065337024,2.672226481393431,3.289070448690267,3.9332062043997693,5.666725784521351,7.92472719057149,8.362015107588377,6.556049895477137,2.014528988125074,1.7687871794418983,0.9311666131575799,1.1750048556991866,1.5061027602561863,2.640497543885382,3.2454694165175573,6.813834335256668,7.833408009054125,4.045558739234979,3.0460126903969984,1.9888185217842151,1.673081460937455,1.349323700688279],\"colorscale\":[[0.0,\"#440154\"],[0.1111111111111111,\"#482878\"],[0.2222222222222222,\"#3e4989\"],[0.3333333333333333,\"#31688e\"],[0.4444444444444444,\"#26828e\"],[0.5555555555555556,\"#1f9e89\"],[0.6666666666666666,\"#35b779\"],[0.7777777777777778,\"#6ece58\"],[0.8888888888888888,\"#b5de2b\"],[1.0,\"#fde725\"]],\"opacity\":0.8,\"size\":5},\"mode\":\"markers\",\"name\":\"Data Points\",\"x\":[1,3,4,7,10,11,12,18,19,20,21,22,23,0,1,3,7,8,10,11,12,15,17,18,21,23,0,6,12,13,18,20,21,22,23,4,10,11,12,13,22,3,5,6,11,14,15,17,18,20,21,22,0,2,3,6,7,8,9,10,11,13,14,16,21,23,0,2,4,8,9,12,13,18,19,21,22,23],\"y\":[1,1,1,1,1,1,1,1,1,1,1,1,1,2,2,2,2,2,2,2,2,2,2,2,2,2,3,3,3,3,3,3,3,3,3,4,4,4,4,4,4,5,5,5,5,5,5,5,5,5,5,5,6,6,6,6,6,6,6,6,6,6,6,6,6,6,7,7,7,7,7,7,7,7,7,7,7,7],\"z\":[1.2931414616128933,1.7293588310043686,2.06378994530065,2.9824836258965073,5.5949430818868375,7.481522019165344,8.313547277306597,5.314107783986937,3.1811709143763007,2.6866890696524224,2.8610769071963977,2.2040050095698915,2.125572104800463,1.1815532636610442,1.3072830206543293,1.6044386410684988,2.784073846179616,3.4769213290538254,5.23471424566046,6.823776520585385,8.119235838320629,8.45535068236714,5.820205203321632,4.767467367072306,2.5361779077123114,2.155502504968767,1.2631159042993132,2.0786629743364395,7.824213499132631,9.33376558482873,4.126693089490942,2.8469821643759947,2.3768233149467846,2.3111956074514115,1.928583579482913,1.806474569156254,5.365500933215035,6.6242651096235505,7.6141737864706265,7.379681550658398,2.073204532209505,1.3734558201535476,1.925818938728026,2.122537927762224,6.292856057967803,8.689039032007432,7.719209367490088,5.530410122088102,3.7302332866999963,2.7404249159420733,2.128549832735189,2.0066990073720956,1.1142600560244893,1.194473741762996,1.3152273653978952,1.909138797106692,2.1130722065337024,2.672226481393431,3.289070448690267,3.9332062043997693,5.666725784521351,7.92472719057149,8.362015107588377,6.556049895477137,2.014528988125074,1.7687871794418983,0.9311666131575799,1.1750048556991866,1.5061027602561863,2.640497543885382,3.2454694165175573,6.813834335256668,7.833408009054125,4.045558739234979,3.0460126903969984,1.9888185217842151,1.673081460937455,1.349323700688279],\"type\":\"scatter3d\"},{\"colorscale\":[[0.0,\"#440154\"],[0.1111111111111111,\"#482878\"],[0.2222222222222222,\"#3e4989\"],[0.3333333333333333,\"#31688e\"],[0.4444444444444444,\"#26828e\"],[0.5555555555555556,\"#1f9e89\"],[0.6666666666666666,\"#35b779\"],[0.7777777777777778,\"#6ece58\"],[0.8888888888888888,\"#b5de2b\"],[1.0,\"#fde725\"]],\"name\":\"Linear Regression Surface\",\"opacity\":0.7,\"x\":[[0,1,2,3,4,5,6,7,8,9,10,11,12,13,14,15,16,17,18,19,20,21,22,23],[0,1,2,3,4,5,6,7,8,9,10,11,12,13,14,15,16,17,18,19,20,21,22,23],[0,1,2,3,4,5,6,7,8,9,10,11,12,13,14,15,16,17,18,19,20,21,22,23],[0,1,2,3,4,5,6,7,8,9,10,11,12,13,14,15,16,17,18,19,20,21,22,23],[0,1,2,3,4,5,6,7,8,9,10,11,12,13,14,15,16,17,18,19,20,21,22,23],[0,1,2,3,4,5,6,7,8,9,10,11,12,13,14,15,16,17,18,19,20,21,22,23],[0,1,2,3,4,5,6,7,8,9,10,11,12,13,14,15,16,17,18,19,20,21,22,23]],\"y\":[[1,1,1,1,1,1,1,1,1,1,1,1,1,1,1,1,1,1,1,1,1,1,1,1],[2,2,2,2,2,2,2,2,2,2,2,2,2,2,2,2,2,2,2,2,2,2,2,2],[3,3,3,3,3,3,3,3,3,3,3,3,3,3,3,3,3,3,3,3,3,3,3,3],[4,4,4,4,4,4,4,4,4,4,4,4,4,4,4,4,4,4,4,4,4,4,4,4],[5,5,5,5,5,5,5,5,5,5,5,5,5,5,5,5,5,5,5,5,5,5,5,5],[6,6,6,6,6,6,6,6,6,6,6,6,6,6,6,6,6,6,6,6,6,6,6,6],[7,7,7,7,7,7,7,7,7,7,7,7,7,7,7,7,7,7,7,7,7,7,7,7]],\"z\":[[1.2931414616128933,1.7293588310043686,2.06378994530065,2.9824836258965073,5.5949430818868375,7.481522019165344,8.313547277306597,5.314107783986937,3.1811709143763007,2.6866890696524224,2.8610769071963977,2.2040050095698915,2.125572104800463,1.1815532636610442,1.3072830206543293,1.6044386410684988,2.784073846179616,3.4769213290538254,5.23471424566046,6.823776520585385,8.119235838320629,8.45535068236714,5.820205203321632,4.767467367072306],[2.5361779077123114,2.155502504968767,1.2631159042993132,2.0786629743364395,7.824213499132631,9.33376558482873,4.126693089490942,2.8469821643759947,2.3768233149467846,2.3111956074514115,1.928583579482913,1.806474569156254,5.365500933215035,6.6242651096235505,7.6141737864706265,7.379681550658398,2.073204532209505,1.3734558201535476,1.925818938728026,2.122537927762224,6.292856057967803,8.689039032007432,7.719209367490088,5.530410122088102],[3.7302332866999963,2.7404249159420733,2.128549832735189,2.0066990073720956,1.1142600560244893,1.194473741762996,1.3152273653978952,1.909138797106692,2.1130722065337024,2.672226481393431,3.289070448690267,3.9332062043997693,5.666725784521351,7.92472719057149,8.362015107588377,6.556049895477137,2.014528988125074,1.7687871794418983,0.9311666131575799,1.1750048556991866,1.5061027602561863,2.640497543885382,3.2454694165175573,6.813834335256668],[7.833408009054125,4.045558739234979,3.0460126903969984,1.9888185217842151,1.673081460937455,1.349323700688279,-27.434023668466487,-21.073924593674782,-11.533775981487217,-8.353726444091368,-1.9936273692996593,1.1864221680961942,13.906620317679605,17.08666985507546,20.266719392471316,23.44676892986717,26.626818467263014,-21.073924593674782,-14.713825518883075,-11.533775981487217,-8.353726444091368,1.1864221680961942,13.906620317679605,17.08666985507546],[23.44676892986717,32.98691754205473,36.166967079450586,42.52706615424229,-24.253974131070628,-21.073924593674782,-17.893875056278922,-14.713825518883075,-11.533775981487217,-5.173676906695514,-1.9936273692996593,1.1864221680961942,4.366471705492048,7.546521242887899,17.08666985507546,20.266719392471316,23.44676892986717,26.626818467263014,32.98691754205473,-27.434023668466487,-24.253974131070628,-21.073924593674782,-17.893875056278922,-11.533775981487217],[-8.353726444091368,-5.173676906695514,-1.9936273692996593,1.1864221680961942,17.08666985507546,20.266719392471316,23.44676892986717,26.626818467263014,29.806868004658874,32.98691754205473,36.166967079450586,39.347016616846425,45.70711569163814,-27.434023668466487,-24.253974131070628,-21.073924593674782,-14.713825518883075,-5.173676906695514,-1.9936273692996593,1.1864221680961942,4.366471705492048,10.726570780283755,13.906620317679605,23.44676892986717],[32.98691754205473,45.70711569163814,-24.253974131070628,-14.713825518883075,-11.533775981487217,10.726570780283755,20.266719392471316,26.626818467263014,29.806868004658874,32.98691754205473,36.166967079450586,42.52706615424229,-24.253974131070628,-17.893875056278922,-11.533775981487217,-8.353726444091368,-5.173676906695514,4.366471705492048,7.546521242887899,17.08666985507546,20.266719392471316,23.44676892986717,26.626818467263014,36.166967079450586]],\"type\":\"surface\"},{\"colorscale\":[[0.0,\"#0d0887\"],[0.1111111111111111,\"#46039f\"],[0.2222222222222222,\"#7201a8\"],[0.3333333333333333,\"#9c179e\"],[0.4444444444444444,\"#bd3786\"],[0.5555555555555556,\"#d8576b\"],[0.6666666666666666,\"#ed7953\"],[0.7777777777777778,\"#fb9f3a\"],[0.8888888888888888,\"#fdca26\"],[1.0,\"#f0f921\"]],\"name\":\"GP Regression Surface\",\"opacity\":0.7,\"x\":[[0,1,2,3,4,5,6,7,8,9,10,11,12,13,14,15,16,17,18,19,20,21,22,23],[0,1,2,3,4,5,6,7,8,9,10,11,12,13,14,15,16,17,18,19,20,21,22,23],[0,1,2,3,4,5,6,7,8,9,10,11,12,13,14,15,16,17,18,19,20,21,22,23],[0,1,2,3,4,5,6,7,8,9,10,11,12,13,14,15,16,17,18,19,20,21,22,23],[0,1,2,3,4,5,6,7,8,9,10,11,12,13,14,15,16,17,18,19,20,21,22,23],[0,1,2,3,4,5,6,7,8,9,10,11,12,13,14,15,16,17,18,19,20,21,22,23],[0,1,2,3,4,5,6,7,8,9,10,11,12,13,14,15,16,17,18,19,20,21,22,23]],\"y\":[[1,1,1,1,1,1,1,1,1,1,1,1,1,1,1,1,1,1,1,1,1,1,1,1],[2,2,2,2,2,2,2,2,2,2,2,2,2,2,2,2,2,2,2,2,2,2,2,2],[3,3,3,3,3,3,3,3,3,3,3,3,3,3,3,3,3,3,3,3,3,3,3,3],[4,4,4,4,4,4,4,4,4,4,4,4,4,4,4,4,4,4,4,4,4,4,4,4],[5,5,5,5,5,5,5,5,5,5,5,5,5,5,5,5,5,5,5,5,5,5,5,5],[6,6,6,6,6,6,6,6,6,6,6,6,6,6,6,6,6,6,6,6,6,6,6,6],[7,7,7,7,7,7,7,7,7,7,7,7,7,7,7,7,7,7,7,7,7,7,7,7]],\"z\":[[1.2931414616128933,1.7293588310043686,2.06378994530065,2.9824836258965073,5.5949430818868375,7.481522019165344,8.313547277306597,5.314107783986937,3.1811709143763007,2.6866890696524224,2.8610769071963977,2.2040050095698915,2.125572104800463,1.1815532636610442,1.3072830206543293,1.6044386410684988,2.784073846179616,3.4769213290538254,5.23471424566046,6.823776520585385,8.119235838320629,8.45535068236714,5.820205203321632,4.767467367072306],[2.5361779077123114,2.155502504968767,1.2631159042993132,2.0786629743364395,7.824213499132631,9.33376558482873,4.126693089490942,2.8469821643759947,2.3768233149467846,2.3111956074514115,1.928583579482913,1.806474569156254,5.365500933215035,6.6242651096235505,7.6141737864706265,7.379681550658398,2.073204532209505,1.3734558201535476,1.925818938728026,2.122537927762224,6.292856057967803,8.689039032007432,7.719209367490088,5.530410122088102],[3.7302332866999963,2.7404249159420733,2.128549832735189,2.0066990073720956,1.1142600560244893,1.194473741762996,1.3152273653978952,1.909138797106692,2.1130722065337024,2.672226481393431,3.289070448690267,3.9332062043997693,5.666725784521351,7.92472719057149,8.362015107588377,6.556049895477137,2.014528988125074,1.7687871794418983,0.9311666131575799,1.1750048556991866,1.5061027602561863,2.640497543885382,3.2454694165175573,6.813834335256668],[7.833408009054125,4.045558739234979,3.0460126903969984,1.9888185217842151,1.673081460937455,1.349323700688279,1.1930601163731365,1.4871074405760976,2.243688978666297,2.505918638239211,3.6264041212483784,4.510458371425356,9.05020504981487,9.14882338276822,8.560647732003783,7.473935780112841,6.163070066308608,1.4345373003167734,1.927817961709872,2.1389218528463307,2.364202768194119,4.282580825785115,8.873414258016327,9.00857896283974],[7.299357087038537,3.4246113446497364,2.797809475950384,2.2874350162412984,1.2642871707440535,1.3754563747313993,1.5714184131010802,1.8393712756388816,2.0401925856655643,2.6202462582528367,3.224675528898587,4.05250687524889,5.254213707299164,6.699396714716254,8.831505002619656,8.24245908970779,7.1129849138816414,5.744572872399604,3.3001494494757084,1.1522576447547919,1.2186816539684724,1.3144039671469379,1.4904380320709256,1.9498257931635268],[2.1283422981754243,2.4629621287027677,3.0271387402548378,3.8159483198236877,8.63588354101078,8.057418614343172,6.929351296328088,5.562606834180132,4.19842041987267,3.197243883763379,2.646733520561526,2.3093445568963653,1.8758917960572676,1.1112210326354655,1.1674267509143215,1.2538825289450817,1.661804495209124,2.31909152453845,2.8409462753175863,3.5790100540212544,4.693991707869281,7.319769266840639,8.125540548151742,6.752214167948853],[3.1197006890697705,1.7580717282496017,1.117096174072647,1.5776894230504233,1.768919632306404,7.04969730424831,7.671445763825827,5.28159319702165,3.989452346922456,3.0661607809265767,2.4964231112958157,1.8236144804379282,1.0713050793597854,1.2875391212904004,1.6794073930237088,1.8342027870781414,2.086588192620721,4.166817619457392,5.524038049146831,7.98343873225976,7.469534379424041,6.428806092356826,5.175490429449257,2.43150086762176]],\"type\":\"surface\"}],                        {\"template\":{\"data\":{\"histogram2dcontour\":[{\"type\":\"histogram2dcontour\",\"colorbar\":{\"outlinewidth\":0,\"ticks\":\"\"},\"colorscale\":[[0.0,\"#0d0887\"],[0.1111111111111111,\"#46039f\"],[0.2222222222222222,\"#7201a8\"],[0.3333333333333333,\"#9c179e\"],[0.4444444444444444,\"#bd3786\"],[0.5555555555555556,\"#d8576b\"],[0.6666666666666666,\"#ed7953\"],[0.7777777777777778,\"#fb9f3a\"],[0.8888888888888888,\"#fdca26\"],[1.0,\"#f0f921\"]]}],\"choropleth\":[{\"type\":\"choropleth\",\"colorbar\":{\"outlinewidth\":0,\"ticks\":\"\"}}],\"histogram2d\":[{\"type\":\"histogram2d\",\"colorbar\":{\"outlinewidth\":0,\"ticks\":\"\"},\"colorscale\":[[0.0,\"#0d0887\"],[0.1111111111111111,\"#46039f\"],[0.2222222222222222,\"#7201a8\"],[0.3333333333333333,\"#9c179e\"],[0.4444444444444444,\"#bd3786\"],[0.5555555555555556,\"#d8576b\"],[0.6666666666666666,\"#ed7953\"],[0.7777777777777778,\"#fb9f3a\"],[0.8888888888888888,\"#fdca26\"],[1.0,\"#f0f921\"]]}],\"heatmap\":[{\"type\":\"heatmap\",\"colorbar\":{\"outlinewidth\":0,\"ticks\":\"\"},\"colorscale\":[[0.0,\"#0d0887\"],[0.1111111111111111,\"#46039f\"],[0.2222222222222222,\"#7201a8\"],[0.3333333333333333,\"#9c179e\"],[0.4444444444444444,\"#bd3786\"],[0.5555555555555556,\"#d8576b\"],[0.6666666666666666,\"#ed7953\"],[0.7777777777777778,\"#fb9f3a\"],[0.8888888888888888,\"#fdca26\"],[1.0,\"#f0f921\"]]}],\"heatmapgl\":[{\"type\":\"heatmapgl\",\"colorbar\":{\"outlinewidth\":0,\"ticks\":\"\"},\"colorscale\":[[0.0,\"#0d0887\"],[0.1111111111111111,\"#46039f\"],[0.2222222222222222,\"#7201a8\"],[0.3333333333333333,\"#9c179e\"],[0.4444444444444444,\"#bd3786\"],[0.5555555555555556,\"#d8576b\"],[0.6666666666666666,\"#ed7953\"],[0.7777777777777778,\"#fb9f3a\"],[0.8888888888888888,\"#fdca26\"],[1.0,\"#f0f921\"]]}],\"contourcarpet\":[{\"type\":\"contourcarpet\",\"colorbar\":{\"outlinewidth\":0,\"ticks\":\"\"}}],\"contour\":[{\"type\":\"contour\",\"colorbar\":{\"outlinewidth\":0,\"ticks\":\"\"},\"colorscale\":[[0.0,\"#0d0887\"],[0.1111111111111111,\"#46039f\"],[0.2222222222222222,\"#7201a8\"],[0.3333333333333333,\"#9c179e\"],[0.4444444444444444,\"#bd3786\"],[0.5555555555555556,\"#d8576b\"],[0.6666666666666666,\"#ed7953\"],[0.7777777777777778,\"#fb9f3a\"],[0.8888888888888888,\"#fdca26\"],[1.0,\"#f0f921\"]]}],\"surface\":[{\"type\":\"surface\",\"colorbar\":{\"outlinewidth\":0,\"ticks\":\"\"},\"colorscale\":[[0.0,\"#0d0887\"],[0.1111111111111111,\"#46039f\"],[0.2222222222222222,\"#7201a8\"],[0.3333333333333333,\"#9c179e\"],[0.4444444444444444,\"#bd3786\"],[0.5555555555555556,\"#d8576b\"],[0.6666666666666666,\"#ed7953\"],[0.7777777777777778,\"#fb9f3a\"],[0.8888888888888888,\"#fdca26\"],[1.0,\"#f0f921\"]]}],\"mesh3d\":[{\"type\":\"mesh3d\",\"colorbar\":{\"outlinewidth\":0,\"ticks\":\"\"}}],\"scatter\":[{\"fillpattern\":{\"fillmode\":\"overlay\",\"size\":10,\"solidity\":0.2},\"type\":\"scatter\"}],\"parcoords\":[{\"type\":\"parcoords\",\"line\":{\"colorbar\":{\"outlinewidth\":0,\"ticks\":\"\"}}}],\"scatterpolargl\":[{\"type\":\"scatterpolargl\",\"marker\":{\"colorbar\":{\"outlinewidth\":0,\"ticks\":\"\"}}}],\"bar\":[{\"error_x\":{\"color\":\"#2a3f5f\"},\"error_y\":{\"color\":\"#2a3f5f\"},\"marker\":{\"line\":{\"color\":\"#E5ECF6\",\"width\":0.5},\"pattern\":{\"fillmode\":\"overlay\",\"size\":10,\"solidity\":0.2}},\"type\":\"bar\"}],\"scattergeo\":[{\"type\":\"scattergeo\",\"marker\":{\"colorbar\":{\"outlinewidth\":0,\"ticks\":\"\"}}}],\"scatterpolar\":[{\"type\":\"scatterpolar\",\"marker\":{\"colorbar\":{\"outlinewidth\":0,\"ticks\":\"\"}}}],\"histogram\":[{\"marker\":{\"pattern\":{\"fillmode\":\"overlay\",\"size\":10,\"solidity\":0.2}},\"type\":\"histogram\"}],\"scattergl\":[{\"type\":\"scattergl\",\"marker\":{\"colorbar\":{\"outlinewidth\":0,\"ticks\":\"\"}}}],\"scatter3d\":[{\"type\":\"scatter3d\",\"line\":{\"colorbar\":{\"outlinewidth\":0,\"ticks\":\"\"}},\"marker\":{\"colorbar\":{\"outlinewidth\":0,\"ticks\":\"\"}}}],\"scattermapbox\":[{\"type\":\"scattermapbox\",\"marker\":{\"colorbar\":{\"outlinewidth\":0,\"ticks\":\"\"}}}],\"scatterternary\":[{\"type\":\"scatterternary\",\"marker\":{\"colorbar\":{\"outlinewidth\":0,\"ticks\":\"\"}}}],\"scattercarpet\":[{\"type\":\"scattercarpet\",\"marker\":{\"colorbar\":{\"outlinewidth\":0,\"ticks\":\"\"}}}],\"carpet\":[{\"aaxis\":{\"endlinecolor\":\"#2a3f5f\",\"gridcolor\":\"white\",\"linecolor\":\"white\",\"minorgridcolor\":\"white\",\"startlinecolor\":\"#2a3f5f\"},\"baxis\":{\"endlinecolor\":\"#2a3f5f\",\"gridcolor\":\"white\",\"linecolor\":\"white\",\"minorgridcolor\":\"white\",\"startlinecolor\":\"#2a3f5f\"},\"type\":\"carpet\"}],\"table\":[{\"cells\":{\"fill\":{\"color\":\"#EBF0F8\"},\"line\":{\"color\":\"white\"}},\"header\":{\"fill\":{\"color\":\"#C8D4E3\"},\"line\":{\"color\":\"white\"}},\"type\":\"table\"}],\"barpolar\":[{\"marker\":{\"line\":{\"color\":\"#E5ECF6\",\"width\":0.5},\"pattern\":{\"fillmode\":\"overlay\",\"size\":10,\"solidity\":0.2}},\"type\":\"barpolar\"}],\"pie\":[{\"automargin\":true,\"type\":\"pie\"}]},\"layout\":{\"autotypenumbers\":\"strict\",\"colorway\":[\"#636efa\",\"#EF553B\",\"#00cc96\",\"#ab63fa\",\"#FFA15A\",\"#19d3f3\",\"#FF6692\",\"#B6E880\",\"#FF97FF\",\"#FECB52\"],\"font\":{\"color\":\"#2a3f5f\"},\"hovermode\":\"closest\",\"hoverlabel\":{\"align\":\"left\"},\"paper_bgcolor\":\"white\",\"plot_bgcolor\":\"#E5ECF6\",\"polar\":{\"bgcolor\":\"#E5ECF6\",\"angularaxis\":{\"gridcolor\":\"white\",\"linecolor\":\"white\",\"ticks\":\"\"},\"radialaxis\":{\"gridcolor\":\"white\",\"linecolor\":\"white\",\"ticks\":\"\"}},\"ternary\":{\"bgcolor\":\"#E5ECF6\",\"aaxis\":{\"gridcolor\":\"white\",\"linecolor\":\"white\",\"ticks\":\"\"},\"baxis\":{\"gridcolor\":\"white\",\"linecolor\":\"white\",\"ticks\":\"\"},\"caxis\":{\"gridcolor\":\"white\",\"linecolor\":\"white\",\"ticks\":\"\"}},\"coloraxis\":{\"colorbar\":{\"outlinewidth\":0,\"ticks\":\"\"}},\"colorscale\":{\"sequential\":[[0.0,\"#0d0887\"],[0.1111111111111111,\"#46039f\"],[0.2222222222222222,\"#7201a8\"],[0.3333333333333333,\"#9c179e\"],[0.4444444444444444,\"#bd3786\"],[0.5555555555555556,\"#d8576b\"],[0.6666666666666666,\"#ed7953\"],[0.7777777777777778,\"#fb9f3a\"],[0.8888888888888888,\"#fdca26\"],[1.0,\"#f0f921\"]],\"sequentialminus\":[[0.0,\"#0d0887\"],[0.1111111111111111,\"#46039f\"],[0.2222222222222222,\"#7201a8\"],[0.3333333333333333,\"#9c179e\"],[0.4444444444444444,\"#bd3786\"],[0.5555555555555556,\"#d8576b\"],[0.6666666666666666,\"#ed7953\"],[0.7777777777777778,\"#fb9f3a\"],[0.8888888888888888,\"#fdca26\"],[1.0,\"#f0f921\"]],\"diverging\":[[0,\"#8e0152\"],[0.1,\"#c51b7d\"],[0.2,\"#de77ae\"],[0.3,\"#f1b6da\"],[0.4,\"#fde0ef\"],[0.5,\"#f7f7f7\"],[0.6,\"#e6f5d0\"],[0.7,\"#b8e186\"],[0.8,\"#7fbc41\"],[0.9,\"#4d9221\"],[1,\"#276419\"]]},\"xaxis\":{\"gridcolor\":\"white\",\"linecolor\":\"white\",\"ticks\":\"\",\"title\":{\"standoff\":15},\"zerolinecolor\":\"white\",\"automargin\":true,\"zerolinewidth\":2},\"yaxis\":{\"gridcolor\":\"white\",\"linecolor\":\"white\",\"ticks\":\"\",\"title\":{\"standoff\":15},\"zerolinecolor\":\"white\",\"automargin\":true,\"zerolinewidth\":2},\"scene\":{\"xaxis\":{\"backgroundcolor\":\"#E5ECF6\",\"gridcolor\":\"white\",\"linecolor\":\"white\",\"showbackground\":true,\"ticks\":\"\",\"zerolinecolor\":\"white\",\"gridwidth\":2},\"yaxis\":{\"backgroundcolor\":\"#E5ECF6\",\"gridcolor\":\"white\",\"linecolor\":\"white\",\"showbackground\":true,\"ticks\":\"\",\"zerolinecolor\":\"white\",\"gridwidth\":2},\"zaxis\":{\"backgroundcolor\":\"#E5ECF6\",\"gridcolor\":\"white\",\"linecolor\":\"white\",\"showbackground\":true,\"ticks\":\"\",\"zerolinecolor\":\"white\",\"gridwidth\":2}},\"shapedefaults\":{\"line\":{\"color\":\"#2a3f5f\"}},\"annotationdefaults\":{\"arrowcolor\":\"#2a3f5f\",\"arrowhead\":0,\"arrowwidth\":1},\"geo\":{\"bgcolor\":\"white\",\"landcolor\":\"#E5ECF6\",\"subunitcolor\":\"white\",\"showland\":true,\"showlakes\":true,\"lakecolor\":\"white\"},\"title\":{\"x\":0.05},\"mapbox\":{\"style\":\"light\"}}},\"scene\":{\"aspectratio\":{\"x\":1,\"y\":1,\"z\":1},\"xaxis\":{\"title\":{\"text\":\"Hour\"}},\"yaxis\":{\"title\":{\"text\":\"Day\"}},\"zaxis\":{\"title\":{\"text\":\"Service Time\"}},\"aspectmode\":\"manual\"},\"title\":{\"text\":\"Service Time Prediction\"},\"width\":700,\"height\":700},                        {\"responsive\": true}                    ).then(function(){\n",
              "                            \n",
              "var gd = document.getElementById('bdc6c025-caa9-4918-b3f1-7c12bb9d0388');\n",
              "var x = new MutationObserver(function (mutations, observer) {{\n",
              "        var display = window.getComputedStyle(gd).display;\n",
              "        if (!display || display === 'none') {{\n",
              "            console.log([gd, 'removed!']);\n",
              "            Plotly.purge(gd);\n",
              "            observer.disconnect();\n",
              "        }}\n",
              "}});\n",
              "\n",
              "// Listen for the removal of the full notebook cells\n",
              "var notebookContainer = gd.closest('#notebook-container');\n",
              "if (notebookContainer) {{\n",
              "    x.observe(notebookContainer, {childList: true});\n",
              "}}\n",
              "\n",
              "// Listen for the clearing of the current output cell\n",
              "var outputEl = gd.closest('.output');\n",
              "if (outputEl) {{\n",
              "    x.observe(outputEl, {childList: true});\n",
              "}}\n",
              "\n",
              "                        })                };                            </script>        </div>\n",
              "</body>\n",
              "</html>"
            ]
          },
          "metadata": {}
        }
      ],
      "source": [
        "import numpy as np\n",
        "import plotly.graph_objects as go\n",
        "\n",
        "# Define the correct column name\n",
        "service_time_col = 'service_time'\n",
        "\n",
        "# Extract the service time column from the DataFrames\n",
        "filled_grid_linear_np = filled_grid_linear[service_time_col].to_numpy()\n",
        "filled_grid_gp_np = filled_grid_gp[service_time_col].to_numpy()\n",
        "\n",
        "print(\"filled_grid_linear_np shape before reshape:\", filled_grid_linear_np.shape)\n",
        "print(\"filled_grid_gp_np shape before reshape:\", filled_grid_gp_np.shape)\n",
        "\n",
        "# Create a mesh grid for the surface plots\n",
        "x = np.arange(mean_service_times_df['hour'].min(), mean_service_times_df['hour'].max() + 1, 1)\n",
        "y = np.arange(mean_service_times_df['day'].min(), mean_service_times_df['day'].max() + 1, 1)\n",
        "X, Y = np.meshgrid(x, y)\n",
        "\n",
        "# Flatten the mesh grid to match the data for plotting\n",
        "x_flat = X.flatten()\n",
        "y_flat = Y.flatten()\n",
        "\n",
        "# Ensure the filled grids have the correct size before reshaping\n",
        "expected_size = X.size\n",
        "print(\"Expected size:\", expected_size)\n",
        "\n",
        "if filled_grid_linear_np.size == expected_size:\n",
        "    filled_grid_linear_np = filled_grid_linear_np.reshape(Y.shape)\n",
        "else:\n",
        "    print(\"filled_grid_linear size does not match the expected size.\")\n",
        "\n",
        "if filled_grid_gp_np.size == expected_size:\n",
        "    filled_grid_gp_np = filled_grid_gp_np.reshape(Y.shape)\n",
        "else:\n",
        "    print(\"filled_grid_gp size does not match the expected size.\")\n",
        "\n",
        "# Create a 3D scatter plot for the actual data points\n",
        "scatter_data = go.Scatter3d(\n",
        "    x=mean_service_times_df['hour'],\n",
        "    y=mean_service_times_df['day'],\n",
        "    z=mean_service_times_df['service_time'],\n",
        "    mode='markers',\n",
        "    marker=dict(\n",
        "        size=5,\n",
        "        color=mean_service_times_df['service_time'],\n",
        "        colorscale='Viridis',\n",
        "        opacity=0.8\n",
        "    ),\n",
        "    name='Data Points'\n",
        ")\n",
        "\n",
        "# Create 3D surface plot for Linear Regression\n",
        "if filled_grid_linear_np.size == expected_size:\n",
        "    surface_linear = go.Surface(\n",
        "        x=X,\n",
        "        y=Y,\n",
        "        z=filled_grid_linear_np,\n",
        "        colorscale='Viridis',\n",
        "        opacity=0.7,\n",
        "        name='Linear Regression Surface'\n",
        "    )\n",
        "else:\n",
        "    surface_linear = None\n",
        "\n",
        "# Create 3D surface plot for GP Regression\n",
        "if filled_grid_gp_np.size == expected_size:\n",
        "    surface_gp = go.Surface(\n",
        "        x=X,\n",
        "        y=Y,\n",
        "        z=filled_grid_gp_np,\n",
        "        colorscale='Plasma',\n",
        "        opacity=0.7,\n",
        "        name='GP Regression Surface'\n",
        "    )\n",
        "else:\n",
        "    surface_gp = None\n",
        "\n",
        "# Combine the plots\n",
        "fig = go.Figure(data=[scatter_data])\n",
        "\n",
        "if surface_linear is not None:\n",
        "    fig.add_trace(surface_linear)\n",
        "\n",
        "if surface_gp is not None:\n",
        "    fig.add_trace(surface_gp)\n",
        "\n",
        "# Set labels for axes\n",
        "fig.update_layout(\n",
        "    scene=dict(\n",
        "        xaxis_title='Hour',\n",
        "        yaxis_title='Day',\n",
        "        zaxis_title='Service Time',\n",
        "        aspectmode='manual',\n",
        "        aspectratio=dict(x=1, y=1, z=1)\n",
        "    ),\n",
        "    title='Service Time Prediction',\n",
        "    width=700,\n",
        "    height=700\n",
        ")\n",
        "\n",
        "# Show the plot\n",
        "fig.show()\n"
      ]
    },
    {
      "cell_type": "markdown",
      "id": "StwieSpPhIVK",
      "metadata": {
        "id": "StwieSpPhIVK"
      },
      "source": [
        "Unsurprisingly the Gaussian process looks better."
      ]
    },
    {
      "cell_type": "markdown",
      "id": "zFUHcf7vB9et",
      "metadata": {
        "id": "zFUHcf7vB9et"
      },
      "source": [
        "**4. The probability that the service time of chip, between 16:00 to 18:00, on Shabbat, will be between 6 to 7 seconds:**"
      ]
    },
    {
      "cell_type": "code",
      "execution_count": 33,
      "id": "3Wa0ECj6pF7e",
      "metadata": {
        "colab": {
          "base_uri": "https://localhost:8080/"
        },
        "id": "3Wa0ECj6pF7e",
        "outputId": "cc0e3328-51ec-4f7a-8bb2-e9569ad09602"
      },
      "outputs": [
        {
          "output_type": "stream",
          "name": "stdout",
          "text": [
            "Probability that the service time is between 6 and 7 seconds between 16:00 and 18:00 on Shabbat: 0.3333333333333333\n"
          ]
        }
      ],
      "source": [
        "# Filter for the time between 16:00 and 18:00 on Shabbat\n",
        "# Adjust 'day' value if necessary for Shabbat (day=7 represents Shabbat)\n",
        "filtered_df = filled_grid_gp[(filled_grid_gp['hour'] >= 16) & (filled_grid_gp['hour'] <= 18) & (filled_grid_gp['day'] == 7)]\n",
        "\n",
        "# Calculate the probability of service time being between 6 and 7 seconds\n",
        "lower_bound = 6\n",
        "upper_bound = 7\n",
        "\n",
        "# Find the rows where service_time is between 6 and 7 seconds\n",
        "within_range = (filtered_df['service_time'] >= lower_bound) & (filtered_df['service_time'] <= upper_bound)\n",
        "\n",
        "# Compute the probability\n",
        "probability_within_range = np.mean(within_range)\n",
        "\n",
        "# Print the result\n",
        "print(f'Probability that the service time is between {lower_bound} and {upper_bound} seconds between 16:00 and 18:00 on Shabbat: {probability_within_range}')"
      ]
    },
    {
      "cell_type": "markdown",
      "id": "LQs9I5r6B9R7",
      "metadata": {
        "id": "LQs9I5r6B9R7"
      },
      "source": [
        "**5. Full specification of the Gauusian distribution of the service time on Sunday between 14:00 to 15:00 and Sunday between 16:00 to 17:00:**\n"
      ]
    },
    {
      "cell_type": "code",
      "execution_count": 34,
      "id": "WPkzSH9v9Clt",
      "metadata": {
        "id": "WPkzSH9v9Clt"
      },
      "outputs": [],
      "source": [
        "import numpy as np\n",
        "import pandas as pd\n",
        "from sklearn.preprocessing import StandardScaler\n",
        "\n",
        "# Extract relevant rows from filled_grid_gp for Sunday (day=1) and hours 14:00 to 15:00 and 16:00 to 17:00\n",
        "sunday_data = filled_grid_gp[(filled_grid_gp['day'] == 1) & (filled_grid_gp['hour'].isin([14, 16]))]\n",
        "sunday_data = sunday_data.sort_values(by=['hour'])\n",
        "\n",
        "# Extract the service times, hours, and days\n",
        "service_times = sunday_data['service_time'].values\n",
        "hours = sunday_data['hour'].values\n",
        "days = sunday_data['day'].values\n",
        "\n",
        "# Combine hours and days into a single array for GP input\n",
        "X = np.column_stack([days, hours])\n",
        "\n",
        "# Standardize the features\n",
        "scaler = StandardScaler()\n",
        "X_scaled = scaler.fit_transform(X)"
      ]
    },
    {
      "cell_type": "code",
      "execution_count": 35,
      "id": "bYV25FSQT7OT",
      "metadata": {
        "colab": {
          "base_uri": "https://localhost:8080/",
          "height": 130
        },
        "id": "bYV25FSQT7OT",
        "outputId": "0c6f6360-e4da-4679-a4fe-c3c8ee7e0ec1"
      },
      "outputs": [
        {
          "output_type": "stream",
          "name": "stderr",
          "text": [
            "/usr/local/lib/python3.10/dist-packages/pymc/gp/gp.py:56: FutureWarning:\n",
            "\n",
            "The 'noise' parameter has been been changed to 'sigma' in order to standardize the GP API and will be deprecated in future releases.\n",
            "\n"
          ]
        },
        {
          "output_type": "display_data",
          "data": {
            "text/plain": [
              "<IPython.core.display.HTML object>"
            ],
            "text/html": [
              "\n",
              "<style>\n",
              "    /* Turns off some styling */\n",
              "    progress {\n",
              "        /* gets rid of default border in Firefox and Opera. */\n",
              "        border: none;\n",
              "        /* Needs to be in here for Safari polyfill so background images work as expected. */\n",
              "        background-size: auto;\n",
              "    }\n",
              "    progress:not([value]), progress:not([value])::-webkit-progress-bar {\n",
              "        background: repeating-linear-gradient(45deg, #7e7e7e, #7e7e7e 10px, #5c5c5c 10px, #5c5c5c 20px);\n",
              "    }\n",
              "    .progress-bar-interrupted, .progress-bar-interrupted::-webkit-progress-bar {\n",
              "        background: #F44336;\n",
              "    }\n",
              "</style>\n"
            ]
          },
          "metadata": {}
        },
        {
          "output_type": "display_data",
          "data": {
            "text/plain": [
              "<IPython.core.display.HTML object>"
            ],
            "text/html": [
              "\n",
              "    <div>\n",
              "      <progress value='2000' class='' max='2000' style='width:300px; height:20px; vertical-align: middle;'></progress>\n",
              "      100.00% [2000/2000 00:17&lt;00:00 Sampling chain 0, 5 divergences]\n",
              "    </div>\n",
              "    "
            ]
          },
          "metadata": {}
        },
        {
          "output_type": "display_data",
          "data": {
            "text/plain": [
              "<IPython.core.display.HTML object>"
            ],
            "text/html": [
              "\n",
              "<style>\n",
              "    /* Turns off some styling */\n",
              "    progress {\n",
              "        /* gets rid of default border in Firefox and Opera. */\n",
              "        border: none;\n",
              "        /* Needs to be in here for Safari polyfill so background images work as expected. */\n",
              "        background-size: auto;\n",
              "    }\n",
              "    progress:not([value]), progress:not([value])::-webkit-progress-bar {\n",
              "        background: repeating-linear-gradient(45deg, #7e7e7e, #7e7e7e 10px, #5c5c5c 10px, #5c5c5c 20px);\n",
              "    }\n",
              "    .progress-bar-interrupted, .progress-bar-interrupted::-webkit-progress-bar {\n",
              "        background: #F44336;\n",
              "    }\n",
              "</style>\n"
            ]
          },
          "metadata": {}
        },
        {
          "output_type": "display_data",
          "data": {
            "text/plain": [
              "<IPython.core.display.HTML object>"
            ],
            "text/html": [
              "\n",
              "    <div>\n",
              "      <progress value='2000' class='' max='2000' style='width:300px; height:20px; vertical-align: middle;'></progress>\n",
              "      100.00% [2000/2000 00:21&lt;00:00 Sampling chain 1, 1 divergences]\n",
              "    </div>\n",
              "    "
            ]
          },
          "metadata": {}
        }
      ],
      "source": [
        "# Fit the Gaussian Process model\n",
        "with pm.Model() as gp_model:\n",
        "\n",
        "    # Define the priors\n",
        "    l = pm.HalfCauchy(\"l\", beta=3, shape=(2,))\n",
        "    sf2 = pm.HalfCauchy(\"sf2\", beta=3)\n",
        "\n",
        "    # Define the kernel\n",
        "    kernel_option = 2\n",
        "    if kernel_option == 1:\n",
        "        K = pm.gp.cov.ExpQuad(2, l) * sf2**2\n",
        "    elif kernel_option == 2:\n",
        "        K = pm.gp.cov.Matern32(2, l) * sf2**2\n",
        "    elif kernel_option == 3:\n",
        "        K = pm.gp.cov.Matern52(2, l) * sf2**2\n",
        "\n",
        "    # Define the mean function\n",
        "    mean_func = pm.gp.mean.Linear(coeffs=[1, 1])\n",
        "\n",
        "    # Define the GP process\n",
        "    gp_priors = pm.gp.Marginal(mean_func=mean_func, cov_func=K)\n",
        "\n",
        "    # Define the noise prior\n",
        "    sigma = pm.HalfCauchy('sigma', beta=5)\n",
        "\n",
        "    # Define the likelihood\n",
        "    y_obs = gp_priors.marginal_likelihood('y_obs', X=X_scaled, y=service_times, noise=sigma)\n",
        "\n",
        "    # Sample from the posterior\n",
        "    trace_gp = pm.sample(1000, tune=1000, chains=2, cores=1, return_inferencedata=True)"
      ]
    },
    {
      "cell_type": "code",
      "execution_count": 36,
      "id": "dobvf77R9Cc_",
      "metadata": {
        "colab": {
          "base_uri": "https://localhost:8080/",
          "height": 110
        },
        "id": "dobvf77R9Cc_",
        "outputId": "14b34fd6-dad0-45a5-c0e8-b0a4344edc56"
      },
      "outputs": [
        {
          "output_type": "display_data",
          "data": {
            "text/plain": [
              "<IPython.core.display.HTML object>"
            ],
            "text/html": [
              "\n",
              "<style>\n",
              "    /* Turns off some styling */\n",
              "    progress {\n",
              "        /* gets rid of default border in Firefox and Opera. */\n",
              "        border: none;\n",
              "        /* Needs to be in here for Safari polyfill so background images work as expected. */\n",
              "        background-size: auto;\n",
              "    }\n",
              "    progress:not([value]), progress:not([value])::-webkit-progress-bar {\n",
              "        background: repeating-linear-gradient(45deg, #7e7e7e, #7e7e7e 10px, #5c5c5c 10px, #5c5c5c 20px);\n",
              "    }\n",
              "    .progress-bar-interrupted, .progress-bar-interrupted::-webkit-progress-bar {\n",
              "        background: #F44336;\n",
              "    }\n",
              "</style>\n"
            ]
          },
          "metadata": {}
        },
        {
          "output_type": "display_data",
          "data": {
            "text/plain": [
              "<IPython.core.display.HTML object>"
            ],
            "text/html": [
              "\n",
              "    <div>\n",
              "      <progress value='28' class='' max='28' style='width:300px; height:20px; vertical-align: middle;'></progress>\n",
              "      100.00% [28/28 00:00&lt;00:00 logp = -14.996, ||grad|| = 0.0015588]\n",
              "    </div>\n",
              "    "
            ]
          },
          "metadata": {}
        },
        {
          "output_type": "stream",
          "name": "stdout",
          "text": [
            "\n",
            "Mu vector: [-0.99999993  1.00000005]\n",
            "Covariance Matrix: [[1.30927303e-06 0.00000000e+00]\n",
            " [0.00000000e+00 1.30927303e-06]]\n"
          ]
        }
      ],
      "source": [
        "# Define the time points we are interested in (hours 14, 16) for Sunday (day=1)\n",
        "test_hours = np.array([14, 16])\n",
        "test_days = np.array([1, 1])  # Sundays\n",
        "\n",
        "# Combine test hours and days into a single array\n",
        "X_test = np.column_stack([test_days, test_hours])\n",
        "\n",
        "# Standardize the test features using the same scaler\n",
        "X_test_scaled = scaler.transform(X_test)\n",
        "\n",
        "# Predict the mean and covariance using the GP model\n",
        "with gp_model:\n",
        "    mu, cov = gp_priors.predict(X_test_scaled, point=pm.find_MAP())\n",
        "\n",
        "# Print the results\n",
        "print(\"Mu vector:\", mu)\n",
        "print(\"Covariance Matrix:\", cov)"
      ]
    },
    {
      "cell_type": "markdown",
      "id": "rwpG9Jb_B9Gl",
      "metadata": {
        "id": "rwpG9Jb_B9Gl"
      },
      "source": [
        "**6. Which correlation value is larger?** <br>\n",
        "The correlation between the service times at Sunday between 14:00 to 15:00 and Sunday between 16:00 to 17:00 **or** the correlation between the service times at Sunday between 14:00 to 15:00 and Sunday between 20:00 to 21:00. <br>\n",
        "**Does this result make sense?**"
      ]
    },
    {
      "cell_type": "code",
      "execution_count": 37,
      "id": "r9BXE6dMJtAQ",
      "metadata": {
        "id": "r9BXE6dMJtAQ",
        "colab": {
          "base_uri": "https://localhost:8080/",
          "height": 130
        },
        "outputId": "d68e146d-e6db-48f8-9551-8a05ba43a1c8"
      },
      "outputs": [
        {
          "output_type": "stream",
          "name": "stderr",
          "text": [
            "/usr/local/lib/python3.10/dist-packages/pymc/gp/gp.py:56: FutureWarning:\n",
            "\n",
            "The 'noise' parameter has been been changed to 'sigma' in order to standardize the GP API and will be deprecated in future releases.\n",
            "\n"
          ]
        },
        {
          "output_type": "display_data",
          "data": {
            "text/plain": [
              "<IPython.core.display.HTML object>"
            ],
            "text/html": [
              "\n",
              "<style>\n",
              "    /* Turns off some styling */\n",
              "    progress {\n",
              "        /* gets rid of default border in Firefox and Opera. */\n",
              "        border: none;\n",
              "        /* Needs to be in here for Safari polyfill so background images work as expected. */\n",
              "        background-size: auto;\n",
              "    }\n",
              "    progress:not([value]), progress:not([value])::-webkit-progress-bar {\n",
              "        background: repeating-linear-gradient(45deg, #7e7e7e, #7e7e7e 10px, #5c5c5c 10px, #5c5c5c 20px);\n",
              "    }\n",
              "    .progress-bar-interrupted, .progress-bar-interrupted::-webkit-progress-bar {\n",
              "        background: #F44336;\n",
              "    }\n",
              "</style>\n"
            ]
          },
          "metadata": {}
        },
        {
          "output_type": "display_data",
          "data": {
            "text/plain": [
              "<IPython.core.display.HTML object>"
            ],
            "text/html": [
              "\n",
              "    <div>\n",
              "      <progress value='2000' class='' max='2000' style='width:300px; height:20px; vertical-align: middle;'></progress>\n",
              "      100.00% [2000/2000 00:21&lt;00:00 Sampling chain 0, 2 divergences]\n",
              "    </div>\n",
              "    "
            ]
          },
          "metadata": {}
        },
        {
          "output_type": "display_data",
          "data": {
            "text/plain": [
              "<IPython.core.display.HTML object>"
            ],
            "text/html": [
              "\n",
              "<style>\n",
              "    /* Turns off some styling */\n",
              "    progress {\n",
              "        /* gets rid of default border in Firefox and Opera. */\n",
              "        border: none;\n",
              "        /* Needs to be in here for Safari polyfill so background images work as expected. */\n",
              "        background-size: auto;\n",
              "    }\n",
              "    progress:not([value]), progress:not([value])::-webkit-progress-bar {\n",
              "        background: repeating-linear-gradient(45deg, #7e7e7e, #7e7e7e 10px, #5c5c5c 10px, #5c5c5c 20px);\n",
              "    }\n",
              "    .progress-bar-interrupted, .progress-bar-interrupted::-webkit-progress-bar {\n",
              "        background: #F44336;\n",
              "    }\n",
              "</style>\n"
            ]
          },
          "metadata": {}
        },
        {
          "output_type": "display_data",
          "data": {
            "text/plain": [
              "<IPython.core.display.HTML object>"
            ],
            "text/html": [
              "\n",
              "    <div>\n",
              "      <progress value='2000' class='' max='2000' style='width:300px; height:20px; vertical-align: middle;'></progress>\n",
              "      100.00% [2000/2000 00:22&lt;00:00 Sampling chain 1, 2 divergences]\n",
              "    </div>\n",
              "    "
            ]
          },
          "metadata": {}
        }
      ],
      "source": [
        "import numpy as np\n",
        "import pandas as pd\n",
        "from sklearn.preprocessing import StandardScaler\n",
        "\n",
        "# Extract relevant rows from filled_grid_gp for Sunday (day=1) and hours 14:00 to 15:00, 16:00 to 17:00, and 20:00 to 21:00\n",
        "sunday_data = filled_grid_gp[(filled_grid_gp['day'] == 1) & (filled_grid_gp['hour'].isin([14, 16, 20]))]\n",
        "sunday_data = sunday_data.sort_values(by=['hour'])\n",
        "\n",
        "# Extract the service times, hours, and days\n",
        "service_times = sunday_data['service_time'].values\n",
        "hours = sunday_data['hour'].values\n",
        "days = sunday_data['day'].values\n",
        "\n",
        "# Combine hours and days into a single array for GP input\n",
        "X = np.column_stack([days, hours])\n",
        "\n",
        "# Standardize the features\n",
        "scaler = StandardScaler()\n",
        "X_scaled = scaler.fit_transform(X)\n",
        "\n",
        "# Fit the Gaussian Process model\n",
        "with pm.Model() as gp_model:\n",
        "\n",
        "    # Define the priors\n",
        "    l = pm.HalfCauchy(\"l\", beta=3, shape=(2,))\n",
        "    sf2 = pm.HalfCauchy(\"sf2\", beta=3)\n",
        "\n",
        "    # Define the kernel\n",
        "    kernel_option = 2\n",
        "    if kernel_option == 1:\n",
        "        K = pm.gp.cov.ExpQuad(2, l) * sf2**2\n",
        "    elif kernel_option == 2:\n",
        "        K = pm.gp.cov.Matern32(2, l) * sf2**2\n",
        "    elif kernel_option == 3:\n",
        "        K = pm.gp.cov.Matern52(2, l) * sf2**2\n",
        "\n",
        "    # Define the mean function\n",
        "    mean_func = pm.gp.mean.Linear(coeffs=[1, 1])\n",
        "\n",
        "    # Define the GP process\n",
        "    gp_priors = pm.gp.Marginal(mean_func=mean_func, cov_func=K)\n",
        "\n",
        "    # Define the noise prior\n",
        "    sigma = pm.HalfCauchy('sigma', beta=5)\n",
        "\n",
        "    # Define the likelihood\n",
        "    y_obs = gp_priors.marginal_likelihood('y_obs', X=X_scaled, y=service_times, noise=sigma)\n",
        "\n",
        "    # Sample from the posterior\n",
        "    trace_gp = pm.sample(1000, tune=1000, chains=2, cores=1, return_inferencedata=False)\n",
        "\n",
        "# Define the time points we are interested in\n",
        "test_hours = np.array([14, 16, 20])\n",
        "test_days = np.array([1, 1, 1])  # Sundays\n",
        "\n",
        "# Combine test hours and days into a single array\n",
        "X_test = np.column_stack([test_days, test_hours])\n",
        "\n",
        "# Standardize the test features using the same scaler\n",
        "X_test_scaled = scaler.transform(X_test)\n"
      ]
    },
    {
      "cell_type": "code",
      "execution_count": 38,
      "id": "ySb7bWMiJs3G",
      "metadata": {
        "id": "ySb7bWMiJs3G",
        "colab": {
          "base_uri": "https://localhost:8080/",
          "height": 110
        },
        "outputId": "9e6012ac-0483-491c-9dde-1b1620d4eb2e"
      },
      "outputs": [
        {
          "output_type": "display_data",
          "data": {
            "text/plain": [
              "<IPython.core.display.HTML object>"
            ],
            "text/html": [
              "\n",
              "<style>\n",
              "    /* Turns off some styling */\n",
              "    progress {\n",
              "        /* gets rid of default border in Firefox and Opera. */\n",
              "        border: none;\n",
              "        /* Needs to be in here for Safari polyfill so background images work as expected. */\n",
              "        background-size: auto;\n",
              "    }\n",
              "    progress:not([value]), progress:not([value])::-webkit-progress-bar {\n",
              "        background: repeating-linear-gradient(45deg, #7e7e7e, #7e7e7e 10px, #5c5c5c 10px, #5c5c5c 20px);\n",
              "    }\n",
              "    .progress-bar-interrupted, .progress-bar-interrupted::-webkit-progress-bar {\n",
              "        background: #F44336;\n",
              "    }\n",
              "</style>\n"
            ]
          },
          "metadata": {}
        },
        {
          "output_type": "display_data",
          "data": {
            "text/plain": [
              "<IPython.core.display.HTML object>"
            ],
            "text/html": [
              "\n",
              "    <div>\n",
              "      <progress value='30' class='' max='30' style='width:300px; height:20px; vertical-align: middle;'></progress>\n",
              "      100.00% [30/30 00:00&lt;00:00 logp = -17.346, ||grad|| = 0.02827]\n",
              "    </div>\n",
              "    "
            ]
          },
          "metadata": {}
        },
        {
          "output_type": "stream",
          "name": "stdout",
          "text": [
            "\n",
            "Correlation between service times at Sunday 14:00 to 15:00 and Sunday 16:00 to 17:00: 5.47624345436991e-07\n",
            "Correlation between service times at Sunday 14:00 to 15:00 and Sunday 20:00 to 21:00: -1.0372576474037422e-07\n",
            "The correlation between service times at Sunday 14:00 to 15:00 and Sunday 16:00 to 17:00 is larger.\n"
          ]
        }
      ],
      "source": [
        "# Predict the mean and covariance using the GP model\n",
        "with gp_model:\n",
        "    mu, cov = gp_priors.predict(X_test_scaled, point=pm.find_MAP())\n",
        "\n",
        "# Calculate correlations\n",
        "corr_14_16 = cov[0, 1] / (np.sqrt(cov[0, 0] * cov[1, 1]))\n",
        "corr_14_20 = cov[0, 2] / (np.sqrt(cov[0, 0] * cov[2, 2]))\n",
        "\n",
        "# Print the results\n",
        "print(\"Correlation between service times at Sunday 14:00 to 15:00 and Sunday 16:00 to 17:00:\", corr_14_16)\n",
        "print(\"Correlation between service times at Sunday 14:00 to 15:00 and Sunday 20:00 to 21:00:\", corr_14_20)\n",
        "\n",
        "if corr_14_16 > corr_14_20:\n",
        "    print(\"The correlation between service times at Sunday 14:00 to 15:00 and Sunday 16:00 to 17:00 is larger.\")\n",
        "else:\n",
        "    print(\"The correlation between service times at Sunday 14:00 to 15:00 and Sunday 20:00 to 21:00 is larger.\")"
      ]
    },
    {
      "cell_type": "markdown",
      "id": "3bodhFgR_i44",
      "metadata": {
        "id": "3bodhFgR_i44"
      },
      "source": [
        "It makes sense that the correlation between two consecutive hours is higher than two hours between which there is an interval, when it is a plant that provides a service. <br>\n",
        "It can be thought of like a store where people arrive in \"waves\" and therefore when there is no time interval the correlation is greater."
      ]
    },
    {
      "cell_type": "markdown",
      "id": "874e8bf9-0b54-49c2-ac8a-a118146157a6",
      "metadata": {
        "id": "874e8bf9-0b54-49c2-ac8a-a118146157a6"
      },
      "source": [
        "## Task 3:\n",
        "\n",
        "### For cross validation of the previuos task we wish to see how accurate our predictions.\n",
        "\n",
        "### We use your prediction to estimate the waiting times at each points via simulation. The better the estimation made in you GP regressior the more accurate the simulations results.\n",
        "\n",
        "### In this part we compare the average waiting time at each cell with the true average waiting times. The true values are loaded below into 'true_results'.\n"
      ]
    },
    {
      "cell_type": "code",
      "execution_count": 39,
      "id": "00813171-37e1-4cf0-aad2-8715390e691c",
      "metadata": {
        "id": "00813171-37e1-4cf0-aad2-8715390e691c",
        "colab": {
          "base_uri": "https://localhost:8080/"
        },
        "outputId": "ff5eed7f-4a9d-4a62-ebbb-d7dfd881f1c6"
      },
      "outputs": [
        {
          "output_type": "execute_result",
          "data": {
            "text/plain": [
              "(167,)"
            ]
          },
          "metadata": {},
          "execution_count": 39
        }
      ],
      "source": [
        "true_results = pkl.load(open('../content/data_queueing_quiz/true_results.pkl', 'rb'))\n",
        "true_results.shape"
      ]
    },
    {
      "cell_type": "markdown",
      "id": "3e5de2d0-f6be-4746-a4b5-745c4dbdb04c",
      "metadata": {
        "id": "3e5de2d0-f6be-4746-a4b5-745c4dbdb04c"
      },
      "source": [
        "### In true_results you have a numpy array with 167 values. The first value is the  average number of customers in the system at the end of the hour 0 day 1, the second is hour 1 day 1, and so on. This is an averge of 200 simulation runs. Note that the grid contains 168 values but here we have only 167. This means, we do not test for 23:00-0:00 at the day 7 (from technincal reasons).\n",
        "\n",
        "### In order to compute your waiting time predictions insert your predicitons into Sim_func below. Then, the line of code below extracts the average waiting time predictions into the variable  'preds_results'.\n",
        "\n",
        "### At this point you have two vectors of size (167,),  one represents the true average waiting times and the other represent your predicitons.\n",
        "\n",
        "### The first value represents the average waiting time at Sunday between 0:00-01:00. The 50th cell represent the average waiting time at Tuesday between 01:00 to 02:00.\n",
        "\n",
        "## Tasks\n",
        "\n",
        "### 1. Compute the average waiting times using the function Sim_func. Compare your results between your predictions and the ground truth using MSE.\n",
        "\n",
        "### 2. Plot the average waiting as a function of time of the week. That is, y-axis is the average waiting time and the X-axis is the hour of the week. Following the exmaple from above Tuesday between 01:00 to 02:00 is the 50th hour.\n"
      ]
    },
    {
      "cell_type": "code",
      "execution_count": 40,
      "id": "uqzXRt_HWaTG",
      "metadata": {
        "id": "uqzXRt_HWaTG"
      },
      "outputs": [],
      "source": [
        "# ## Insert your predictions her\n",
        "\n",
        "# df_  = Sim_func(YOUR_PREDICTION)\n",
        "# ## Converting the simulation results into a numpy array from a PD dataframe.\n",
        "# preds_results = np.array(df_.iloc[:,2:]).mean(axis = 1)"
      ]
    },
    {
      "cell_type": "markdown",
      "id": "MuNgLN4xBA7Q",
      "metadata": {
        "id": "MuNgLN4xBA7Q"
      },
      "source": [
        "### **Answers to part 3:**"
      ]
    },
    {
      "cell_type": "markdown",
      "id": "SAb3QQpMBMHt",
      "metadata": {
        "id": "SAb3QQpMBMHt"
      },
      "source": [
        "**1. Computing the average waiting times using the function Sim_func, and Comparing my results between your predictions and the ground truth using MSE:**"
      ]
    },
    {
      "cell_type": "markdown",
      "id": "AiIqhPpYCmNe",
      "metadata": {
        "id": "AiIqhPpYCmNe"
      },
      "source": [
        "We will repeat the distribution of the information and the model."
      ]
    },
    {
      "cell_type": "code",
      "execution_count": 41,
      "id": "cqrXftFCCl_2",
      "metadata": {
        "id": "cqrXftFCCl_2",
        "colab": {
          "base_uri": "https://localhost:8080/",
          "height": 704
        },
        "outputId": "fd22feef-069f-4cbe-b240-5ec2744a2679"
      },
      "outputs": [
        {
          "output_type": "stream",
          "name": "stdout",
          "text": [
            "Training Set (Filled Cells):\n",
            "    day  hour\n",
            "1     1     1\n",
            "3     1     3\n",
            "4     1     4\n",
            "7     1     7\n",
            "10    1    10\n",
            "1     1.293141\n",
            "3     1.729359\n",
            "4     2.063790\n",
            "7     2.982484\n",
            "10    5.594943\n",
            "Name: service_time, dtype: float64\n",
            "Test Set (Empty Cells):\n",
            "   day  hour\n",
            "0    1     0\n",
            "2    1     2\n",
            "5    1     5\n",
            "6    1     6\n",
            "8    1     8\n"
          ]
        },
        {
          "output_type": "stream",
          "name": "stderr",
          "text": [
            "/usr/local/lib/python3.10/dist-packages/pymc/gp/gp.py:56: FutureWarning:\n",
            "\n",
            "The 'noise' parameter has been been changed to 'sigma' in order to standardize the GP API and will be deprecated in future releases.\n",
            "\n"
          ]
        },
        {
          "output_type": "display_data",
          "data": {
            "text/plain": [
              "<IPython.core.display.HTML object>"
            ],
            "text/html": [
              "\n",
              "<style>\n",
              "    /* Turns off some styling */\n",
              "    progress {\n",
              "        /* gets rid of default border in Firefox and Opera. */\n",
              "        border: none;\n",
              "        /* Needs to be in here for Safari polyfill so background images work as expected. */\n",
              "        background-size: auto;\n",
              "    }\n",
              "    progress:not([value]), progress:not([value])::-webkit-progress-bar {\n",
              "        background: repeating-linear-gradient(45deg, #7e7e7e, #7e7e7e 10px, #5c5c5c 10px, #5c5c5c 20px);\n",
              "    }\n",
              "    .progress-bar-interrupted, .progress-bar-interrupted::-webkit-progress-bar {\n",
              "        background: #F44336;\n",
              "    }\n",
              "</style>\n"
            ]
          },
          "metadata": {}
        },
        {
          "output_type": "display_data",
          "data": {
            "text/plain": [
              "<IPython.core.display.HTML object>"
            ],
            "text/html": [
              "\n",
              "    <div>\n",
              "      <progress value='2000' class='' max='2000' style='width:300px; height:20px; vertical-align: middle;'></progress>\n",
              "      100.00% [2000/2000 01:19&lt;00:00 Sampling chain 0, 1 divergences]\n",
              "    </div>\n",
              "    "
            ]
          },
          "metadata": {}
        },
        {
          "output_type": "display_data",
          "data": {
            "text/plain": [
              "<IPython.core.display.HTML object>"
            ],
            "text/html": [
              "\n",
              "<style>\n",
              "    /* Turns off some styling */\n",
              "    progress {\n",
              "        /* gets rid of default border in Firefox and Opera. */\n",
              "        border: none;\n",
              "        /* Needs to be in here for Safari polyfill so background images work as expected. */\n",
              "        background-size: auto;\n",
              "    }\n",
              "    progress:not([value]), progress:not([value])::-webkit-progress-bar {\n",
              "        background: repeating-linear-gradient(45deg, #7e7e7e, #7e7e7e 10px, #5c5c5c 10px, #5c5c5c 20px);\n",
              "    }\n",
              "    .progress-bar-interrupted, .progress-bar-interrupted::-webkit-progress-bar {\n",
              "        background: #F44336;\n",
              "    }\n",
              "</style>\n"
            ]
          },
          "metadata": {}
        },
        {
          "output_type": "display_data",
          "data": {
            "text/plain": [
              "<IPython.core.display.HTML object>"
            ],
            "text/html": [
              "\n",
              "    <div>\n",
              "      <progress value='2000' class='' max='2000' style='width:300px; height:20px; vertical-align: middle;'></progress>\n",
              "      100.00% [2000/2000 01:25&lt;00:00 Sampling chain 1, 0 divergences]\n",
              "    </div>\n",
              "    "
            ]
          },
          "metadata": {}
        },
        {
          "output_type": "display_data",
          "data": {
            "text/plain": [
              "<IPython.core.display.HTML object>"
            ],
            "text/html": [
              "\n",
              "<style>\n",
              "    /* Turns off some styling */\n",
              "    progress {\n",
              "        /* gets rid of default border in Firefox and Opera. */\n",
              "        border: none;\n",
              "        /* Needs to be in here for Safari polyfill so background images work as expected. */\n",
              "        background-size: auto;\n",
              "    }\n",
              "    progress:not([value]), progress:not([value])::-webkit-progress-bar {\n",
              "        background: repeating-linear-gradient(45deg, #7e7e7e, #7e7e7e 10px, #5c5c5c 10px, #5c5c5c 20px);\n",
              "    }\n",
              "    .progress-bar-interrupted, .progress-bar-interrupted::-webkit-progress-bar {\n",
              "        background: #F44336;\n",
              "    }\n",
              "</style>\n"
            ]
          },
          "metadata": {}
        },
        {
          "output_type": "display_data",
          "data": {
            "text/plain": [
              "<IPython.core.display.HTML object>"
            ],
            "text/html": [
              "\n",
              "    <div>\n",
              "      <progress value='2000' class='' max='2000' style='width:300px; height:20px; vertical-align: middle;'></progress>\n",
              "      100.00% [2000/2000 00:34&lt;00:00]\n",
              "    </div>\n",
              "    "
            ]
          },
          "metadata": {}
        },
        {
          "output_type": "execute_result",
          "data": {
            "text/plain": [
              "     day  hour  service_time\n",
              "163    7    14      7.984782\n",
              "164    7    15      7.473807\n",
              "165    7    16      6.435730\n",
              "166    7    17      5.178294\n",
              "167    7    20      2.435746"
            ],
            "text/html": [
              "\n",
              "  <div id=\"df-b97db499-f728-4b3d-8dbc-d5d1d14c7da0\" class=\"colab-df-container\">\n",
              "    <div>\n",
              "<style scoped>\n",
              "    .dataframe tbody tr th:only-of-type {\n",
              "        vertical-align: middle;\n",
              "    }\n",
              "\n",
              "    .dataframe tbody tr th {\n",
              "        vertical-align: top;\n",
              "    }\n",
              "\n",
              "    .dataframe thead th {\n",
              "        text-align: right;\n",
              "    }\n",
              "</style>\n",
              "<table border=\"1\" class=\"dataframe\">\n",
              "  <thead>\n",
              "    <tr style=\"text-align: right;\">\n",
              "      <th></th>\n",
              "      <th>day</th>\n",
              "      <th>hour</th>\n",
              "      <th>service_time</th>\n",
              "    </tr>\n",
              "  </thead>\n",
              "  <tbody>\n",
              "    <tr>\n",
              "      <th>163</th>\n",
              "      <td>7</td>\n",
              "      <td>14</td>\n",
              "      <td>7.984782</td>\n",
              "    </tr>\n",
              "    <tr>\n",
              "      <th>164</th>\n",
              "      <td>7</td>\n",
              "      <td>15</td>\n",
              "      <td>7.473807</td>\n",
              "    </tr>\n",
              "    <tr>\n",
              "      <th>165</th>\n",
              "      <td>7</td>\n",
              "      <td>16</td>\n",
              "      <td>6.435730</td>\n",
              "    </tr>\n",
              "    <tr>\n",
              "      <th>166</th>\n",
              "      <td>7</td>\n",
              "      <td>17</td>\n",
              "      <td>5.178294</td>\n",
              "    </tr>\n",
              "    <tr>\n",
              "      <th>167</th>\n",
              "      <td>7</td>\n",
              "      <td>20</td>\n",
              "      <td>2.435746</td>\n",
              "    </tr>\n",
              "  </tbody>\n",
              "</table>\n",
              "</div>\n",
              "    <div class=\"colab-df-buttons\">\n",
              "\n",
              "  <div class=\"colab-df-container\">\n",
              "    <button class=\"colab-df-convert\" onclick=\"convertToInteractive('df-b97db499-f728-4b3d-8dbc-d5d1d14c7da0')\"\n",
              "            title=\"Convert this dataframe to an interactive table.\"\n",
              "            style=\"display:none;\">\n",
              "\n",
              "  <svg xmlns=\"http://www.w3.org/2000/svg\" height=\"24px\" viewBox=\"0 -960 960 960\">\n",
              "    <path d=\"M120-120v-720h720v720H120Zm60-500h600v-160H180v160Zm220 220h160v-160H400v160Zm0 220h160v-160H400v160ZM180-400h160v-160H180v160Zm440 0h160v-160H620v160ZM180-180h160v-160H180v160Zm440 0h160v-160H620v160Z\"/>\n",
              "  </svg>\n",
              "    </button>\n",
              "\n",
              "  <style>\n",
              "    .colab-df-container {\n",
              "      display:flex;\n",
              "      gap: 12px;\n",
              "    }\n",
              "\n",
              "    .colab-df-convert {\n",
              "      background-color: #E8F0FE;\n",
              "      border: none;\n",
              "      border-radius: 50%;\n",
              "      cursor: pointer;\n",
              "      display: none;\n",
              "      fill: #1967D2;\n",
              "      height: 32px;\n",
              "      padding: 0 0 0 0;\n",
              "      width: 32px;\n",
              "    }\n",
              "\n",
              "    .colab-df-convert:hover {\n",
              "      background-color: #E2EBFA;\n",
              "      box-shadow: 0px 1px 2px rgba(60, 64, 67, 0.3), 0px 1px 3px 1px rgba(60, 64, 67, 0.15);\n",
              "      fill: #174EA6;\n",
              "    }\n",
              "\n",
              "    .colab-df-buttons div {\n",
              "      margin-bottom: 4px;\n",
              "    }\n",
              "\n",
              "    [theme=dark] .colab-df-convert {\n",
              "      background-color: #3B4455;\n",
              "      fill: #D2E3FC;\n",
              "    }\n",
              "\n",
              "    [theme=dark] .colab-df-convert:hover {\n",
              "      background-color: #434B5C;\n",
              "      box-shadow: 0px 1px 3px 1px rgba(0, 0, 0, 0.15);\n",
              "      filter: drop-shadow(0px 1px 2px rgba(0, 0, 0, 0.3));\n",
              "      fill: #FFFFFF;\n",
              "    }\n",
              "  </style>\n",
              "\n",
              "    <script>\n",
              "      const buttonEl =\n",
              "        document.querySelector('#df-b97db499-f728-4b3d-8dbc-d5d1d14c7da0 button.colab-df-convert');\n",
              "      buttonEl.style.display =\n",
              "        google.colab.kernel.accessAllowed ? 'block' : 'none';\n",
              "\n",
              "      async function convertToInteractive(key) {\n",
              "        const element = document.querySelector('#df-b97db499-f728-4b3d-8dbc-d5d1d14c7da0');\n",
              "        const dataTable =\n",
              "          await google.colab.kernel.invokeFunction('convertToInteractive',\n",
              "                                                    [key], {});\n",
              "        if (!dataTable) return;\n",
              "\n",
              "        const docLinkHtml = 'Like what you see? Visit the ' +\n",
              "          '<a target=\"_blank\" href=https://colab.research.google.com/notebooks/data_table.ipynb>data table notebook</a>'\n",
              "          + ' to learn more about interactive tables.';\n",
              "        element.innerHTML = '';\n",
              "        dataTable['output_type'] = 'display_data';\n",
              "        await google.colab.output.renderOutput(dataTable, element);\n",
              "        const docLink = document.createElement('div');\n",
              "        docLink.innerHTML = docLinkHtml;\n",
              "        element.appendChild(docLink);\n",
              "      }\n",
              "    </script>\n",
              "  </div>\n",
              "\n",
              "\n",
              "<div id=\"df-9394d5f2-8fc6-4087-a1e6-299461af5678\">\n",
              "  <button class=\"colab-df-quickchart\" onclick=\"quickchart('df-9394d5f2-8fc6-4087-a1e6-299461af5678')\"\n",
              "            title=\"Suggest charts\"\n",
              "            style=\"display:none;\">\n",
              "\n",
              "<svg xmlns=\"http://www.w3.org/2000/svg\" height=\"24px\"viewBox=\"0 0 24 24\"\n",
              "     width=\"24px\">\n",
              "    <g>\n",
              "        <path d=\"M19 3H5c-1.1 0-2 .9-2 2v14c0 1.1.9 2 2 2h14c1.1 0 2-.9 2-2V5c0-1.1-.9-2-2-2zM9 17H7v-7h2v7zm4 0h-2V7h2v10zm4 0h-2v-4h2v4z\"/>\n",
              "    </g>\n",
              "</svg>\n",
              "  </button>\n",
              "\n",
              "<style>\n",
              "  .colab-df-quickchart {\n",
              "      --bg-color: #E8F0FE;\n",
              "      --fill-color: #1967D2;\n",
              "      --hover-bg-color: #E2EBFA;\n",
              "      --hover-fill-color: #174EA6;\n",
              "      --disabled-fill-color: #AAA;\n",
              "      --disabled-bg-color: #DDD;\n",
              "  }\n",
              "\n",
              "  [theme=dark] .colab-df-quickchart {\n",
              "      --bg-color: #3B4455;\n",
              "      --fill-color: #D2E3FC;\n",
              "      --hover-bg-color: #434B5C;\n",
              "      --hover-fill-color: #FFFFFF;\n",
              "      --disabled-bg-color: #3B4455;\n",
              "      --disabled-fill-color: #666;\n",
              "  }\n",
              "\n",
              "  .colab-df-quickchart {\n",
              "    background-color: var(--bg-color);\n",
              "    border: none;\n",
              "    border-radius: 50%;\n",
              "    cursor: pointer;\n",
              "    display: none;\n",
              "    fill: var(--fill-color);\n",
              "    height: 32px;\n",
              "    padding: 0;\n",
              "    width: 32px;\n",
              "  }\n",
              "\n",
              "  .colab-df-quickchart:hover {\n",
              "    background-color: var(--hover-bg-color);\n",
              "    box-shadow: 0 1px 2px rgba(60, 64, 67, 0.3), 0 1px 3px 1px rgba(60, 64, 67, 0.15);\n",
              "    fill: var(--button-hover-fill-color);\n",
              "  }\n",
              "\n",
              "  .colab-df-quickchart-complete:disabled,\n",
              "  .colab-df-quickchart-complete:disabled:hover {\n",
              "    background-color: var(--disabled-bg-color);\n",
              "    fill: var(--disabled-fill-color);\n",
              "    box-shadow: none;\n",
              "  }\n",
              "\n",
              "  .colab-df-spinner {\n",
              "    border: 2px solid var(--fill-color);\n",
              "    border-color: transparent;\n",
              "    border-bottom-color: var(--fill-color);\n",
              "    animation:\n",
              "      spin 1s steps(1) infinite;\n",
              "  }\n",
              "\n",
              "  @keyframes spin {\n",
              "    0% {\n",
              "      border-color: transparent;\n",
              "      border-bottom-color: var(--fill-color);\n",
              "      border-left-color: var(--fill-color);\n",
              "    }\n",
              "    20% {\n",
              "      border-color: transparent;\n",
              "      border-left-color: var(--fill-color);\n",
              "      border-top-color: var(--fill-color);\n",
              "    }\n",
              "    30% {\n",
              "      border-color: transparent;\n",
              "      border-left-color: var(--fill-color);\n",
              "      border-top-color: var(--fill-color);\n",
              "      border-right-color: var(--fill-color);\n",
              "    }\n",
              "    40% {\n",
              "      border-color: transparent;\n",
              "      border-right-color: var(--fill-color);\n",
              "      border-top-color: var(--fill-color);\n",
              "    }\n",
              "    60% {\n",
              "      border-color: transparent;\n",
              "      border-right-color: var(--fill-color);\n",
              "    }\n",
              "    80% {\n",
              "      border-color: transparent;\n",
              "      border-right-color: var(--fill-color);\n",
              "      border-bottom-color: var(--fill-color);\n",
              "    }\n",
              "    90% {\n",
              "      border-color: transparent;\n",
              "      border-bottom-color: var(--fill-color);\n",
              "    }\n",
              "  }\n",
              "</style>\n",
              "\n",
              "  <script>\n",
              "    async function quickchart(key) {\n",
              "      const quickchartButtonEl =\n",
              "        document.querySelector('#' + key + ' button');\n",
              "      quickchartButtonEl.disabled = true;  // To prevent multiple clicks.\n",
              "      quickchartButtonEl.classList.add('colab-df-spinner');\n",
              "      try {\n",
              "        const charts = await google.colab.kernel.invokeFunction(\n",
              "            'suggestCharts', [key], {});\n",
              "      } catch (error) {\n",
              "        console.error('Error during call to suggestCharts:', error);\n",
              "      }\n",
              "      quickchartButtonEl.classList.remove('colab-df-spinner');\n",
              "      quickchartButtonEl.classList.add('colab-df-quickchart-complete');\n",
              "    }\n",
              "    (() => {\n",
              "      let quickchartButtonEl =\n",
              "        document.querySelector('#df-9394d5f2-8fc6-4087-a1e6-299461af5678 button');\n",
              "      quickchartButtonEl.style.display =\n",
              "        google.colab.kernel.accessAllowed ? 'block' : 'none';\n",
              "    })();\n",
              "  </script>\n",
              "</div>\n",
              "\n",
              "    </div>\n",
              "  </div>\n"
            ],
            "application/vnd.google.colaboratory.intrinsic+json": {
              "type": "dataframe",
              "summary": "{\n  \"name\": \"filled_grid_gp\",\n  \"rows\": 5,\n  \"fields\": [\n    {\n      \"column\": \"day\",\n      \"properties\": {\n        \"dtype\": \"number\",\n        \"std\": 0,\n        \"min\": 7,\n        \"max\": 7,\n        \"num_unique_values\": 1,\n        \"samples\": [\n          7\n        ],\n        \"semantic_type\": \"\",\n        \"description\": \"\"\n      }\n    },\n    {\n      \"column\": \"hour\",\n      \"properties\": {\n        \"dtype\": \"number\",\n        \"std\": 2,\n        \"min\": 14,\n        \"max\": 20,\n        \"num_unique_values\": 5,\n        \"samples\": [\n          15\n        ],\n        \"semantic_type\": \"\",\n        \"description\": \"\"\n      }\n    },\n    {\n      \"column\": \"service_time\",\n      \"properties\": {\n        \"dtype\": \"number\",\n        \"std\": 2.2154060724249294,\n        \"min\": 2.4357456418874825,\n        \"max\": 7.9847824892395485,\n        \"num_unique_values\": 5,\n        \"samples\": [\n          7.47380671732698\n        ],\n        \"semantic_type\": \"\",\n        \"description\": \"\"\n      }\n    }\n  ]\n}"
            }
          },
          "metadata": {},
          "execution_count": 41
        }
      ],
      "source": [
        "import pandas as pd\n",
        "\n",
        "# Calculate service times\n",
        "df_tot = df_tot.copy()\n",
        "\n",
        "# Create a dictionary to store service times for each customer\n",
        "service_times = {}\n",
        "\n",
        "# Iterate over each row in the DataFrame\n",
        "for _, row in df_tot.iterrows():\n",
        "    customer_id = row['customer_id']\n",
        "    event = row['event']\n",
        "    time_stamp = row['time_stamp']\n",
        "\n",
        "    if event == 'Enter_service':\n",
        "        if customer_id not in service_times:\n",
        "            service_times[customer_id] = {}\n",
        "        service_times[customer_id]['enter_service'] = time_stamp\n",
        "    elif event == 'Departure':\n",
        "        if customer_id in service_times:\n",
        "            service_times[customer_id]['departure'] = time_stamp\n",
        "\n",
        "# Calculate service times and add them to the DataFrame\n",
        "service_times_list = []\n",
        "for customer_id, times in service_times.items():\n",
        "    if 'enter_service' in times and 'departure' in times:\n",
        "        service_time = times['departure'] - times['enter_service']\n",
        "        service_times_list.append({\n",
        "            'customer_id': customer_id,\n",
        "            'service_time': service_time,\n",
        "            'day': df_tot[df_tot['customer_id'] == customer_id]['day'].values[0],\n",
        "            'hour': df_tot[df_tot['customer_id'] == customer_id]['hour'].values[0]\n",
        "        })\n",
        "\n",
        "service_times_df = pd.DataFrame(service_times_list)\n",
        "\n",
        "# Aggregate service times by day and hour\n",
        "mean_service_times_df = service_times_df.groupby(['day', 'hour'])['service_time'].mean().reset_index()\n",
        "\n",
        "# Identify empty and filled cells\n",
        "days = range(1, 8)  # days range from 1 to 7\n",
        "hours = range(0, 24)  # hours range from 0 to 23\n",
        "day_hour_combinations = pd.DataFrame([(day, hour) for day in days for hour in hours], columns=['day', 'hour'])\n",
        "\n",
        "# Merge to find empty cells\n",
        "merged_df = pd.merge(day_hour_combinations, mean_service_times_df, on=['day', 'hour'], how='left')\n",
        "\n",
        "# Identify empty and filled cells\n",
        "empty_cells = merged_df[merged_df['service_time'].isna()]\n",
        "filled_cells = merged_df[~merged_df['service_time'].isna()]\n",
        "\n",
        "# Prepare training and test sets\n",
        "X_train = filled_cells[['day', 'hour']]\n",
        "y_train = filled_cells['service_time']\n",
        "X_test = empty_cells[['day', 'hour']]\n",
        "\n",
        "print(\"Training Set (Filled Cells):\")\n",
        "print(X_train.head())\n",
        "print(y_train.head())\n",
        "\n",
        "print(\"Test Set (Empty Cells):\")\n",
        "print(X_test.head())\n",
        "\n",
        "\n",
        "# Standardize the data\n",
        "scaler = StandardScaler()\n",
        "X_train_scaled = scaler.fit_transform(X_train)\n",
        "X_train_scaled = np.asarray(X_train_scaled)\n",
        "y_train = np.asarray(y_train)\n",
        "X_test_scaled = scaler.transform(X_test)\n",
        "X_test_scaled = np.asarray(X_test_scaled)\n",
        "with pm.Model() as gp_model:\n",
        "\n",
        "    ## Defining the priors\n",
        "    l = pm.HalfCauchy(\"l\", beta=3, shape=(2,))\n",
        "    sf2 = pm.HalfCauchy(\"sf2\", beta=3)\n",
        "\n",
        "    ## 6. Defining the kernel\n",
        "    kenral_option = 2 # The information can have certain fluctuations\n",
        "    # option 1: expquad\n",
        "    if kenral_option == 1:\n",
        "      K = pm.gp.cov.ExpQuad(2, l) * sf2**2\n",
        "    elif kenral_option == 2:\n",
        "      # option 2: Matern32\n",
        "      K = pm.gp.cov.Matern32(2, l) * sf2**2\n",
        "    elif kenral_option == 3:\n",
        "      # option 3: Matern 52\n",
        "      K = pm.gp.cov.Matern52(2, l) * sf2**2\n",
        "\n",
        "    # 5. Mean functions\n",
        "    mean_func = pm.gp.mean.Linear(coeffs=[1, 1])\n",
        "\n",
        "    ## 4. Defining the GP process\n",
        "    gp_priors = pm.gp.Marginal(mean_func=mean_func, cov_func=K)\n",
        "\n",
        "    ## 3. Prior of the noise\n",
        "    sigma = pm.HalfCauchy('sigma', beta=5)\n",
        "\n",
        "    ## 2. Defining the likelihood\n",
        "    y_obs = gp_priors.marginal_likelihood('y_obs', X=X_train_scaled, y=y_train, noise=sigma)\n",
        "\n",
        "    ## 1. sampling mcmc\n",
        "    trace_gp = pm.sample(1000, tune=1000, chains=2, cores=1)\n",
        "\n",
        "# Posterior predictive check\n",
        "with gp_model:\n",
        "    f_pred = gp_priors.conditional('f_pred', X_test_scaled)\n",
        "    pred_samples = pm.sample_posterior_predictive(trace_gp, var_names=['f_pred'])\n",
        "\n",
        "# Extract the predictions\n",
        "pred_mean_gp = np.mean(pred_samples.posterior_predictive['f_pred'], axis=(0, 1))\n",
        "\n",
        "# Fill the empty cells with the GP predictions\n",
        "empty_cells.loc[:, 'service_time'] = pred_mean_gp\n",
        "\n",
        "# Combine filled and empty cells\n",
        "filled_grid_gp = pd.concat([filled_cells, empty_cells], ignore_index=True)\n",
        "\n",
        "filled_grid_gp.tail()"
      ]
    },
    {
      "cell_type": "markdown",
      "id": "ngezFxf2lH8a",
      "metadata": {
        "id": "ngezFxf2lH8a"
      },
      "source": [
        "We will take the predictions of our GP model including the truth data i.e. filled_grid_gp that we found in part 2 section 2, and convert the service_time column into a 7 x 24 matrix."
      ]
    },
    {
      "cell_type": "code",
      "execution_count": 42,
      "id": "Wd1tLYvuhsmW",
      "metadata": {
        "id": "Wd1tLYvuhsmW"
      },
      "outputs": [],
      "source": [
        "# Pivot the DataFrame to get days as rows and hours as columns\n",
        "service_time_matrix = filled_grid_gp.pivot(index='day', columns='hour', values='service_time')\n",
        "\n",
        "# Ensure the matrix has 7 rows (days) and 24 columns (hours)\n",
        "# Reindex to ensure all days and hours are present\n",
        "full_index = pd.Index(range(1, 8), name='day')\n",
        "full_columns = pd.Index(range(0, 24), name='hour')\n",
        "\n",
        "service_time_matrix = service_time_matrix.reindex(index=full_index, columns=full_columns)\n",
        "\n",
        "# Convert to a NumPy array\n",
        "service_time_matrix = service_time_matrix.to_numpy()"
      ]
    },
    {
      "cell_type": "code",
      "execution_count": 43,
      "id": "iMvfrEJyhsjR",
      "metadata": {
        "id": "iMvfrEJyhsjR"
      },
      "outputs": [],
      "source": [
        "df_  = Sim_func(service_time_matrix)\n",
        "## Converting the simulation results into a numpy array from a PD dataframe.\n",
        "preds_results = np.array(df_.iloc[:,2:]).mean(axis = 1)"
      ]
    },
    {
      "cell_type": "code",
      "execution_count": 44,
      "id": "hSlvLEbjhsgt",
      "metadata": {
        "id": "hSlvLEbjhsgt",
        "colab": {
          "base_uri": "https://localhost:8080/"
        },
        "outputId": "f255428f-363a-4105-b577-cce8a041087d"
      },
      "outputs": [
        {
          "output_type": "stream",
          "name": "stdout",
          "text": [
            "Mean squared error is:  0.1567\n"
          ]
        }
      ],
      "source": [
        "from sklearn.metrics import mean_squared_error\n",
        "mse = mean_squared_error(true_results, preds_results)\n",
        "print(f\"Mean squared error is: {mse: .4f}\")"
      ]
    },
    {
      "cell_type": "markdown",
      "id": "21r1vQdqB61o",
      "metadata": {
        "id": "21r1vQdqB61o"
      },
      "source": [
        "**2. Plot of the average waiting as a function of time of the week (following the exmaple from above Tuesday between 01:00 to 02:00 is the 50th hour):**"
      ]
    },
    {
      "cell_type": "code",
      "execution_count": 45,
      "id": "9c3ec7a9-2d60-4f78-96b0-d8fa9007d268",
      "metadata": {
        "id": "9c3ec7a9-2d60-4f78-96b0-d8fa9007d268",
        "colab": {
          "base_uri": "https://localhost:8080/",
          "height": 472
        },
        "outputId": "c3ce2d0f-4292-4b28-f6a3-e570e41ab64f"
      },
      "outputs": [
        {
          "output_type": "display_data",
          "data": {
            "text/plain": [
              "<Figure size 640x480 with 1 Axes>"
            ],
            "image/png": "[encoded data removed]"
          },
          "metadata": {}
        }
      ],
      "source": [
        "plt.figure()\n",
        "plt.plot(np.arange(167), true_results, label = 'True')\n",
        "plt.plot(np.arange(167), preds_results, label = 'Predicted')\n",
        "\n",
        "plt.legend(loc='best')\n",
        "plt.xlabel('Hour of the week')\n",
        "plt.ylabel('Average waiting time')\n",
        "plt.title('Average waiting as a function of time of the week')\n",
        "\n",
        "plt.legend()\n",
        "plt.show()"
      ]
    },
    {
      "cell_type": "code",
      "execution_count": 45,
      "id": "2a8eefca-51fb-4da1-8f87-f13c7969413f",
      "metadata": {
        "id": "2a8eefca-51fb-4da1-8f87-f13c7969413f"
      },
      "outputs": [],
      "source": []
    }
  ],
  "metadata": {
    "colab": {
      "provenance": []
    },
    "kernelspec": {
      "display_name": "Python 3 (ipykernel)",
      "language": "python",
      "name": "python3"
    },
    "language_info": {
      "codemirror_mode": {
        "name": "ipython",
        "version": 3
      },
      "file_extension": ".py",
      "mimetype": "text/x-python",
      "name": "python",
      "nbconvert_exporter": "python",
      "pygments_lexer": "ipython3",
      "version": "3.9.13"
    }
  },
  "nbformat": 4,
  "nbformat_minor": 5
}